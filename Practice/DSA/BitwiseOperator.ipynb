{
 "cells": [
  {
   "cell_type": "markdown",
   "id": "177306fd",
   "metadata": {},
   "source": [
    "# Odd Or Even"
   ]
  },
  {
   "cell_type": "code",
   "execution_count": 10,
   "id": "5d26aa68",
   "metadata": {},
   "outputs": [],
   "source": [
    "def OddEven(*Numbers):\n",
    "    for i in Numbers:\n",
    "        print(f\"Number : {i} is \",end=\"\")\n",
    "        if(i == 0):\n",
    "            print(\"not Even or Odd\")\n",
    "        elif(i & 1 == 1):\n",
    "            print(\"Odd\")\n",
    "        else:\n",
    "            print(\"Even\")"
   ]
  },
  {
   "cell_type": "code",
   "execution_count": 11,
   "id": "b50fc319",
   "metadata": {},
   "outputs": [
    {
     "name": "stdout",
     "output_type": "stream",
     "text": [
      "Number : 5 is Odd\n"
     ]
    }
   ],
   "source": [
    "OddEven(5)"
   ]
  },
  {
   "cell_type": "code",
   "execution_count": 12,
   "id": "a4bb7a47",
   "metadata": {},
   "outputs": [
    {
     "name": "stdout",
     "output_type": "stream",
     "text": [
      "Number : 5 is Odd\n",
      "Number : 66 is Even\n",
      "Number : 8 is Even\n",
      "Number : 9 is Odd\n",
      "Number : 1 is Odd\n",
      "Number : 0 is not Even or Odd\n"
     ]
    }
   ],
   "source": [
    "OddEven(5,66,8,9,1,0)"
   ]
  },
  {
   "cell_type": "markdown",
   "id": "60918ad8",
   "metadata": {},
   "source": [
    "# Swapping two variables without temp"
   ]
  },
  {
   "cell_type": "code",
   "execution_count": null,
   "id": "442900dd",
   "metadata": {},
   "outputs": [],
   "source": [
    "def Swap(a,b):\n",
    "    a = a^b\n",
    "    b = a^b\n",
    "    a = a^b\n",
    "    print(a,b)"
   ]
  },
  {
   "cell_type": "code",
   "execution_count": 14,
   "id": "2780c6b4",
   "metadata": {},
   "outputs": [
    {
     "data": {
      "text/plain": [
       "(3, 5)"
      ]
     },
     "execution_count": 14,
     "metadata": {},
     "output_type": "execute_result"
    }
   ],
   "source": [
    "Swap(5,3)"
   ]
  },
  {
   "cell_type": "markdown",
   "id": "e8251e8f",
   "metadata": {},
   "source": [
    "# Find single non-repeating element"
   ]
  },
  {
   "cell_type": "code",
   "execution_count": 17,
   "id": "7485ed85",
   "metadata": {},
   "outputs": [
    {
     "name": "stdout",
     "output_type": "stream",
     "text": [
      "0\n",
      "0\n"
     ]
    }
   ],
   "source": [
    "print(3 ^ 3)\n",
    "print(10 ^ 10)"
   ]
  },
  {
   "cell_type": "code",
   "execution_count": 29,
   "id": "671c6f82",
   "metadata": {},
   "outputs": [],
   "source": [
    "def Check(*nums):\n",
    "    print(type(nums))\n",
    "    \n",
    "    Repeated = 0\n",
    "    for i in nums:\n",
    "        Repeated ^= i\n",
    "    print(Repeated)\n",
    "    "
   ]
  },
  {
   "cell_type": "code",
   "execution_count": 32,
   "id": "91aa8875",
   "metadata": {},
   "outputs": [
    {
     "name": "stdout",
     "output_type": "stream",
     "text": [
      "<class 'tuple'>\n",
      "10\n"
     ]
    }
   ],
   "source": [
    "Check(1,2,3,4,4,3,1,8)"
   ]
  },
  {
   "cell_type": "code",
   "execution_count": 54,
   "id": "fe9e6be3",
   "metadata": {},
   "outputs": [
    {
     "name": "stdout",
     "output_type": "stream",
     "text": [
      "1 ^ 0 : 1 \t 2 ^ 0 : 2 \t 3 ^ 0 : 3 \t 4 ^ 0 : 4 \t 5 ^ 0 : 5/t\n",
      "1 ^ 1 : 0 \t 2 ^ 1 : 3 \t 3 ^ 1 : 2 \t 4 ^ 1 : 5 \t 5 ^ 1 : 4/t\n",
      "1 ^ 2 : 3 \t 2 ^ 2 : 0 \t 3 ^ 2 : 1 \t 4 ^ 2 : 6 \t 5 ^ 2 : 7/t\n",
      "1 ^ 3 : 2 \t 2 ^ 3 : 1 \t 3 ^ 3 : 0 \t 4 ^ 3 : 7 \t 5 ^ 3 : 6/t\n",
      "1 ^ 4 : 5 \t 2 ^ 4 : 6 \t 3 ^ 4 : 7 \t 4 ^ 4 : 0 \t 5 ^ 4 : 1/t\n",
      "1 ^ 5 : 4 \t 2 ^ 5 : 7 \t 3 ^ 5 : 6 \t 4 ^ 5 : 1 \t 5 ^ 5 : 0/t\n",
      "1 ^ 6 : 7 \t 2 ^ 6 : 4 \t 3 ^ 6 : 5 \t 4 ^ 6 : 2 \t 5 ^ 6 : 3/t\n",
      "1 ^ 7 : 6 \t 2 ^ 7 : 5 \t 3 ^ 7 : 4 \t 4 ^ 7 : 3 \t 5 ^ 7 : 2/t\n",
      "1 ^ 8 : 9 \t 2 ^ 8 : 10 \t 3 ^ 8 : 11 \t 4 ^ 8 : 12 \t 5 ^ 8 : 13/t\n",
      "1 ^ 9 : 8 \t 2 ^ 9 : 11 \t 3 ^ 9 : 10 \t 4 ^ 9 : 13 \t 5 ^ 9 : 12/t\n",
      "1 ^ 10 : 11 \t 2 ^ 10 : 8 \t 3 ^ 10 : 9 \t 4 ^ 10 : 14 \t 5 ^ 10 : 15/t\n",
      "1 ^ 11 : 10 \t 2 ^ 11 : 9 \t 3 ^ 11 : 8 \t 4 ^ 11 : 15 \t 5 ^ 11 : 14/t\n",
      "1 ^ 12 : 13 \t 2 ^ 12 : 14 \t 3 ^ 12 : 15 \t 4 ^ 12 : 8 \t 5 ^ 12 : 9/t\n",
      "1 ^ 13 : 12 \t 2 ^ 13 : 15 \t 3 ^ 13 : 14 \t 4 ^ 13 : 9 \t 5 ^ 13 : 8/t\n",
      "1 ^ 14 : 15 \t 2 ^ 14 : 12 \t 3 ^ 14 : 13 \t 4 ^ 14 : 10 \t 5 ^ 14 : 11/t\n",
      "1 ^ 15 : 14 \t 2 ^ 15 : 13 \t 3 ^ 15 : 12 \t 4 ^ 15 : 11 \t 5 ^ 15 : 10/t\n",
      "1 ^ 16 : 17 \t 2 ^ 16 : 18 \t 3 ^ 16 : 19 \t 4 ^ 16 : 20 \t 5 ^ 16 : 21/t\n",
      "1 ^ 17 : 16 \t 2 ^ 17 : 19 \t 3 ^ 17 : 18 \t 4 ^ 17 : 21 \t 5 ^ 17 : 20/t\n",
      "1 ^ 18 : 19 \t 2 ^ 18 : 16 \t 3 ^ 18 : 17 \t 4 ^ 18 : 22 \t 5 ^ 18 : 23/t\n",
      "1 ^ 19 : 18 \t 2 ^ 19 : 17 \t 3 ^ 19 : 16 \t 4 ^ 19 : 23 \t 5 ^ 19 : 22/t\n"
     ]
    }
   ],
   "source": [
    "for i in range(20):\n",
    "    print(f\"1 ^ {i} : {1^i} \\t 2 ^ {i} : {2^i} \\t 3 ^ {i} : {3^i} \\t 4 ^ {i} : {4^i} \\t 5 ^ {i} : {5^i}/t\")"
   ]
  },
  {
   "cell_type": "code",
   "execution_count": null,
   "id": "fd007c05",
   "metadata": {},
   "outputs": [],
   "source": []
  }
 ],
 "metadata": {
  "kernelspec": {
   "display_name": "base",
   "language": "python",
   "name": "python3"
  },
  "language_info": {
   "codemirror_mode": {
    "name": "ipython",
    "version": 3
   },
   "file_extension": ".py",
   "mimetype": "text/x-python",
   "name": "python",
   "nbconvert_exporter": "python",
   "pygments_lexer": "ipython3",
   "version": "3.11.5"
  }
 },
 "nbformat": 4,
 "nbformat_minor": 5
}
