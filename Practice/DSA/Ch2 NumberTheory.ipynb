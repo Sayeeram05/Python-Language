{
 "cells": [
  {
   "cell_type": "markdown",
   "id": "73ade02c",
   "metadata": {},
   "source": [
    "# Prime Number"
   ]
  },
  {
   "cell_type": "code",
   "execution_count": 14,
   "id": "6b6c7169",
   "metadata": {},
   "outputs": [
    {
     "name": "stdout",
     "output_type": "stream",
     "text": [
      "5 is a Prime\n"
     ]
    }
   ],
   "source": [
    "try:\n",
    "    num = int(input(\"Number : \"))\n",
    "    if(num < 2):\n",
    "        print(f\"{num} is not Prime\")\n",
    "    else:\n",
    "        for i in range(2,int(num**0.5)+1):\n",
    "            if(num % i == 0):\n",
    "                print(f\"{num} is not Prime\")\n",
    "                break\n",
    "        else:\n",
    "            print(f\"{num} is a Prime\")\n",
    "except:\n",
    "    print(\"Invalid Number\")\n",
    "\n"
   ]
  },
  {
   "cell_type": "markdown",
   "id": "6b9b4b90",
   "metadata": {},
   "source": [
    "# Sieve of Eratosthenes\n",
    "\n",
    "The Sieve of Eratosthenes is an ancient and efficient algorithm used to find all prime numbers up to a given number n. It was developed by the Greek mathematician Eratosthenes around 200 BCE.\n",
    "\n",
    "Meaning (in simple terms):\n",
    "It is a method to systematically \"sift out\" the composite (non-prime) numbers from a list of numbers starting from 2, so that only prime numbers are left.\n",
    "\n",
    "How it works:\n",
    "- Start with a list of numbers from 2 to n.\n",
    "- Begin with the first number (2) – it is a prime.\n",
    "- Eliminate (cross out) all multiples of 2 from the list.\n",
    "- Move to the next number that hasn’t been crossed out (3) – it is a prime.\n",
    "- Eliminate all multiples of 3.\n",
    "- Repeat the process for the next uncrossed number (5, then 7, and so on), up to √n.\n",
    "- The numbers that remain unmarked are all primes.\n"
   ]
  },
  {
   "cell_type": "code",
   "execution_count": 15,
   "id": "ad2fe5b9",
   "metadata": {},
   "outputs": [
    {
     "name": "stdout",
     "output_type": "stream",
     "text": [
      "31\n"
     ]
    },
    {
     "data": {
      "text/plain": [
       "[2, 3, 5, 7, 11, 13, 17, 19, 23, 29]"
      ]
     },
     "execution_count": 15,
     "metadata": {},
     "output_type": "execute_result"
    }
   ],
   "source": [
    "def sieve(num):\n",
    "    Primenums = [True] * (num+1)\n",
    "    print(len(Primenums))\n",
    "    Primenums[0:2] = [False] * 2  # 0 & 1 not prime\n",
    "    \n",
    "    for i in range(2,int(num**0.5)+1):\n",
    "        if(Primenums[i]):\n",
    "            for j in range(i*i , num+1, i):\n",
    "                Primenums[j] = False\n",
    "    \n",
    "    return [index for index,value in enumerate(Primenums) if(value)]\n",
    "\n",
    "sieve(30)\n",
    "    \n",
    "    "
   ]
  },
  {
   "cell_type": "markdown",
   "id": "b824ebdf",
   "metadata": {},
   "source": [
    "# Maths Tricks"
   ]
  },
  {
   "cell_type": "code",
   "execution_count": 16,
   "id": "bffb2818",
   "metadata": {},
   "outputs": [
    {
     "data": {
      "text/plain": [
       "3"
      ]
     },
     "execution_count": 16,
     "metadata": {},
     "output_type": "execute_result"
    }
   ],
   "source": [
    "# Floor(x/y)\n",
    "\n",
    "10//3"
   ]
  },
  {
   "cell_type": "code",
   "execution_count": 17,
   "id": "f10adc11",
   "metadata": {},
   "outputs": [
    {
     "data": {
      "text/plain": [
       "2"
      ]
     },
     "execution_count": 17,
     "metadata": {},
     "output_type": "execute_result"
    }
   ],
   "source": [
    "# ceil(x / y) → (x + y - 1) // y\n",
    "#ceil() is a mathematical function that rounds a number up to the nearest integer.\n",
    "\n",
    "(2 + 1 -1) // 1"
   ]
  },
  {
   "cell_type": "code",
   "execution_count": 68,
   "id": "7f5394a2",
   "metadata": {},
   "outputs": [],
   "source": [
    "# sqrt root\n",
    "\n",
    "16**0.5\n",
    "\n",
    "def sqrt(nums):\n",
    "    l = 0\n",
    "    h = nums\n",
    "    while l < h:\n",
    "        m = (l + h) // 2\n",
    "        if(m*m == nums or l == m):\n",
    "            return m\n",
    "        elif(m*m > nums):\n",
    "            h = m\n",
    "        else:\n",
    "            l = m\n",
    "        print(l,h,m)\n",
    "        \n",
    "def int_sqrt(nums):\n",
    "    l = 0\n",
    "    h = nums\n",
    "    while l <= h:\n",
    "        m = (l+h) // 2\n",
    "        print(\"b\",l,h,m)\n",
    "        if(m*m <= nums):\n",
    "            l = m + 1\n",
    "        else:\n",
    "            h = m - 1\n",
    "        print(\"h\",l,h,m)\n",
    "    return h\n",
    "        \n",
    "\n"
   ]
  },
  {
   "cell_type": "code",
   "execution_count": 66,
   "id": "74c32c44",
   "metadata": {},
   "outputs": [
    {
     "name": "stdout",
     "output_type": "stream",
     "text": [
      "0 5 5\n",
      "2 5 2\n",
      "3 5 3\n",
      "3 4 4\n",
      "3\n",
      "0 8 8\n",
      "4\n",
      "0\n",
      "None\n"
     ]
    }
   ],
   "source": [
    "print(sqrt(10))  # Output: 3\n",
    "print(sqrt(16))  # Output: 4\n",
    "print(sqrt(1))   # Output: 1\n",
    "print(sqrt(0))   # Output: 0"
   ]
  },
  {
   "cell_type": "code",
   "execution_count": 69,
   "id": "3ab82a8c",
   "metadata": {},
   "outputs": [
    {
     "name": "stdout",
     "output_type": "stream",
     "text": [
      "b 0 10 5\n",
      "h 0 4 5\n",
      "b 0 4 2\n",
      "h 3 4 2\n",
      "b 3 4 3\n",
      "h 4 4 3\n",
      "b 4 4 4\n",
      "h 4 3 4\n",
      "3\n",
      "\n",
      "\n"
     ]
    }
   ],
   "source": [
    "print(int_sqrt(10),end=\"\\n\\n\\n\")  # Output: 3\n"
   ]
  }
 ],
 "metadata": {
  "kernelspec": {
   "display_name": "base",
   "language": "python",
   "name": "python3"
  },
  "language_info": {
   "codemirror_mode": {
    "name": "ipython",
    "version": 3
   },
   "file_extension": ".py",
   "mimetype": "text/x-python",
   "name": "python",
   "nbconvert_exporter": "python",
   "pygments_lexer": "ipython3",
   "version": "3.11.5"
  }
 },
 "nbformat": 4,
 "nbformat_minor": 5
}
