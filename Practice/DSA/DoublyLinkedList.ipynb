{
 "cells": [
  {
   "cell_type": "code",
   "execution_count": 77,
   "id": "b7b010cf",
   "metadata": {},
   "outputs": [],
   "source": [
    "class node:\n",
    "    def __init__(self,data,prev = None,next = None):\n",
    "        self.prev = prev\n",
    "        self.next = next\n",
    "        self.data = data               "
   ]
  },
  {
   "cell_type": "code",
   "execution_count": 78,
   "id": "0c7d63ce",
   "metadata": {},
   "outputs": [],
   "source": [
    "class LinkedList:\n",
    "    def __init__(self):\n",
    "        self.head = None\n",
    "        self.tail = None\n",
    "    \n",
    "    def isempty(self):\n",
    "        return self.head is None\n",
    "    \n",
    "    #Insertion\n",
    "    def AddAtHead(self,data):\n",
    "        NewNode = node(data)\n",
    "        if self.isempty():\n",
    "            self.head = self.tail = NewNode\n",
    "        else:\n",
    "            NewNode.next = self.head\n",
    "            self.head.prev = NewNode\n",
    "            self.head = NewNode\n",
    "            \n",
    "        self.TraversalForward()\n",
    "        self.TraversalBackward()\n",
    "    \n",
    "    def AddAtTail(self,data):\n",
    "        NewNode = node(data)\n",
    "        if self.isempty():\n",
    "            self.head = self.tail = NewNode\n",
    "        else:\n",
    "            NewNode.prev = self.tail\n",
    "            self.tail.next = NewNode\n",
    "            self.tail = NewNode\n",
    "        self.TraversalForward()\n",
    "        self.TraversalBackward()\n",
    "    \n",
    "    def AddAt(self,data,position):\n",
    "        pass\n",
    "    \n",
    "    \n",
    "    # Deletion\n",
    "    \n",
    "    def DeleteAtHead(self):\n",
    "        pass\n",
    "    \n",
    "    \n",
    "    def DeleteAtTail(self):\n",
    "        pass\n",
    "    \n",
    "    def DeleteAt(self,data,position):\n",
    "        pass\n",
    "    \n",
    "    \n",
    "\n",
    "        \n",
    "    #Traversal\n",
    "    def TraversalForward(self):\n",
    "        print(\"Forward : \",end=\"\")\n",
    "        Temp = self.head\n",
    "        while(Temp != None):\n",
    "            print(Temp.data,end=\" \")\n",
    "            Temp = Temp.next\n",
    "        print()\n",
    "        \n",
    "    def TraversalBackward(self):\n",
    "        print(\"Backward : \",end=\"\")\n",
    "        Temp = self.tail\n",
    "        while(Temp != None):\n",
    "            print(Temp.data,end=\" \")\n",
    "            Temp = Temp.prev\n",
    "        print()\n",
    "            "
   ]
  },
  {
   "cell_type": "code",
   "execution_count": 79,
   "id": "2354c35f",
   "metadata": {},
   "outputs": [],
   "source": [
    "L1 = LinkedList()"
   ]
  },
  {
   "cell_type": "code",
   "execution_count": 80,
   "id": "4ffaab53",
   "metadata": {},
   "outputs": [
    {
     "name": "stdout",
     "output_type": "stream",
     "text": [
      "Forward : 4 \n",
      "Backward : 4 \n"
     ]
    }
   ],
   "source": [
    "L1.AddAtHead(4)"
   ]
  },
  {
   "cell_type": "code",
   "execution_count": 81,
   "id": "8a85ffd0",
   "metadata": {},
   "outputs": [
    {
     "name": "stdout",
     "output_type": "stream",
     "text": [
      "Forward : 5 4 \n",
      "Backward : 4 5 \n"
     ]
    }
   ],
   "source": [
    "L1.AddAtHead(5)"
   ]
  },
  {
   "cell_type": "code",
   "execution_count": 82,
   "id": "495516f8",
   "metadata": {},
   "outputs": [
    {
     "name": "stdout",
     "output_type": "stream",
     "text": [
      "Forward : 0 5 4 \n",
      "Backward : 4 5 0 \n"
     ]
    }
   ],
   "source": [
    "L1.AddAtHead(0)"
   ]
  },
  {
   "cell_type": "code",
   "execution_count": 83,
   "id": "00db8c9f",
   "metadata": {},
   "outputs": [
    {
     "name": "stdout",
     "output_type": "stream",
     "text": [
      "Forward : 0 5 4 6 \n",
      "Backward : 6 4 5 0 \n"
     ]
    }
   ],
   "source": [
    "L1.AddAtTail(6)"
   ]
  },
  {
   "cell_type": "code",
   "execution_count": 84,
   "id": "a23c1fdc",
   "metadata": {},
   "outputs": [
    {
     "name": "stdout",
     "output_type": "stream",
     "text": [
      "Forward : 0 5 4 6 10 \n",
      "Backward : 10 6 4 5 0 \n"
     ]
    }
   ],
   "source": [
    "L1.AddAtTail(10)"
   ]
  },
  {
   "cell_type": "code",
   "execution_count": null,
   "id": "cf3ce007",
   "metadata": {},
   "outputs": [],
   "source": []
  }
 ],
 "metadata": {
  "kernelspec": {
   "display_name": "base",
   "language": "python",
   "name": "python3"
  },
  "language_info": {
   "codemirror_mode": {
    "name": "ipython",
    "version": 3
   },
   "file_extension": ".py",
   "mimetype": "text/x-python",
   "name": "python",
   "nbconvert_exporter": "python",
   "pygments_lexer": "ipython3",
   "version": "3.11.5"
  }
 },
 "nbformat": 4,
 "nbformat_minor": 5
}
