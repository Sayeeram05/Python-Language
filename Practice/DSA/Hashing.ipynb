{
 "cells": [
  {
   "cell_type": "code",
   "execution_count": 11,
   "id": "425689d6",
   "metadata": {},
   "outputs": [],
   "source": [
    "class Chaining:\n",
    "    def __init__(self,Bucket):\n",
    "        self.Bucket = Bucket\n",
    "        self.HashTabel = [[] for _ in range(self.Bucket)]\n",
    "    \n",
    "    def Insert(self,Data):\n",
    "        Index = Data % self.Bucket\n",
    "        self.HashTabel[Index].append(Data)\n",
    "    \n",
    "    def Delete(self,Data):\n",
    "        Index = Data % self.Bucket\n",
    "        if(Data in self.HashTabel[Index]):\n",
    "            self.HashTabel[Index].remove(Data)\n",
    "            return True\n",
    "        else:\n",
    "            return False\n",
    "    def Search(self,Data):\n",
    "        Index = Data % self.Bucket\n",
    "        if(Data in self.HashTabel[Index]):\n",
    "            return Index\n",
    "        else:\n",
    "            return False"
   ]
  },
  {
   "cell_type": "code",
   "execution_count": 12,
   "id": "59f1e3e8",
   "metadata": {},
   "outputs": [
    {
     "data": {
      "text/plain": [
       "[[7, 14], [], [], [10], [], [], []]"
      ]
     },
     "execution_count": 12,
     "metadata": {},
     "output_type": "execute_result"
    }
   ],
   "source": [
    "C1 = Chaining(7)\n",
    "\n",
    "C1.Insert(7)\n",
    "C1.Insert(10)\n",
    "C1.Insert(14)\n",
    "\n",
    "C1.HashTabel"
   ]
  },
  {
   "cell_type": "code",
   "execution_count": 13,
   "id": "99d02aa1",
   "metadata": {},
   "outputs": [
    {
     "data": {
      "text/plain": [
       "3"
      ]
     },
     "execution_count": 13,
     "metadata": {},
     "output_type": "execute_result"
    }
   ],
   "source": [
    "C1.Search(10)"
   ]
  },
  {
   "cell_type": "code",
   "execution_count": 14,
   "id": "56925abf",
   "metadata": {},
   "outputs": [
    {
     "data": {
      "text/plain": [
       "True"
      ]
     },
     "execution_count": 14,
     "metadata": {},
     "output_type": "execute_result"
    }
   ],
   "source": [
    "C1.Delete(10)\n"
   ]
  },
  {
   "cell_type": "code",
   "execution_count": 15,
   "id": "140ad17a",
   "metadata": {},
   "outputs": [
    {
     "data": {
      "text/plain": [
       "False"
      ]
     },
     "execution_count": 15,
     "metadata": {},
     "output_type": "execute_result"
    }
   ],
   "source": [
    "C1.Search(10)"
   ]
  },
  {
   "cell_type": "code",
   "execution_count": null,
   "id": "8a7ffd99",
   "metadata": {},
   "outputs": [],
   "source": []
  }
 ],
 "metadata": {
  "kernelspec": {
   "display_name": "base",
   "language": "python",
   "name": "python3"
  },
  "language_info": {
   "codemirror_mode": {
    "name": "ipython",
    "version": 3
   },
   "file_extension": ".py",
   "mimetype": "text/x-python",
   "name": "python",
   "nbconvert_exporter": "python",
   "pygments_lexer": "ipython3",
   "version": "3.11.5"
  }
 },
 "nbformat": 4,
 "nbformat_minor": 5
}
