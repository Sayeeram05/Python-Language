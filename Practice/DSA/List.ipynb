{
 "cells": [
  {
   "cell_type": "markdown",
   "id": "2ff7b984",
   "metadata": {},
   "source": [
    "# Average or  Mean of a List"
   ]
  },
  {
   "cell_type": "code",
   "execution_count": 17,
   "id": "24b6b2a3",
   "metadata": {},
   "outputs": [],
   "source": [
    "def Mean(List):\n",
    "    Sum = 0\n",
    "    count = 0\n",
    "    for i in List:\n",
    "        Sum += i\n",
    "        count += 1\n",
    "    return Sum/count"
   ]
  },
  {
   "cell_type": "code",
   "execution_count": 18,
   "id": "2a780849",
   "metadata": {},
   "outputs": [
    {
     "data": {
      "text/plain": [
       "25.0"
      ]
     },
     "execution_count": 18,
     "metadata": {},
     "output_type": "execute_result"
    }
   ],
   "source": [
    "Mean([10,20,30,40])"
   ]
  },
  {
   "cell_type": "markdown",
   "id": "4dd25106",
   "metadata": {},
   "source": [
    "# Seperate Even And Odd"
   ]
  },
  {
   "cell_type": "code",
   "execution_count": 19,
   "id": "3b50597e",
   "metadata": {},
   "outputs": [],
   "source": [
    "def EvenOddSeperation(List):\n",
    "    Even = []\n",
    "    Odd = []\n",
    "    for i in List:\n",
    "        if(i % 2 == 0):\n",
    "            Even.append(i)\n",
    "        else:\n",
    "            Odd.append(i)\n",
    "    return Even,Odd"
   ]
  },
  {
   "cell_type": "code",
   "execution_count": 20,
   "id": "b205dba6",
   "metadata": {},
   "outputs": [
    {
     "name": "stdout",
     "output_type": "stream",
     "text": [
      "Even :  [10, 20, 30, 40, 2]\n",
      "Odd :  [3, 5, 7]\n"
     ]
    }
   ],
   "source": [
    "Even,Odd = EvenOddSeperation([10,20,30,40,2,3,5,7])\n",
    "print(\"Even : \",Even)\n",
    "print(\"Odd : \",Odd)"
   ]
  },
  {
   "cell_type": "markdown",
   "id": "179a8e9e",
   "metadata": {},
   "source": [
    "# Smallest value"
   ]
  },
  {
   "cell_type": "code",
   "execution_count": 21,
   "id": "4857bdad",
   "metadata": {},
   "outputs": [],
   "source": [
    "def Min(List):\n",
    "    Min = List[0]\n",
    "    for i in List:\n",
    "        if(i < Min):\n",
    "            Min = i\n",
    "    return Min"
   ]
  },
  {
   "cell_type": "code",
   "execution_count": 22,
   "id": "ae33f845",
   "metadata": {},
   "outputs": [
    {
     "data": {
      "text/plain": [
       "2"
      ]
     },
     "execution_count": 22,
     "metadata": {},
     "output_type": "execute_result"
    }
   ],
   "source": [
    "Min([10,20,30,40,2,3,5,7])"
   ]
  },
  {
   "cell_type": "markdown",
   "id": "432c7c40",
   "metadata": {},
   "source": [
    "# Smaller Than X"
   ]
  },
  {
   "cell_type": "code",
   "execution_count": 23,
   "id": "bd09669a",
   "metadata": {},
   "outputs": [],
   "source": [
    "def Smaller(List,X):\n",
    "    Output = []\n",
    "    for i in List:\n",
    "        if(i < X):\n",
    "            Output.append(i)\n",
    "    return Output"
   ]
  },
  {
   "cell_type": "code",
   "execution_count": 24,
   "id": "46f8bec3",
   "metadata": {},
   "outputs": [
    {
     "data": {
      "text/plain": [
       "[10, 2, 3, 5, 7]"
      ]
     },
     "execution_count": 24,
     "metadata": {},
     "output_type": "execute_result"
    }
   ],
   "source": [
    "Smaller([10,20,30,40,2,3,5,7],20)"
   ]
  },
  {
   "cell_type": "markdown",
   "id": "5453c089",
   "metadata": {},
   "source": [
    "# Compretension"
   ]
  },
  {
   "cell_type": "code",
   "execution_count": 25,
   "id": "307ec615",
   "metadata": {},
   "outputs": [],
   "source": [
    "def OnlyEven(List):\n",
    "    L1 = [i for i in List if i % 2 == 0]\n",
    "    return L1"
   ]
  },
  {
   "cell_type": "code",
   "execution_count": 26,
   "id": "894e3eea",
   "metadata": {},
   "outputs": [
    {
     "data": {
      "text/plain": [
       "[10, 20, 30, 40, 2]"
      ]
     },
     "execution_count": 26,
     "metadata": {},
     "output_type": "execute_result"
    }
   ],
   "source": [
    "OnlyEven([10,20,30,40,2,3,5,7])"
   ]
  },
  {
   "cell_type": "markdown",
   "id": "cff7fd2b",
   "metadata": {},
   "source": [
    "# Largest"
   ]
  },
  {
   "cell_type": "code",
   "execution_count": 27,
   "id": "fae97bc9",
   "metadata": {},
   "outputs": [],
   "source": [
    "def Largest(List):\n",
    "    if not List:\n",
    "        return None\n",
    "    Max = List[0]\n",
    "    for i in List:\n",
    "        if(i > Max):\n",
    "            Max = i\n",
    "    return Max"
   ]
  },
  {
   "cell_type": "code",
   "execution_count": 28,
   "id": "be0365f2",
   "metadata": {},
   "outputs": [],
   "source": [
    "Largest([])"
   ]
  },
  {
   "cell_type": "code",
   "execution_count": 29,
   "id": "ca0f9bb1",
   "metadata": {},
   "outputs": [
    {
     "data": {
      "text/plain": [
       "40"
      ]
     },
     "execution_count": 29,
     "metadata": {},
     "output_type": "execute_result"
    }
   ],
   "source": [
    "Largest([10,20,30,40,2,3,5,7])"
   ]
  },
  {
   "cell_type": "markdown",
   "id": "a8340570",
   "metadata": {},
   "source": [
    "# Secaond Largest"
   ]
  },
  {
   "cell_type": "code",
   "execution_count": 30,
   "id": "868d2eb0",
   "metadata": {},
   "outputs": [],
   "source": [
    "def SecondLargest(List):\n",
    "    if not List:\n",
    "        return None\n",
    "    lar = List[0]\n",
    "    slar = None\n",
    "    \n",
    "    for i in List[1:]:\n",
    "        if(i > lar):\n",
    "            slar = lar\n",
    "            lar = i\n",
    "        elif(i != lar):\n",
    "            if(slar is None or i > slar):\n",
    "                slar = i\n",
    "    return lar,slar\n",
    "     "
   ]
  },
  {
   "cell_type": "code",
   "execution_count": 47,
   "id": "479878a9",
   "metadata": {},
   "outputs": [
    {
     "name": "stdout",
     "output_type": "stream",
     "text": [
      "Max :  23\n",
      "Max 2 : 21\n"
     ]
    }
   ],
   "source": [
    "Max,Max2 = SecondLargest([20,3,4,23,3,5,21])\n",
    "print(\"Max : \",Max)\n",
    "print(\"Max 2 :\",Max2)\n"
   ]
  },
  {
   "cell_type": "markdown",
   "id": "afe2a469",
   "metadata": {},
   "source": [
    "# is Sorted"
   ]
  },
  {
   "cell_type": "code",
   "execution_count": 32,
   "id": "62565f58",
   "metadata": {},
   "outputs": [],
   "source": [
    "def isSorted(arr,):\n",
    "        check = None\n",
    "        for i in range(len(arr)-1):\n",
    "            if(arr[i] > arr[i+1]):\n",
    "                if(check == None):\n",
    "                    check = False\n",
    "                elif(check):\n",
    "                    return 0\n",
    "            elif(arr[i] < arr[i+1]):\n",
    "                if(check == None):\n",
    "                    check = True\n",
    "                elif(not check):\n",
    "                    return 0\n",
    "        else:\n",
    "            return 1"
   ]
  },
  {
   "cell_type": "code",
   "execution_count": 33,
   "id": "148210ba",
   "metadata": {},
   "outputs": [
    {
     "data": {
      "text/plain": [
       "1"
      ]
     },
     "execution_count": 33,
     "metadata": {},
     "output_type": "execute_result"
    }
   ],
   "source": [
    "isSorted([1,2,3,4])"
   ]
  },
  {
   "cell_type": "markdown",
   "id": "2e897aa3",
   "metadata": {},
   "source": [
    "# Reverse"
   ]
  },
  {
   "cell_type": "code",
   "execution_count": 34,
   "id": "3502a071",
   "metadata": {},
   "outputs": [],
   "source": [
    "def reverse(List):\n",
    "    i = 0\n",
    "    j = len(List)-1\n",
    "    while i < j:\n",
    "        List[i],List[j] = List[j],List[i]\n",
    "        i += 1\n",
    "        j -= 1\n",
    "    return List"
   ]
  },
  {
   "cell_type": "code",
   "execution_count": 35,
   "id": "5dde3492",
   "metadata": {},
   "outputs": [
    {
     "data": {
      "text/plain": [
       "[7, 5, 3, 2, 40, 30, 20, 10]"
      ]
     },
     "execution_count": 35,
     "metadata": {},
     "output_type": "execute_result"
    }
   ],
   "source": [
    "reverse([10,20,30,40,2,3,5,7])"
   ]
  },
  {
   "cell_type": "markdown",
   "id": "a1eb1e00",
   "metadata": {},
   "source": [
    "# Remove Duplicates"
   ]
  },
  {
   "cell_type": "code",
   "execution_count": 50,
   "id": "0f655140",
   "metadata": {},
   "outputs": [],
   "source": [
    "def RemoveDuplicates(List,Size):\n",
    "    Val = 1\n",
    "    for i in range(1,Size):\n",
    "        if(List[i-1] != List[i]):\n",
    "            List[Val] = List[i]\n",
    "            Val += 1\n",
    "            print(Val,List)\n",
    "    return Val"
   ]
  },
  {
   "cell_type": "code",
   "execution_count": 51,
   "id": "aa816c06",
   "metadata": {},
   "outputs": [
    {
     "name": "stdout",
     "output_type": "stream",
     "text": [
      "2 [10, 20, 20, 30, 30, 30, 30]\n",
      "3 [10, 20, 30, 30, 30, 30, 30]\n"
     ]
    },
    {
     "data": {
      "text/plain": [
       "3"
      ]
     },
     "execution_count": 51,
     "metadata": {},
     "output_type": "execute_result"
    }
   ],
   "source": [
    "RemoveDuplicates([10,20,20,30,30,30,30],7)\n"
   ]
  },
  {
   "cell_type": "code",
   "execution_count": 38,
   "id": "167a2e32",
   "metadata": {},
   "outputs": [],
   "source": [
    "def LeftRotate(List):\n",
    "    Temp = List[0]\n",
    "    for i in range(1,len(List)):\n",
    "        List[i-1] = List[i]\n",
    "    List[-1] = Temp\n",
    "    return List"
   ]
  },
  {
   "cell_type": "code",
   "execution_count": 39,
   "id": "37683578",
   "metadata": {},
   "outputs": [
    {
     "data": {
      "text/plain": [
       "[2, 3, 4, 5, 1]"
      ]
     },
     "execution_count": 39,
     "metadata": {},
     "output_type": "execute_result"
    }
   ],
   "source": [
    "LeftRotate([1,2,3,4,5])"
   ]
  },
  {
   "cell_type": "code",
   "execution_count": 40,
   "id": "119818bc",
   "metadata": {},
   "outputs": [
    {
     "name": "stdout",
     "output_type": "stream",
     "text": [
      "[3, 2, 1, 0, 1, 4]\n"
     ]
    }
   ],
   "source": [
    "def gfg(x,li=[]): \n",
    "\tfor i in range(x): \n",
    "\t\tli.append(i*i) \n",
    "\tprint(li) \n",
    "\n",
    "gfg(3,[3,2,1]) "
   ]
  },
  {
   "cell_type": "code",
   "execution_count": 41,
   "id": "f4dac134",
   "metadata": {},
   "outputs": [
    {
     "name": "stdout",
     "output_type": "stream",
     "text": [
      "5\n"
     ]
    }
   ],
   "source": [
    "# statement 1\n",
    "li = list(range(100, 110))\n",
    "\n",
    "# statement 2\n",
    "print (li.index(105))"
   ]
  },
  {
   "cell_type": "code",
   "execution_count": 42,
   "id": "c3757c46",
   "metadata": {},
   "outputs": [
    {
     "name": "stdout",
     "output_type": "stream",
     "text": [
      "[100, 101, 102, 103, 104, 105, 106, 107, 108, 109]\n"
     ]
    }
   ],
   "source": [
    "print(li)"
   ]
  },
  {
   "cell_type": "code",
   "execution_count": 43,
   "id": "9a704b35",
   "metadata": {},
   "outputs": [
    {
     "name": "stdout",
     "output_type": "stream",
     "text": [
      "[1998, 2002, 2014, 2016, 1998, 2002, 2014, 2016]\n"
     ]
    }
   ],
   "source": [
    "a = [1998, 2002] \n",
    "b = [2014, 2016] \n",
    "\n",
    "print ((a + b)*2)"
   ]
  },
  {
   "cell_type": "code",
   "execution_count": 44,
   "id": "a85f6b3a",
   "metadata": {},
   "outputs": [
    {
     "name": "stdout",
     "output_type": "stream",
     "text": [
      "6\n"
     ]
    }
   ],
   "source": [
    "a = [1, 2, 3, None, (1, 2, 3, 4, 5), ['Geeks', 'for', 'Geeks']] \n",
    "print(len(a))\n"
   ]
  },
  {
   "cell_type": "code",
   "execution_count": null,
   "id": "4fe623b6",
   "metadata": {},
   "outputs": [],
   "source": []
  }
 ],
 "metadata": {
  "kernelspec": {
   "display_name": "base",
   "language": "python",
   "name": "python3"
  },
  "language_info": {
   "codemirror_mode": {
    "name": "ipython",
    "version": 3
   },
   "file_extension": ".py",
   "mimetype": "text/x-python",
   "name": "python",
   "nbconvert_exporter": "python",
   "pygments_lexer": "ipython3",
   "version": "3.11.5"
  }
 },
 "nbformat": 4,
 "nbformat_minor": 5
}
