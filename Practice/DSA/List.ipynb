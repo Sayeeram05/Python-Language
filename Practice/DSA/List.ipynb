{
 "cells": [
  {
   "cell_type": "markdown",
   "id": "2ff7b984",
   "metadata": {},
   "source": [
    "# Average or  Mean of a List"
   ]
  },
  {
   "cell_type": "code",
   "execution_count": 5,
   "id": "24b6b2a3",
   "metadata": {},
   "outputs": [],
   "source": [
    "def Mean(List):\n",
    "    Sum = 0\n",
    "    count = 0\n",
    "    for i in List:\n",
    "        Sum += i\n",
    "        count += 1\n",
    "    return Sum/count"
   ]
  },
  {
   "cell_type": "code",
   "execution_count": 7,
   "id": "2a780849",
   "metadata": {},
   "outputs": [
    {
     "data": {
      "text/plain": [
       "25.0"
      ]
     },
     "execution_count": 7,
     "metadata": {},
     "output_type": "execute_result"
    }
   ],
   "source": [
    "Mean([10,20,30,40])"
   ]
  },
  {
   "cell_type": "markdown",
   "id": "4dd25106",
   "metadata": {},
   "source": [
    "# Seperate Even And Odd"
   ]
  },
  {
   "cell_type": "code",
   "execution_count": 10,
   "id": "3b50597e",
   "metadata": {},
   "outputs": [],
   "source": [
    "def EvenOddSeperation(List):\n",
    "    Even = []\n",
    "    Odd = []\n",
    "    for i in List:\n",
    "        if(i % 2 == 0):\n",
    "            Even.append(i)\n",
    "        else:\n",
    "            Odd.append(i)\n",
    "    return Even,Odd"
   ]
  },
  {
   "cell_type": "code",
   "execution_count": 13,
   "id": "b205dba6",
   "metadata": {},
   "outputs": [
    {
     "name": "stdout",
     "output_type": "stream",
     "text": [
      "Even :  [10, 20, 30, 40, 2]\n",
      "Odd :  [3, 5, 7]\n"
     ]
    }
   ],
   "source": [
    "Even,Odd = EvenOddSeperation([10,20,30,40,2,3,5,7])\n",
    "print(\"Even : \",Even)\n",
    "print(\"Odd : \",Odd)"
   ]
  },
  {
   "cell_type": "markdown",
   "id": "179a8e9e",
   "metadata": {},
   "source": [
    "# Smallest value"
   ]
  },
  {
   "cell_type": "code",
   "execution_count": 15,
   "id": "4857bdad",
   "metadata": {},
   "outputs": [],
   "source": [
    "def Min(List):\n",
    "    Min = List[0]\n",
    "    for i in List:\n",
    "        if(i < Min):\n",
    "            Min = i\n",
    "    return Min"
   ]
  },
  {
   "cell_type": "code",
   "execution_count": 16,
   "id": "ae33f845",
   "metadata": {},
   "outputs": [
    {
     "data": {
      "text/plain": [
       "2"
      ]
     },
     "execution_count": 16,
     "metadata": {},
     "output_type": "execute_result"
    }
   ],
   "source": [
    "Min([10,20,30,40,2,3,5,7])"
   ]
  },
  {
   "cell_type": "markdown",
   "id": "432c7c40",
   "metadata": {},
   "source": [
    "# Smaller Than X"
   ]
  },
  {
   "cell_type": "code",
   "execution_count": 18,
   "id": "bd09669a",
   "metadata": {},
   "outputs": [],
   "source": [
    "def Smaller(List,X):\n",
    "    Output = []\n",
    "    for i in List:\n",
    "        if(i < X):\n",
    "            Output.append(i)\n",
    "    return Output"
   ]
  },
  {
   "cell_type": "code",
   "execution_count": 19,
   "id": "46f8bec3",
   "metadata": {},
   "outputs": [
    {
     "data": {
      "text/plain": [
       "[10, 2, 3, 5, 7]"
      ]
     },
     "execution_count": 19,
     "metadata": {},
     "output_type": "execute_result"
    }
   ],
   "source": [
    "Smaller([10,20,30,40,2,3,5,7],20)"
   ]
  },
  {
   "cell_type": "markdown",
   "id": "5453c089",
   "metadata": {},
   "source": [
    "# Compretension"
   ]
  },
  {
   "cell_type": "code",
   "execution_count": 21,
   "id": "307ec615",
   "metadata": {},
   "outputs": [],
   "source": [
    "def OnlyEven(List):\n",
    "    L1 = [i for i in List if i % 2 == 0]\n",
    "    return L1"
   ]
  },
  {
   "cell_type": "code",
   "execution_count": 22,
   "id": "894e3eea",
   "metadata": {},
   "outputs": [
    {
     "data": {
      "text/plain": [
       "[10, 20, 30, 40, 2]"
      ]
     },
     "execution_count": 22,
     "metadata": {},
     "output_type": "execute_result"
    }
   ],
   "source": [
    "OnlyEven([10,20,30,40,2,3,5,7])"
   ]
  },
  {
   "cell_type": "markdown",
   "id": "cff7fd2b",
   "metadata": {},
   "source": [
    "# Largest"
   ]
  },
  {
   "cell_type": "code",
   "execution_count": 30,
   "id": "fae97bc9",
   "metadata": {},
   "outputs": [],
   "source": [
    "def Largest(List):\n",
    "    if not List:\n",
    "        return None\n",
    "    Max = List[0]\n",
    "    for i in List:\n",
    "        if(i > Max):\n",
    "            Max = i\n",
    "    return Max"
   ]
  },
  {
   "cell_type": "code",
   "execution_count": 31,
   "id": "be0365f2",
   "metadata": {},
   "outputs": [],
   "source": [
    "Largest([])"
   ]
  },
  {
   "cell_type": "code",
   "execution_count": 32,
   "id": "ca0f9bb1",
   "metadata": {},
   "outputs": [
    {
     "data": {
      "text/plain": [
       "40"
      ]
     },
     "execution_count": 32,
     "metadata": {},
     "output_type": "execute_result"
    }
   ],
   "source": [
    "Largest([10,20,30,40,2,3,5,7])"
   ]
  },
  {
   "cell_type": "markdown",
   "id": "a8340570",
   "metadata": {},
   "source": [
    "# Secaond Largest"
   ]
  },
  {
   "cell_type": "code",
   "execution_count": null,
   "id": "868d2eb0",
   "metadata": {},
   "outputs": [],
   "source": [
    "def SecondLargest(List):\n",
    "    if not List:\n",
    "        return None\n",
    "     "
   ]
  },
  {
   "cell_type": "code",
   "execution_count": 42,
   "id": "479878a9",
   "metadata": {},
   "outputs": [
    {
     "name": "stdout",
     "output_type": "stream",
     "text": [
      "Max :  40\n",
      "Max 2 : 30\n"
     ]
    }
   ],
   "source": [
    "Max,Max2 = SecondLargest([10,20,30,40,2,3,5,7])\n",
    "print(\"Max : \",Max)\n",
    "print(\"Max 2 :\",Max2)\n"
   ]
  },
  {
   "cell_type": "markdown",
   "id": "afe2a469",
   "metadata": {},
   "source": [
    "# is Sorted"
   ]
  },
  {
   "cell_type": "code",
   "execution_count": null,
   "id": "62565f58",
   "metadata": {},
   "outputs": [],
   "source": [
    "def issorted(List):\n",
    "    if(not List):\n",
    "        return None\n",
    "    for i in "
   ]
  }
 ],
 "metadata": {
  "kernelspec": {
   "display_name": "base",
   "language": "python",
   "name": "python3"
  },
  "language_info": {
   "codemirror_mode": {
    "name": "ipython",
    "version": 3
   },
   "file_extension": ".py",
   "mimetype": "text/x-python",
   "name": "python",
   "nbconvert_exporter": "python",
   "pygments_lexer": "ipython3",
   "version": "3.11.5"
  }
 },
 "nbformat": 4,
 "nbformat_minor": 5
}
