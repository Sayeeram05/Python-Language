{
 "cells": [
  {
   "cell_type": "markdown",
   "id": "1e71be45",
   "metadata": {},
   "source": [
    "# Decimal To Binary"
   ]
  },
  {
   "cell_type": "code",
   "execution_count": 1,
   "id": "8ba056b7",
   "metadata": {},
   "outputs": [],
   "source": [
    "def DToB(num):\n",
    "    if(num == 0):\n",
    "        return 1\n",
    "    DToB(num // 2)\n",
    "    print(num % 2,end=\"\")"
   ]
  },
  {
   "cell_type": "code",
   "execution_count": 2,
   "id": "6ceb2bef",
   "metadata": {},
   "outputs": [
    {
     "name": "stdout",
     "output_type": "stream",
     "text": [
      "1101"
     ]
    }
   ],
   "source": [
    "DToB(13)"
   ]
  },
  {
   "cell_type": "code",
   "execution_count": 3,
   "id": "4669caed",
   "metadata": {},
   "outputs": [],
   "source": [
    "def BToD(Dec,Pos=1):\n",
    "    if(Dec == 0):\n",
    "        return 0\n",
    "    elif(Dec == 1):\n",
    "        return 1\n",
    "    BToD()"
   ]
  },
  {
   "cell_type": "code",
   "execution_count": 4,
   "id": "6d8bdaf8",
   "metadata": {},
   "outputs": [
    {
     "ename": "TypeError",
     "evalue": "BToD() missing 1 required positional argument: 'Dec'",
     "output_type": "error",
     "traceback": [
      "\u001b[1;31m---------------------------------------------------------------------------\u001b[0m",
      "\u001b[1;31mTypeError\u001b[0m                                 Traceback (most recent call last)",
      "Cell \u001b[1;32mIn[4], line 1\u001b[0m\n\u001b[1;32m----> 1\u001b[0m BToD(\u001b[38;5;241m1101\u001b[39m)\n",
      "Cell \u001b[1;32mIn[3], line 6\u001b[0m, in \u001b[0;36mBToD\u001b[1;34m(Dec, Pos)\u001b[0m\n\u001b[0;32m      4\u001b[0m \u001b[38;5;28;01melif\u001b[39;00m(Dec \u001b[38;5;241m==\u001b[39m \u001b[38;5;241m1\u001b[39m):\n\u001b[0;32m      5\u001b[0m     \u001b[38;5;28;01mreturn\u001b[39;00m \u001b[38;5;241m1\u001b[39m\n\u001b[1;32m----> 6\u001b[0m BToD()\n",
      "\u001b[1;31mTypeError\u001b[0m: BToD() missing 1 required positional argument: 'Dec'"
     ]
    }
   ],
   "source": [
    "BToD(1101)"
   ]
  },
  {
   "cell_type": "code",
   "execution_count": null,
   "id": "2503baa4",
   "metadata": {},
   "outputs": [],
   "source": [
    "def SumOfDigits(Num):\n",
    "    if(Num // 10 == 0):\n",
    "        return Num % 10\n",
    "    return Num%10 + SumOfDigits(Num // 10)"
   ]
  },
  {
   "cell_type": "code",
   "execution_count": null,
   "id": "a0bd5f4e",
   "metadata": {},
   "outputs": [
    {
     "data": {
      "text/plain": [
       "4"
      ]
     },
     "execution_count": 24,
     "metadata": {},
     "output_type": "execute_result"
    }
   ],
   "source": [
    "SumOfDigits(40)"
   ]
  },
  {
   "cell_type": "code",
   "execution_count": 7,
   "id": "7bb02e2e",
   "metadata": {},
   "outputs": [
    {
     "name": "stdout",
     "output_type": "stream",
     "text": [
      "16\n"
     ]
    }
   ],
   "source": [
    "def function(n):\n",
    "    if n==4:\n",
    "        return n\n",
    "    else:\n",
    "        return 2*function(n+1)\n",
    "        \n",
    "print(function(2))"
   ]
  },
  {
   "cell_type": "code",
   "execution_count": null,
   "id": "bdd983c3",
   "metadata": {},
   "outputs": [],
   "source": []
  }
 ],
 "metadata": {
  "kernelspec": {
   "display_name": "base",
   "language": "python",
   "name": "python3"
  },
  "language_info": {
   "codemirror_mode": {
    "name": "ipython",
    "version": 3
   },
   "file_extension": ".py",
   "mimetype": "text/x-python",
   "name": "python",
   "nbconvert_exporter": "python",
   "pygments_lexer": "ipython3",
   "version": "3.11.5"
  }
 },
 "nbformat": 4,
 "nbformat_minor": 5
}
