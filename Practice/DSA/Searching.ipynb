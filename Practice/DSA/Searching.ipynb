{
 "cells": [
  {
   "cell_type": "markdown",
   "id": "39ad2dd0",
   "metadata": {},
   "source": [
    "# Linear Search"
   ]
  },
  {
   "cell_type": "code",
   "execution_count": 7,
   "id": "78581fde",
   "metadata": {},
   "outputs": [],
   "source": [
    "def LinearSearch(List,X):\n",
    "    for i in range(len(List)):\n",
    "        if(List[i] == X):\n",
    "            return \"Index of {} : {}\".format(X,i)\n",
    "    return f\"{X} Not Found\""
   ]
  },
  {
   "cell_type": "code",
   "execution_count": 8,
   "id": "f46dfab1",
   "metadata": {},
   "outputs": [
    {
     "data": {
      "text/plain": [
       "'Index of 64 : 3'"
      ]
     },
     "execution_count": 8,
     "metadata": {},
     "output_type": "execute_result"
    }
   ],
   "source": [
    "LinearSearch([1,3,5,64,2,2,44,],64)"
   ]
  },
  {
   "cell_type": "markdown",
   "id": "27559141",
   "metadata": {},
   "source": [
    "# Binary Search"
   ]
  },
  {
   "cell_type": "code",
   "execution_count": 9,
   "id": "a12eafc3",
   "metadata": {},
   "outputs": [
    {
     "name": "stdout",
     "output_type": "stream",
     "text": [
      "0\n"
     ]
    }
   ],
   "source": [
    "def BinarySearch(List,Find,L=0,R=None):\n",
    "    if R == None:\n",
    "        R = len(List) - 1\n",
    "    m = (L + R) // 2 \n",
    "    \n",
    "    if(List[m] == Find):\n",
    "        return m\n",
    "    elif(L == R):\n",
    "        return None\n",
    "    elif(Find < List[m]):\n",
    "        return BinarySearch(List,Find,L=L,R=m-1)\n",
    "    else:\n",
    "        return BinarySearch(List,Find,L=m+1,R=R)\n",
    "    \n",
    "arr = [3]\n",
    "print(BinarySearch(arr, 3))"
   ]
  },
  {
   "cell_type": "code",
   "execution_count": 10,
   "id": "f8949a1c",
   "metadata": {},
   "outputs": [
    {
     "name": "stdout",
     "output_type": "stream",
     "text": [
      "None\n"
     ]
    }
   ],
   "source": [
    "print(BinarySearch([1,2,3,5,10],99))"
   ]
  },
  {
   "cell_type": "markdown",
   "id": "20404d80",
   "metadata": {},
   "source": []
  },
  {
   "cell_type": "markdown",
   "id": "7aeebe2c",
   "metadata": {},
   "source": [
    "# Search\n",
    "- Linear search\n",
    "- not efficient"
   ]
  },
  {
   "cell_type": "code",
   "execution_count": 11,
   "id": "68b2882e",
   "metadata": {},
   "outputs": [],
   "source": [
    "def Search(arr,target):\n",
    "    for index,value in enumerate(arr):\n",
    "        if(value == target):\n",
    "            return f\"Position : {index+1}\"\n",
    "    else:\n",
    "        return f\"{target} Not Found\""
   ]
  },
  {
   "cell_type": "code",
   "execution_count": 12,
   "id": "4698a365",
   "metadata": {},
   "outputs": [
    {
     "data": {
      "text/plain": [
       "'Position : 7'"
      ]
     },
     "execution_count": 12,
     "metadata": {},
     "output_type": "execute_result"
    }
   ],
   "source": [
    "Search([1,2,3,45,5,6,32,1,23,34,3],32)"
   ]
  },
  {
   "cell_type": "markdown",
   "id": "f32945db",
   "metadata": {},
   "source": [
    "# Binary Search\n",
    "- only for sorted"
   ]
  },
  {
   "cell_type": "code",
   "execution_count": 13,
   "id": "153b934a",
   "metadata": {},
   "outputs": [],
   "source": [
    "def BinarySearch(arr,target):\n",
    "    if not arr:\n",
    "        return \"List : Empty\"\n",
    "    l = 0\n",
    "    r = len(arr) - 1\n",
    "    while(l <= r):\n",
    "        m = (l + r) // 2\n",
    "        print(l,r,m,arr[m])\n",
    "        if(arr[m] == target):\n",
    "            return f\"Position : {m+1}\"\n",
    "        elif(target > arr[m]):\n",
    "            l = m + 1\n",
    "        else:\n",
    "            r = m - 1\n",
    "    else:\n",
    "        return f\"{target} Not Found\""
   ]
  },
  {
   "cell_type": "code",
   "execution_count": 14,
   "id": "0b99efff",
   "metadata": {},
   "outputs": [
    {
     "data": {
      "text/plain": [
       "'List : Empty'"
      ]
     },
     "execution_count": 14,
     "metadata": {},
     "output_type": "execute_result"
    }
   ],
   "source": [
    "BinarySearch([],1)"
   ]
  },
  {
   "cell_type": "code",
   "execution_count": 15,
   "id": "60550004",
   "metadata": {},
   "outputs": [
    {
     "name": "stdout",
     "output_type": "stream",
     "text": [
      "0 8 4 5\n",
      "5 8 6 7\n",
      "7 8 7 8\n",
      "8 8 8 9\n"
     ]
    },
    {
     "data": {
      "text/plain": [
       "'Position : 9'"
      ]
     },
     "execution_count": 15,
     "metadata": {},
     "output_type": "execute_result"
    }
   ],
   "source": [
    "BinarySearch([1,2,3,4,5,6,7,8,9],9)"
   ]
  },
  {
   "cell_type": "markdown",
   "id": "fc12ace9",
   "metadata": {},
   "source": [
    "# Recursive Binary serach "
   ]
  },
  {
   "cell_type": "code",
   "execution_count": 16,
   "id": "23497a57",
   "metadata": {},
   "outputs": [],
   "source": [
    "def RecursiveBinarySearch(arr,target,l=0,r=None):\n",
    "    if r is None: \n",
    "        r = len(arr) - 1\n",
    "    m = (l + r) // 2\n",
    "    if(l > r):\n",
    "        return f\"{target} Not Found\"\n",
    "    elif(arr[m] == target):\n",
    "        return f\"Position : {m+1}\"\n",
    "    elif(target > arr[m]):\n",
    "        return RecursiveBinarySearch(arr,target,l=m+1,r=r)\n",
    "    else:\n",
    "        return RecursiveBinarySearch(arr,target,l=l,r=m-1)\n",
    "    "
   ]
  },
  {
   "cell_type": "code",
   "execution_count": 17,
   "id": "fd274fae",
   "metadata": {},
   "outputs": [
    {
     "name": "stdout",
     "output_type": "stream",
     "text": [
      "Position : 9\n"
     ]
    }
   ],
   "source": [
    "print(RecursiveBinarySearch([1,2,3,4,5,6,7,8,9],9))"
   ]
  },
  {
   "cell_type": "markdown",
   "id": "5e9b9187",
   "metadata": {},
   "source": [
    "# 1st occurance of k"
   ]
  },
  {
   "cell_type": "code",
   "execution_count": 18,
   "id": "38244df3",
   "metadata": {},
   "outputs": [
    {
     "name": "stdout",
     "output_type": "stream",
     "text": [
      "0 7 3 2\n",
      "4 7 5 3\n",
      "4 4 4 3\n"
     ]
    },
    {
     "data": {
      "text/plain": [
       "'Position : 5'"
      ]
     },
     "execution_count": 18,
     "metadata": {},
     "output_type": "execute_result"
    }
   ],
   "source": [
    "def find(arr,target):\n",
    "    if not arr:\n",
    "        return \"List : Empty\"\n",
    "    l = 0\n",
    "    r = len(arr) - 1\n",
    "    while(l <= r):\n",
    "        m = (l + r) // 2\n",
    "        print(l,r,m,arr[m])\n",
    "        if(arr[m] == target):\n",
    "            if(m == 0 or arr[m-1] != arr[m]):\n",
    "                return f\"Position : {m+1}\"\n",
    "            else:\n",
    "                r = m-1\n",
    "        elif(target > arr[m]):\n",
    "            l = m + 1\n",
    "        else:\n",
    "            r = m - 1\n",
    "    else:\n",
    "        return f\"{target} Not Found\"\n",
    "\n",
    "find([1,2,2,2,3,3,4,5],3)"
   ]
  },
  {
   "cell_type": "code",
   "execution_count": 19,
   "id": "d5ecc381",
   "metadata": {},
   "outputs": [
    {
     "name": "stdout",
     "output_type": "stream",
     "text": [
      "0 9 4 3\n",
      "0 3 1 1\n",
      "0 0 0 1\n"
     ]
    },
    {
     "data": {
      "text/plain": [
       "'Position : 1'"
      ]
     },
     "execution_count": 19,
     "metadata": {},
     "output_type": "execute_result"
    }
   ],
   "source": [
    "find([1, 1, 2, 2, 3, 4, 5, 5, 6, 7],1)"
   ]
  },
  {
   "cell_type": "markdown",
   "id": "2f617103",
   "metadata": {},
   "source": [
    "# Last occurance of k"
   ]
  },
  {
   "cell_type": "code",
   "execution_count": 20,
   "id": "3eafaca4",
   "metadata": {},
   "outputs": [
    {
     "name": "stdout",
     "output_type": "stream",
     "text": [
      "0 7 3 2\n",
      "4 7 5 3\n"
     ]
    },
    {
     "data": {
      "text/plain": [
       "'Position : 6'"
      ]
     },
     "execution_count": 20,
     "metadata": {},
     "output_type": "execute_result"
    }
   ],
   "source": [
    "def find(arr,target):\n",
    "    if not arr:\n",
    "        return \"List : Empty\"\n",
    "    l = 0\n",
    "    r = len(arr) - 1\n",
    "    while(l <= r):\n",
    "        m = (l + r) // 2\n",
    "        print(l,r,m,arr[m])\n",
    "        if(arr[m] == target):\n",
    "            if(m == len(arr) - 1 or arr[m + 1] != arr[m]):\n",
    "                return f\"Position : {m+1}\"\n",
    "            else:\n",
    "                l = m + 1\n",
    "        elif(target > arr[m]):\n",
    "            l = m + 1\n",
    "        else:\n",
    "            r = m - 1\n",
    "    else:\n",
    "        return f\"{target} Not Found\"\n",
    "\n",
    "find([1,2,2,2,3,3,4,5],3)"
   ]
  },
  {
   "cell_type": "code",
   "execution_count": 21,
   "id": "621ab0ef",
   "metadata": {},
   "outputs": [
    {
     "name": "stdout",
     "output_type": "stream",
     "text": [
      "0 7 3 2\n"
     ]
    },
    {
     "data": {
      "text/plain": [
       "'Position : 4'"
      ]
     },
     "execution_count": 21,
     "metadata": {},
     "output_type": "execute_result"
    }
   ],
   "source": [
    "find([1,2,2,2,3,3,4,5],2)"
   ]
  },
  {
   "cell_type": "code",
   "execution_count": 22,
   "id": "cd4f0767",
   "metadata": {},
   "outputs": [],
   "source": [
    "# Count"
   ]
  },
  {
   "cell_type": "code",
   "execution_count": 23,
   "id": "0d8f1e4b",
   "metadata": {},
   "outputs": [],
   "source": [
    "def Count(arr,k):\n",
    "    C = 0\n",
    "    for i in arr:\n",
    "        if(i > k):\n",
    "            break\n",
    "        elif(i == k):\n",
    "            C += 1\n",
    "    return f\"Count {k} : {C}\""
   ]
  },
  {
   "cell_type": "code",
   "execution_count": 24,
   "id": "d14c95d0",
   "metadata": {},
   "outputs": [
    {
     "data": {
      "text/plain": [
       "'Count 2 : 3'"
      ]
     },
     "execution_count": 24,
     "metadata": {},
     "output_type": "execute_result"
    }
   ],
   "source": [
    "Count([1,2,2,2,3,3,4,5],2)"
   ]
  },
  {
   "cell_type": "code",
   "execution_count": 25,
   "id": "b3d6320a",
   "metadata": {},
   "outputs": [],
   "source": [
    "def Count(arr,target):\n",
    "    if not arr:\n",
    "        return \"List : Empty\"\n",
    "    l = 0\n",
    "    r = len(arr) - 1\n",
    "    count = 0\n",
    "    while(l <= r):\n",
    "        m = (l + r) // 2\n",
    "        # print(l,r,m,arr[m])\n",
    "        if(arr[m] == target):\n",
    "            count = 1\n",
    "            Temp = m - 1\n",
    "            while(arr[Temp] == target):\n",
    "                count += 1\n",
    "                Temp -= 1\n",
    "            Temp = m + 1\n",
    "            while(arr[Temp] == target):\n",
    "                count += 1\n",
    "                Temp += 1\n",
    "            return f\"Count {target} : {count}\"\n",
    "            \n",
    "        elif(target > arr[m]):\n",
    "            l = m + 1\n",
    "        else:\n",
    "            r = m - 1\n",
    "    else:\n",
    "        return f\"{target} Not Found\"\n",
    "    "
   ]
  },
  {
   "cell_type": "code",
   "execution_count": 26,
   "id": "56e1bb47",
   "metadata": {},
   "outputs": [
    {
     "data": {
      "text/plain": [
       "'Count 2 : 3'"
      ]
     },
     "execution_count": 26,
     "metadata": {},
     "output_type": "execute_result"
    }
   ],
   "source": [
    "Count([1,2,2,2,3,3,4,5],2)"
   ]
  },
  {
   "cell_type": "code",
   "execution_count": 31,
   "id": "262c71b0",
   "metadata": {},
   "outputs": [
    {
     "name": "stdout",
     "output_type": "stream",
     "text": [
      "0\n",
      "1\n"
     ]
    },
    {
     "data": {
      "text/plain": [
       "2"
      ]
     },
     "execution_count": 31,
     "metadata": {},
     "output_type": "execute_result"
    }
   ],
   "source": [
    "def FirstLast(arr,target,First):\n",
    "    if not arr:\n",
    "        return \"List : Empty\"\n",
    "    l = 0\n",
    "    r = len(arr) - 1\n",
    "    while(l <= r):\n",
    "        m = (l + r) // 2\n",
    "        # print(l,r,m,arr[m])\n",
    "        if(arr[m] == target):\n",
    "            if(First):\n",
    "                if(m == 0 or arr[m-1] != arr[m]):\n",
    "                    return m\n",
    "                else:\n",
    "                    r = m - 1\n",
    "            if(not First):\n",
    "                if(m == len(arr)-1 or arr[m+1] != arr[m]):\n",
    "                    return m\n",
    "                else:\n",
    "                    l = m + 1\n",
    "        elif(target > arr[m]):\n",
    "            l = m + 1\n",
    "        else:\n",
    "            r = m - 1\n",
    "    else:\n",
    "        return f\"{target} Not Found\"\n",
    "\n",
    "def Count(arr,target):\n",
    "    First = FirstLast(arr,target,True)\n",
    "    Last = FirstLast(arr,target,False)\n",
    "    print(First)\n",
    "    print(Last)\n",
    "    return (Last - First) + 1\n",
    "\n",
    "Count([2, 2, 3, 4, 5],2)\n",
    "        "
   ]
  },
  {
   "cell_type": "code",
   "execution_count": 32,
   "id": "00c65daa",
   "metadata": {},
   "outputs": [
    {
     "name": "stdout",
     "output_type": "stream",
     "text": [
      "0\n",
      "1\n"
     ]
    },
    {
     "data": {
      "text/plain": [
       "2"
      ]
     },
     "execution_count": 32,
     "metadata": {},
     "output_type": "execute_result"
    }
   ],
   "source": [
    "def FirstLast(arr,target,First):\n",
    "    if not arr:\n",
    "        return \"List : Empty\"\n",
    "    Ans = -1\n",
    "    l = 0\n",
    "    r = len(arr) - 1\n",
    "    while(l <= r):\n",
    "        m = (l + r) // 2\n",
    "        # print(l,r,m,arr[m])\n",
    "        if(arr[m] == target):\n",
    "            Ans = m\n",
    "            if(First):\n",
    "                r = m - 1\n",
    "            else:\n",
    "                l = m + 1\n",
    "        elif(target > arr[m]):\n",
    "            l = m + 1\n",
    "        else:\n",
    "            r = m - 1\n",
    "    return Ans\n",
    "\n",
    "def Count(arr,target):\n",
    "    First = FirstLast(arr,target,True)\n",
    "    Last = FirstLast(arr,target,False)\n",
    "    print(First)\n",
    "    print(Last)\n",
    "    return (Last - First) + 1\n",
    "\n",
    "Count([2, 2, 3, 4, 5],2)"
   ]
  },
  {
   "cell_type": "code",
   "execution_count": 36,
   "id": "0cf011f8",
   "metadata": {},
   "outputs": [
    {
     "data": {
      "text/plain": [
       "True"
      ]
     },
     "execution_count": 36,
     "metadata": {},
     "output_type": "execute_result"
    }
   ],
   "source": [
    "def peakElement(arr):\n",
    "    if len(arr):\n",
    "        return True\n",
    "    for i in range(len(arr)):\n",
    "        if(i == 0) and (arr[i] > arr[i+1]):\n",
    "            return True\n",
    "        elif(i == len(arr)-1) and (arr[i-1] < arr[i]):\n",
    "            return True\n",
    "        elif(arr[i-1] < arr[i] and arr[i] > arr[i+1]):\n",
    "            return True\n",
    "    return False\n",
    "peakElement([1,2,4,5,7,8,3])"
   ]
  },
  {
   "cell_type": "code",
   "execution_count": 38,
   "id": "4b5306d4",
   "metadata": {},
   "outputs": [
    {
     "data": {
      "text/plain": [
       "5"
      ]
     },
     "execution_count": 38,
     "metadata": {},
     "output_type": "execute_result"
    }
   ],
   "source": [
    "def peakElement(arr):\n",
    "        if(len(arr) == 1):\n",
    "            return 0\n",
    "        l = 0\n",
    "        r = len(arr) - 1\n",
    "        while(l <= r):\n",
    "            m = (l + r) // 2\n",
    "            Left = arr[m - 1] if m > 0 else -float(\"inf\")\n",
    "            Right = arr[m + 1] if m < len(arr) - 1 else -float(\"inf\")\n",
    "            \n",
    "            if(arr[m] > Left and arr[m] > Right):\n",
    "                return m\n",
    "            elif(Left > arr[m]):\n",
    "                r = m - 1\n",
    "            else:\n",
    "                l = m + 1\n",
    "        else:\n",
    "            return -1\n",
    "peakElement([1,2,4,5,7,8,3])"
   ]
  },
  {
   "cell_type": "code",
   "execution_count": 39,
   "id": "78b49e1e",
   "metadata": {},
   "outputs": [],
   "source": [
    "# Occurance of 1 "
   ]
  },
  {
   "cell_type": "code",
   "execution_count": null,
   "id": "bc72315f",
   "metadata": {},
   "outputs": [],
   "source": [
    "def Count1(arr):\n",
    "    l = 0\n",
    "    count = len(arr)\n",
    "    r = count - 1\n",
    "    while(l <= r):\n",
    "        m = (l + r) // 2\n",
    "        if(arr[m] == 1):\n",
    "            if(m == 0 or arr[m - 1] == 0):\n",
    "                return count - m \n",
    "            else:\n",
    "                r = m - 1\n",
    "        elif(arr[m] > 1):\n",
    "            r = m - 1\n",
    "        else:\n",
    "            l = m + 1\n",
    "    return 0"
   ]
  },
  {
   "cell_type": "code",
   "execution_count": 1,
   "id": "2080c5c1",
   "metadata": {},
   "outputs": [],
   "source": [
    "# Square root"
   ]
  },
  {
   "cell_type": "code",
   "execution_count": null,
   "id": "86d3cc4b",
   "metadata": {},
   "outputs": [],
   "source": [
    "def Sqrt(num):\n",
    "    if(i == 0):\n",
    "        return 0\n",
    "    i = 1\n",
    "    while(i*i < num):\n",
    "        i += 1\n",
    "    return i"
   ]
  },
  {
   "cell_type": "code",
   "execution_count": 35,
   "id": "42c63ce7",
   "metadata": {},
   "outputs": [
    {
     "name": "stdout",
     "output_type": "stream",
     "text": [
      "0  :  0\n",
      "1  :  1\n",
      "2  :  1\n",
      "3  :  1\n",
      "4  :  2\n",
      "5  :  2\n",
      "6  :  2\n",
      "7  :  2\n",
      "8  :  2\n",
      "9  :  3\n",
      "10  :  3\n",
      "11  :  3\n",
      "12  :  3\n",
      "13  :  3\n",
      "14  :  3\n",
      "15  :  3\n",
      "16  :  4\n",
      "17  :  4\n",
      "18  :  4\n",
      "19  :  4\n",
      "20  :  4\n",
      "21  :  4\n",
      "22  :  4\n",
      "23  :  4\n",
      "24  :  4\n",
      "25  :  5\n",
      "26  :  5\n",
      "27  :  5\n",
      "28  :  5\n",
      "29  :  5\n"
     ]
    }
   ],
   "source": [
    "for i in range(30):\n",
    "    print(i,\" : \",Sqrt(i))"
   ]
  },
  {
   "cell_type": "code",
   "execution_count": 34,
   "id": "586b8810",
   "metadata": {},
   "outputs": [],
   "source": [
    "def Sqrt(Nums):\n",
    "    if i == 0:\n",
    "        return 0\n",
    "    l = 0\n",
    "    r = Nums\n",
    "    Root = 1\n",
    "    while(l <= r):\n",
    "        m = (l + r) // 2\n",
    "        Temp = m * m\n",
    "        # print(Temp)\n",
    "        if(Temp == Nums):\n",
    "            return m\n",
    "        elif(Temp > Nums):\n",
    "            r = m - 1\n",
    "        else:\n",
    "            l = m + 1\n",
    "            Root = m\n",
    "    return Root\n",
    "    "
   ]
  },
  {
   "cell_type": "code",
   "execution_count": 32,
   "id": "add09eb5",
   "metadata": {},
   "outputs": [
    {
     "name": "stdout",
     "output_type": "stream",
     "text": [
      "4\n"
     ]
    },
    {
     "data": {
      "text/plain": [
       "2"
      ]
     },
     "execution_count": 32,
     "metadata": {},
     "output_type": "execute_result"
    }
   ],
   "source": [
    "Sqrt(4)"
   ]
  },
  {
   "cell_type": "code",
   "execution_count": 16,
   "id": "5545df35",
   "metadata": {},
   "outputs": [
    {
     "data": {
      "text/plain": [
       "'Index : 4'"
      ]
     },
     "execution_count": 16,
     "metadata": {},
     "output_type": "execute_result"
    }
   ],
   "source": [
    "def JumpSearch(arr,X):\n",
    "    if not arr:\n",
    "        return \"Arr : Empty\"\n",
    "    elif(X < arr[0] or X > arr[-1]):\n",
    "        return f\"Invalid : {X}\"\n",
    "    else:\n",
    "        m = int(len(arr) ** 0.5)\n",
    "        i = 0\n",
    "        while(i + m < len(arr)):\n",
    "            if(arr[i + m] == X):\n",
    "                return f\"Index : {i+m}\"\n",
    "            elif(arr[i + m] > X):\n",
    "                break\n",
    "            else:\n",
    "                i += m\n",
    "        for i in range(i,i+m+1):\n",
    "            if(i >= len(arr)):\n",
    "                return \"Index : Not Found\"\n",
    "            elif(arr[i] == X):\n",
    "                return f\"Index : {i}\"\n",
    "        else:\n",
    "            return \"Index : Not Found\"\n",
    "JumpSearch([1,2,3,4,5,10],5)"
   ]
  },
  {
   "cell_type": "code",
   "execution_count": null,
   "id": "4468187c",
   "metadata": {},
   "outputs": [],
   "source": []
  }
 ],
 "metadata": {
  "kernelspec": {
   "display_name": "base",
   "language": "python",
   "name": "python3"
  },
  "language_info": {
   "codemirror_mode": {
    "name": "ipython",
    "version": 3
   },
   "file_extension": ".py",
   "mimetype": "text/x-python",
   "name": "python",
   "nbconvert_exporter": "python",
   "pygments_lexer": "ipython3",
   "version": "3.11.5"
  }
 },
 "nbformat": 4,
 "nbformat_minor": 5
}
