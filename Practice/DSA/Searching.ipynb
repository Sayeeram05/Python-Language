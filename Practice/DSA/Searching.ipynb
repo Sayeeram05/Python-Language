{
 "cells": [
  {
   "cell_type": "markdown",
   "id": "39ad2dd0",
   "metadata": {},
   "source": [
    "# Linear Search"
   ]
  },
  {
   "cell_type": "code",
   "execution_count": 1,
   "id": "78581fde",
   "metadata": {},
   "outputs": [],
   "source": [
    "def LinearSearch(List,X):\n",
    "    for i in range(len(List)):\n",
    "        if(List[i] == X):\n",
    "            return \"Index of {} : {}\".format(X,i)\n",
    "    return f\"{X} Not Found\""
   ]
  },
  {
   "cell_type": "code",
   "execution_count": 2,
   "id": "f46dfab1",
   "metadata": {},
   "outputs": [
    {
     "data": {
      "text/plain": [
       "'Index of 64 : 3'"
      ]
     },
     "execution_count": 2,
     "metadata": {},
     "output_type": "execute_result"
    }
   ],
   "source": [
    "LinearSearch([1,3,5,64,2,2,44,],64)"
   ]
  },
  {
   "cell_type": "markdown",
   "id": "27559141",
   "metadata": {},
   "source": [
    "# Binary Search"
   ]
  },
  {
   "cell_type": "code",
   "execution_count": 16,
   "id": "a12eafc3",
   "metadata": {},
   "outputs": [
    {
     "name": "stdout",
     "output_type": "stream",
     "text": [
      "0\n"
     ]
    }
   ],
   "source": [
    "def BinarySearch(List,Find,L=0,R=None):\n",
    "    if R == None:\n",
    "        R = len(List) - 1\n",
    "    m = (L + R) // 2 \n",
    "    \n",
    "    if(List[m] == Find):\n",
    "        return m\n",
    "    elif(L == R):\n",
    "        return None\n",
    "    elif(Find < List[m]):\n",
    "        return BinarySearch(List,Find,L=L,R=m-1)\n",
    "    else:\n",
    "        return BinarySearch(List,Find,L=m+1,R=R)\n",
    "    \n",
    "arr = [3]\n",
    "print(BinarySearch(arr, 3))"
   ]
  },
  {
   "cell_type": "code",
   "execution_count": 8,
   "id": "f8949a1c",
   "metadata": {},
   "outputs": [
    {
     "name": "stdout",
     "output_type": "stream",
     "text": [
      "None\n"
     ]
    }
   ],
   "source": [
    "print(BinarySearch([1,2,3,5,10],99))"
   ]
  },
  {
   "cell_type": "markdown",
   "id": "20404d80",
   "metadata": {},
   "source": []
  },
  {
   "cell_type": "code",
   "execution_count": null,
   "id": "7aeebe2c",
   "metadata": {},
   "outputs": [],
   "source": []
  }
 ],
 "metadata": {
  "kernelspec": {
   "display_name": "base",
   "language": "python",
   "name": "python3"
  },
  "language_info": {
   "codemirror_mode": {
    "name": "ipython",
    "version": 3
   },
   "file_extension": ".py",
   "mimetype": "text/x-python",
   "name": "python",
   "nbconvert_exporter": "python",
   "pygments_lexer": "ipython3",
   "version": "3.11.5"
  }
 },
 "nbformat": 4,
 "nbformat_minor": 5
}
