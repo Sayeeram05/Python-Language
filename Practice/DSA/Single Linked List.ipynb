{
 "cells": [
  {
   "cell_type": "markdown",
   "id": "c4d73088",
   "metadata": {},
   "source": [
    "# Node"
   ]
  },
  {
   "cell_type": "code",
   "execution_count": 43,
   "id": "74ed9b46",
   "metadata": {},
   "outputs": [],
   "source": [
    "class Node:\n",
    "    def __init__(self,Data,Next = None):\n",
    "        self.Data = Data\n",
    "        self.Next = Next\n",
    "    def Dispaly(self):\n",
    "        print(self.Data)"
   ]
  },
  {
   "cell_type": "code",
   "execution_count": null,
   "id": "59f86064",
   "metadata": {},
   "outputs": [],
   "source": [
    "class LinkedList():\n",
    "    def __init__(self):\n",
    "        self.__Head = None\n",
    "        self.__Tail = None\n",
    "        \n",
    "    #-------------------------------------------------------------------------------------------------------------------------------------#\n",
    "    # Insertion\n",
    "    #-------------------------------------------------------------------------------------------------------------------------------------#\n",
    "    \n",
    "    def AddAtEnd(self,Data):\n",
    "        NewNode = Node(Data)\n",
    "        if(self.__Head == None):\n",
    "            self.__Head = self.__Tail = NewNode\n",
    "        else:\n",
    "            self.__Tail.Next = NewNode\n",
    "            self.__Tail = NewNode\n",
    "            \n",
    "    def AddAtStart(self,Data):\n",
    "        NewNode = Node(Data)\n",
    "        if(self.__Head == None):\n",
    "            self.__Head = self.__Tail = NewNode\n",
    "        else:\n",
    "            NewNode.Next = self.__Head\n",
    "            self.__Head = NewNode\n",
    "    def AddAt(self,Position,Data):\n",
    "        if(Position < 1):\n",
    "            print(\"Invalid Position\")\n",
    "            return\n",
    "        elif(Position == 1):\n",
    "            self.AddAtStart(Data)\n",
    "            return\n",
    "        NewNode = Node(Data)\n",
    "        if(self.__Head == None):\n",
    "            self.__Head = self.__Tail = NewNode \n",
    "        else:\n",
    "            Temp = self.__Head\n",
    "            i = 2\n",
    "            while(i<Position and Temp.Next != None):\n",
    "                i += 1\n",
    "                Temp = Temp.Next\n",
    "            \n",
    "            if(Temp is self.__Tail):\n",
    "                return \"Invalid Position\"\n",
    "            \n",
    "            NewNode.Next = Temp.Next\n",
    "            Temp.Next = NewNode\n",
    "            if(NewNode.Next == None):\n",
    "                self.__Tail = NewNode\n",
    "        \n",
    "        self.Traversal()\n",
    "        \n",
    "        \n",
    "    #-------------------------------------------------------------------------------------------------------------------------------------#\n",
    "    # Deletion\n",
    "    #-------------------------------------------------------------------------------------------------------------------------------------#\n",
    "    \n",
    "    def DeleteAtEnd(self):\n",
    "        if(self.__Head == None):\n",
    "            print(\"LL : Empty\")\n",
    "        elif(self.__Head == self.__Tail):\n",
    "            self.__Head = self.__Tail = None\n",
    "            print(\"LL : Empty\")\n",
    "        else:\n",
    "            Temp = self.__Head\n",
    "            while(Temp.Next != self.__Tail):\n",
    "                Temp = Temp.Next\n",
    "            Temp.Next = None\n",
    "            self.__Tail = Temp\n",
    "            self.Traversal()\n",
    "            \n",
    "    def DeleteAtStart(self):\n",
    "        if(self.__Head == None):\n",
    "            print(\"LL : Empty\")\n",
    "            return\n",
    "        elif(self.__Head == self.__Tail):\n",
    "            self.__Head = self.__Tail = None\n",
    "        else:\n",
    "            self.__Head = self.__Head.Next\n",
    "        self.Traversal()\n",
    "    \n",
    "    def DeleteAt(self,Position):\n",
    "        if(self.__Head == None):\n",
    "            print(\"LL : Empty\")\n",
    "        elif(Position < 1):\n",
    "            print(\"Invalid Position\")\n",
    "        elif(Position == 1):\n",
    "            self.DeleteAtStart()\n",
    "        else:\n",
    "            Temp =  self.__Head\n",
    "            i = 2\n",
    "            while(i < Position and Temp.Next != None):\n",
    "                Temp = Temp.Next\n",
    "                i += 1\n",
    "            if(Temp == self.__Tail):\n",
    "                return \"Invalid Position\"\n",
    "            if(Temp.Next == self.__Tail):\n",
    "                Temp.Next = None\n",
    "                self.__Tail = Temp\n",
    "            else:\n",
    "                Temp.Next = Temp.Next.Next\n",
    "                self.Traversal()\n",
    "            \n",
    "            \n",
    "    #-------------------------------------------------------------------------------------------------------------------------------------#\n",
    "    # Traversal\n",
    "    #-------------------------------------------------------------------------------------------------------------------------------------#\n",
    "    \n",
    "    def Traversal(self):\n",
    "        Temp = self.__Head\n",
    "        print(\"LL : \",end=\"\")\n",
    "        while(Temp != None):\n",
    "            print(Temp.Data,end=\" \")\n",
    "            Temp = Temp.Next\n",
    "        print()\n",
    "    #-------------------------------------------------------------------------------------------------------------------------------------#\n",
    "    # Methods\n",
    "    #-------------------------------------------------------------------------------------------------------------------------------------#\n",
    "    def Length(self):\n",
    "        L = 0\n",
    "        Temp = self.__Head\n",
    "        while(Temp != None):\n",
    "            L += 1\n",
    "            Temp = Temp.Next\n",
    "        return L\n",
    "\n",
    "    def Search(self,Value):\n",
    "        Position = 0\n",
    "        Temp = self.__Head\n",
    "        while(Temp is not None):\n",
    "            Position += 1\n",
    "            if(Temp.Data == Value):\n",
    "                break\n",
    "            Temp = Temp.Next\n",
    "        if(Temp is None):\n",
    "            return f\"{Value} : Not Found\"\n",
    "        else:\n",
    "            return f\"{Value} : Position {Position}\"\n",
    "    \n",
    "    def ToList(self):\n",
    "        pass\n",
    "        \n",
    "    def Sort(self):\n",
    "        List = []\n",
    "    "
   ]
  },
  {
   "cell_type": "code",
   "execution_count": 45,
   "id": "19cfa5f7",
   "metadata": {},
   "outputs": [],
   "source": [
    "N1 = LinkedList()"
   ]
  },
  {
   "cell_type": "code",
   "execution_count": 46,
   "id": "f3e0ccff",
   "metadata": {},
   "outputs": [],
   "source": [
    "N1.AddAtEnd(5)\n",
    "N1.AddAtEnd(10)\n",
    "N1.AddAtEnd(15)"
   ]
  },
  {
   "cell_type": "code",
   "execution_count": 47,
   "id": "0edfdb41",
   "metadata": {},
   "outputs": [
    {
     "name": "stdout",
     "output_type": "stream",
     "text": [
      "LL : 5 10 15 \n"
     ]
    }
   ],
   "source": [
    "N1.Traversal()"
   ]
  },
  {
   "cell_type": "code",
   "execution_count": 48,
   "id": "d8bb750c",
   "metadata": {},
   "outputs": [],
   "source": [
    "N1.AddAtStart(4)\n",
    "N1.AddAtStart(2)\n"
   ]
  },
  {
   "cell_type": "code",
   "execution_count": 49,
   "id": "2b5e0b7c",
   "metadata": {},
   "outputs": [
    {
     "name": "stdout",
     "output_type": "stream",
     "text": [
      "LL : 2 4 5 10 15 \n"
     ]
    }
   ],
   "source": [
    "N1.Traversal()"
   ]
  },
  {
   "cell_type": "code",
   "execution_count": 50,
   "id": "6035e27b",
   "metadata": {},
   "outputs": [
    {
     "name": "stdout",
     "output_type": "stream",
     "text": [
      "LL : 2 4 5 10 \n"
     ]
    }
   ],
   "source": [
    "N1.DeleteAtEnd()"
   ]
  },
  {
   "cell_type": "code",
   "execution_count": 51,
   "id": "ee77d4bd",
   "metadata": {},
   "outputs": [
    {
     "name": "stdout",
     "output_type": "stream",
     "text": [
      "LL : 4 5 10 \n"
     ]
    }
   ],
   "source": [
    "N1.DeleteAtStart()"
   ]
  },
  {
   "cell_type": "code",
   "execution_count": 52,
   "id": "4883bb84",
   "metadata": {},
   "outputs": [
    {
     "name": "stdout",
     "output_type": "stream",
     "text": [
      "Invalid Position\n"
     ]
    }
   ],
   "source": [
    "N1.AddAt(0,20)"
   ]
  },
  {
   "cell_type": "code",
   "execution_count": 53,
   "id": "55a98fc0",
   "metadata": {},
   "outputs": [
    {
     "data": {
      "text/plain": [
       "3"
      ]
     },
     "execution_count": 53,
     "metadata": {},
     "output_type": "execute_result"
    }
   ],
   "source": [
    "N1.Length()"
   ]
  },
  {
   "cell_type": "code",
   "execution_count": 54,
   "id": "bcb7306a",
   "metadata": {},
   "outputs": [
    {
     "name": "stdout",
     "output_type": "stream",
     "text": [
      "LL : 4 5 10 \n"
     ]
    }
   ],
   "source": [
    "N1.Traversal()"
   ]
  },
  {
   "cell_type": "code",
   "execution_count": 55,
   "id": "602a3c14",
   "metadata": {},
   "outputs": [
    {
     "name": "stdout",
     "output_type": "stream",
     "text": [
      "LL : 4 10 \n"
     ]
    }
   ],
   "source": [
    "N1.DeleteAt(2)"
   ]
  },
  {
   "cell_type": "code",
   "execution_count": 56,
   "id": "9df8cad9",
   "metadata": {},
   "outputs": [
    {
     "data": {
      "text/plain": [
       "'Invalid Position'"
      ]
     },
     "execution_count": 56,
     "metadata": {},
     "output_type": "execute_result"
    }
   ],
   "source": [
    "N1.DeleteAt(4)"
   ]
  },
  {
   "cell_type": "code",
   "execution_count": 57,
   "id": "be1aeadd",
   "metadata": {},
   "outputs": [
    {
     "name": "stdout",
     "output_type": "stream",
     "text": [
      "LL : 5 15 10 20 \n",
      "LL : 5 15 10 20 \n",
      "LL : 5 15 20 \n",
      "LL : 5 15 20 \n",
      "LL : 5 15 \n",
      "LL : 5 15 \n",
      "Length: 2\n"
     ]
    }
   ],
   "source": [
    "LL = LinkedList()\n",
    "LL.AddAtEnd(10)\n",
    "LL.AddAtEnd(20)\n",
    "LL.AddAtStart(5)\n",
    "LL.AddAt(2, 15)\n",
    "LL.Traversal()  # Output: LL: 5 15 10 20\n",
    "LL.DeleteAt(3)\n",
    "LL.Traversal()  # Output: LL: 5 15 20\n",
    "LL.DeleteAtEnd()\n",
    "LL.Traversal()  # Output: LL: 5 15\n",
    "print(\"Length:\", LL.Length())  # Output: Length: 2\n"
   ]
  },
  {
   "cell_type": "code",
   "execution_count": 58,
   "id": "eed54a52",
   "metadata": {},
   "outputs": [
    {
     "name": "stdout",
     "output_type": "stream",
     "text": [
      "LL : 0 1 1.5 2 3 \n",
      "Length: 5\n",
      "LL : 1 1.5 2 3 \n",
      "LL : 1 1.5 2 \n",
      "LL : 1 2 \n"
     ]
    }
   ],
   "source": [
    "ll = LinkedList()\n",
    "    \n",
    "# Test insertions\n",
    "ll.AddAtEnd(1)\n",
    "ll.AddAtEnd(2)\n",
    "ll.AddAtEnd(3)\n",
    "ll.AddAtStart(0)\n",
    "ll.AddAt(3, 1.5)\n",
    "\n",
    "print(f\"Length: {ll.Length()}\")\n",
    "\n",
    "# Test deletions\n",
    "ll.DeleteAtStart()\n",
    "ll.DeleteAtEnd()\n",
    "ll.DeleteAt(2)"
   ]
  },
  {
   "cell_type": "code",
   "execution_count": 59,
   "id": "ada58af7",
   "metadata": {},
   "outputs": [
    {
     "name": "stdout",
     "output_type": "stream",
     "text": [
      "'LinkedList' object has no attribute '__Head'\n"
     ]
    }
   ],
   "source": [
    "try:\n",
    "    print(N1.__Head)\n",
    "except Exception as e:\n",
    "    print(e)"
   ]
  },
  {
   "cell_type": "code",
   "execution_count": 60,
   "id": "0dac241a",
   "metadata": {},
   "outputs": [
    {
     "data": {
      "text/plain": [
       "<__main__.Node at 0x254b186ed90>"
      ]
     },
     "execution_count": 60,
     "metadata": {},
     "output_type": "execute_result"
    }
   ],
   "source": [
    "N1._LinkedList__Head"
   ]
  },
  {
   "cell_type": "code",
   "execution_count": 61,
   "id": "b6abd794",
   "metadata": {},
   "outputs": [
    {
     "name": "stdout",
     "output_type": "stream",
     "text": [
      "LL : 4 10 \n"
     ]
    }
   ],
   "source": [
    "N1.Traversal()"
   ]
  },
  {
   "cell_type": "code",
   "execution_count": 63,
   "id": "c4512a2a",
   "metadata": {},
   "outputs": [
    {
     "data": {
      "text/plain": [
       "'4 : Position 1'"
      ]
     },
     "execution_count": 63,
     "metadata": {},
     "output_type": "execute_result"
    }
   ],
   "source": [
    "N1.Search(4)"
   ]
  },
  {
   "cell_type": "code",
   "execution_count": 64,
   "id": "8c6212d2",
   "metadata": {},
   "outputs": [
    {
     "data": {
      "text/plain": [
       "'67 : Not Found'"
      ]
     },
     "execution_count": 64,
     "metadata": {},
     "output_type": "execute_result"
    }
   ],
   "source": [
    "N1.Search(67)"
   ]
  },
  {
   "cell_type": "code",
   "execution_count": null,
   "id": "1e782717",
   "metadata": {},
   "outputs": [],
   "source": []
  }
 ],
 "metadata": {
  "kernelspec": {
   "display_name": "base",
   "language": "python",
   "name": "python3"
  },
  "language_info": {
   "codemirror_mode": {
    "name": "ipython",
    "version": 3
   },
   "file_extension": ".py",
   "mimetype": "text/x-python",
   "name": "python",
   "nbconvert_exporter": "python",
   "pygments_lexer": "ipython3",
   "version": "3.11.5"
  }
 },
 "nbformat": 4,
 "nbformat_minor": 5
}
