{
 "cells": [
  {
   "cell_type": "markdown",
   "id": "8cd1d2fb",
   "metadata": {},
   "source": [
    "# Bubble Sort"
   ]
  },
  {
   "cell_type": "code",
   "execution_count": 103,
   "id": "f8fd9bff",
   "metadata": {},
   "outputs": [],
   "source": [
    "def BubbleSort(List):\n",
    "    for i in range(len(List)-1):\n",
    "        for j in range(len(List)-1-i):\n",
    "            if(List[j] > List[j+1]):\n",
    "                List[j], List[j+1] = List[j+1], List[j]\n",
    "    print(\"Sorted : \",List)"
   ]
  },
  {
   "cell_type": "code",
   "execution_count": 104,
   "id": "8db992f0",
   "metadata": {},
   "outputs": [
    {
     "name": "stdout",
     "output_type": "stream",
     "text": [
      "Sorted :  [1, 1, 2, 4, 6, 22, 34, 34, 75]\n"
     ]
    }
   ],
   "source": [
    "BubbleSort([4,2,1,6,34,75,22,1,34])"
   ]
  },
  {
   "cell_type": "markdown",
   "id": "44a3177e",
   "metadata": {},
   "source": [
    "# Optimised Bubble sort"
   ]
  },
  {
   "cell_type": "code",
   "execution_count": 105,
   "id": "998525aa",
   "metadata": {},
   "outputs": [],
   "source": [
    "def BubbleSort(List):\n",
    "    for i in range(len(List)):\n",
    "        Swapped = False\n",
    "        for j in range(len(List) - 1 - i):\n",
    "            if(List[j] > List[j+1]):\n",
    "                List[j], List[j+1] = List[j+1], List[j]\n",
    "                Swapped = True\n",
    "        if not Swapped:\n",
    "            return"
   ]
  },
  {
   "cell_type": "code",
   "execution_count": 106,
   "id": "71edd4bc",
   "metadata": {},
   "outputs": [],
   "source": [
    "BubbleSort([10,1,2,3,4,5,6,7])"
   ]
  },
  {
   "cell_type": "markdown",
   "id": "e228c5f4",
   "metadata": {},
   "source": [
    "# Selection Sort"
   ]
  },
  {
   "cell_type": "code",
   "execution_count": 107,
   "id": "8511cc66",
   "metadata": {},
   "outputs": [],
   "source": [
    "def Min(List):\n",
    "    X = 0\n",
    "    for i in range(1,len(List)):\n",
    "        if(List[i] < List[X]):\n",
    "            X = i\n",
    "    return X\n",
    "\n",
    "def SelectionSort(List):\n",
    "    for i in range(len(List)-1):\n",
    "        MinIndex = Min(List[i:]) + i\n",
    "        List[i], List[MinIndex] = List[MinIndex], List[i]\n",
    "    print(\"Sorted : \",List)"
   ]
  },
  {
   "cell_type": "code",
   "execution_count": 108,
   "id": "d345f2bb",
   "metadata": {},
   "outputs": [
    {
     "name": "stdout",
     "output_type": "stream",
     "text": [
      "Sorted :  [1, 1, 2, 4, 6, 22, 34, 34, 75]\n"
     ]
    }
   ],
   "source": [
    "SelectionSort([4,2,1,6,34,75,22,1,34])"
   ]
  },
  {
   "cell_type": "code",
   "execution_count": 109,
   "id": "21eaa56f",
   "metadata": {},
   "outputs": [],
   "source": [
    "# Insertion Sort"
   ]
  },
  {
   "cell_type": "code",
   "execution_count": 110,
   "id": "b445acd2",
   "metadata": {},
   "outputs": [],
   "source": [
    "def InsertionSort(List):\n",
    "    for i in range(1, len(List)):\n",
    "        j = i - 1\n",
    "        Temp = List[i]\n",
    "        while(j >= 0 and List[j] > Temp):\n",
    "            List[j+1] = List[j]\n",
    "            j -= 1\n",
    "        List[j+1] = Temp\n",
    "    print(List)"
   ]
  },
  {
   "cell_type": "code",
   "execution_count": 111,
   "id": "906e1acc",
   "metadata": {},
   "outputs": [
    {
     "name": "stdout",
     "output_type": "stream",
     "text": [
      "[1, 1, 2, 4, 6, 22, 34, 34, 75]\n"
     ]
    }
   ],
   "source": [
    "InsertionSort([4,2,1,6,34,75,22,1,34])"
   ]
  },
  {
   "cell_type": "code",
   "execution_count": 112,
   "id": "4e7cf063",
   "metadata": {},
   "outputs": [],
   "source": [
    "def SortTwoArray(Arr1,Arr2):\n",
    "    i = j = 0\n",
    "    Temp = []\n",
    "    \n",
    "    while(i < len(Arr1) and j < len(Arr2)):\n",
    "        if(Arr1[i] <= Arr2[j]):\n",
    "            Temp.append(Arr1[i])\n",
    "            i += 1\n",
    "        else:\n",
    "            Temp.append(Arr2[j])\n",
    "            j += 1\n",
    "    while(i < len(Arr1)):\n",
    "        Temp.append(Arr1[i])\n",
    "        i += 1\n",
    "    while(j < len(Arr2)):\n",
    "        Temp.append(Arr2[j])\n",
    "        j += 1\n",
    "    print(Temp) "
   ]
  },
  {
   "cell_type": "code",
   "execution_count": 113,
   "id": "a1a83ae7",
   "metadata": {},
   "outputs": [
    {
     "name": "stdout",
     "output_type": "stream",
     "text": [
      "[5, 6, 6, 10, 15, 20, 30]\n"
     ]
    }
   ],
   "source": [
    "SortTwoArray([5,6,6,30],[10,15,20])"
   ]
  },
  {
   "cell_type": "code",
   "execution_count": 114,
   "id": "27992c10",
   "metadata": {},
   "outputs": [
    {
     "name": "stdout",
     "output_type": "stream",
     "text": [
      "[8, 10, 11, 15, 20, 40, 55]\n"
     ]
    }
   ],
   "source": [
    "def MergeSort(Arr,Low,Mid,High):\n",
    "    Left = Arr[Low:Mid+1]\n",
    "    Right = Arr[Mid+1:High+1]\n",
    "\n",
    "    i = j = 0\n",
    "    k = Low\n",
    "    \n",
    "    while(i < len(Left) and j < len(Right)):\n",
    "        if(Left[i] <= Right[j]):\n",
    "            Arr[k] = Left[i]\n",
    "            i += 1\n",
    "        else:\n",
    "            Arr[k] = Right[j]\n",
    "            j += 1\n",
    "        k += 1\n",
    "    \n",
    "    while(i < len(Left)):\n",
    "        Arr[k] = Left[i]\n",
    "        i += 1\n",
    "        k += 1\n",
    "    while(j < len(Right)):\n",
    "        Arr[k] = Right[j]\n",
    "        j += 1\n",
    "        k += 1\n",
    "    return Arr\n",
    "\n",
    "Arr = [10,15,20,40,8,11,55]\n",
    "Low = 0\n",
    "High = len(Arr)-1\n",
    "Mid = (Low+High) // 2\n",
    "\n",
    "Arr = MergeSort(Arr,Low,Mid,High)\n",
    "\n",
    "print(Arr)"
   ]
  },
  {
   "cell_type": "code",
   "execution_count": 115,
   "id": "fddc286f",
   "metadata": {},
   "outputs": [
    {
     "name": "stdout",
     "output_type": "stream",
     "text": [
      "[8, 10, 11, 15, 20, 40, 55]\n"
     ]
    }
   ],
   "source": [
    "Arr = [10,15,20,40,8,11,55]\n",
    "Low = 0\n",
    "High = len(Arr)-1\n",
    "Mid = (Low+High) // 2\n",
    "\n",
    "Arr = MergeSort(Arr,Low,Mid,High)\n",
    "\n",
    "print(Arr)"
   ]
  },
  {
   "cell_type": "code",
   "execution_count": 116,
   "id": "f798f656",
   "metadata": {},
   "outputs": [],
   "source": [
    "def Merge(Arr,Left,Right):\n",
    "    if(Right > Left):\n",
    "        Mid = (Left + Right) // 2\n",
    "        Merge(Arr,Left,Mid)\n",
    "        Merge(Arr,Mid+1,Right)\n",
    "        MergeSort(Arr,Low,Mid,High)\n",
    "    else:\n",
    "        return"
   ]
  },
  {
   "cell_type": "code",
   "execution_count": 117,
   "id": "a5bf2ad2",
   "metadata": {},
   "outputs": [
    {
     "name": "stdout",
     "output_type": "stream",
     "text": [
      "[5, 7, 10, 30, 15]\n"
     ]
    }
   ],
   "source": [
    "Arr = [10, 5, 30, 15, 7]\n",
    "\n",
    "Merge(Arr, 0, 4)\n",
    "\n",
    "print(Arr)"
   ]
  },
  {
   "cell_type": "code",
   "execution_count": 118,
   "id": "d00103fc",
   "metadata": {},
   "outputs": [],
   "source": [
    "def Union(arr1 ,arr2):\n",
    "    Temp = []\n",
    "    i = j = 0\n",
    "    while(i < len(arr1) and j < len(arr2)):\n",
    "        if(Temp and Temp[-1] == arr1[i]):\n",
    "            i += 1\n",
    "            continue\n",
    "        if(Temp and Temp[-1] == arr2[j]):\n",
    "            j += 1\n",
    "            continue\n",
    "        elif(arr1[i] > arr2[j]):\n",
    "            Temp.append(arr2[j])\n",
    "            j += 1\n",
    "        elif(arr1[i] < arr2[j]):\n",
    "            Temp.append(arr1[i])\n",
    "            i += 1\n",
    "        else:\n",
    "            Temp.append(arr1[i])\n",
    "            i += 1\n",
    "            j += 1\n",
    "            \n",
    "        \n",
    "    while(i < len(arr1)):\n",
    "        if(not Temp or Temp[-1] != arr1[i]):\n",
    "            Temp.append(arr1[i])\n",
    "        i += 1\n",
    "    while(j < len(arr2)):\n",
    "        if(not Temp or Temp[-1] != arr2[j]):\n",
    "            Temp.append(arr2[j])\n",
    "        j += 1  \n",
    "    return Temp\n",
    "    "
   ]
  },
  {
   "cell_type": "code",
   "execution_count": 119,
   "id": "b8997206",
   "metadata": {},
   "outputs": [
    {
     "data": {
      "text/plain": [
       "[2, 3, 5, 8, 9, 10, 15]"
      ]
     },
     "execution_count": 119,
     "metadata": {},
     "output_type": "execute_result"
    }
   ],
   "source": [
    "Union([3,5,5,5,8,8,8],[2,5,5,5,8,9,10,10,15,15,15,15])"
   ]
  },
  {
   "cell_type": "code",
   "execution_count": 120,
   "id": "6b60e9bf",
   "metadata": {},
   "outputs": [],
   "source": [
    "def Intersection(Arr1,Arr2):\n",
    "    Temp = []\n",
    "    i = j = 0\n",
    "    \n",
    "    while(i < len(Arr1) and j < len(Arr2)):\n",
    "        if(Temp and Temp[-1] == Arr1[i]):\n",
    "            i += 1\n",
    "            continue\n",
    "        if(Temp and Temp[-1] == Arr2[j]):\n",
    "            j += 1\n",
    "            continue\n",
    "        elif(Arr1[i] < Arr2[j]):\n",
    "            i += 1\n",
    "        elif(Arr1[i] > Arr2[j]):\n",
    "            j += 1\n",
    "        else:\n",
    "            Temp.append(Arr1[i])\n",
    "            i += 1\n",
    "            j += 1\n",
    "        \n",
    "    return(Temp)"
   ]
  },
  {
   "cell_type": "code",
   "execution_count": 121,
   "id": "99682c85",
   "metadata": {},
   "outputs": [
    {
     "data": {
      "text/plain": [
       "[5, 8]"
      ]
     },
     "execution_count": 121,
     "metadata": {},
     "output_type": "execute_result"
    }
   ],
   "source": [
    "Intersection([3,5,5,5,8,8,8],[2,5,5,5,8,9,10,10,15,15,15,15])"
   ]
  },
  {
   "cell_type": "code",
   "execution_count": 122,
   "id": "65db7b31",
   "metadata": {},
   "outputs": [],
   "source": [
    "def Inversion(Arr):\n",
    "    Count = 0\n",
    "    for i in range(len(Arr)-1):\n",
    "        for j in range(i+1,len(Arr)):\n",
    "            if(Arr[i] > Arr[j]):\n",
    "                Count += 1\n",
    "    print(Count)"
   ]
  },
  {
   "cell_type": "code",
   "execution_count": 123,
   "id": "35c12b90",
   "metadata": {},
   "outputs": [
    {
     "name": "stdout",
     "output_type": "stream",
     "text": [
      "0\n",
      "6\n",
      "6\n",
      "3\n"
     ]
    }
   ],
   "source": [
    "Inversion([1,2,3,4,5])\n",
    "Inversion([1,4,6,2,3,4,5,6])\n",
    "Inversion([4,3,2,1])\n",
    "Inversion([2,4,1,3,5])"
   ]
  },
  {
   "cell_type": "code",
   "execution_count": 124,
   "id": "34c9d9b0",
   "metadata": {},
   "outputs": [
    {
     "name": "stdout",
     "output_type": "stream",
     "text": [
      "[2] [4]\n",
      "0\n",
      "[2, 4] [1]\n",
      "2\n",
      "[3] [5]\n",
      "0\n",
      "[1, 2, 4] [3, 5]\n",
      "1\n"
     ]
    },
    {
     "data": {
      "text/plain": [
       "3"
      ]
     },
     "execution_count": 124,
     "metadata": {},
     "output_type": "execute_result"
    }
   ],
   "source": [
    "def CountInversion(Arr,Low,High):\n",
    "    Count = 0\n",
    "    if(Low < High):\n",
    "        Mid = (Low + High) // 2\n",
    "        \n",
    "        Count += CountInversion(Arr,Low,Mid)\n",
    "        Count += CountInversion(Arr,Mid+1,High)\n",
    "        Count += MergeInversion(Arr,Low,Mid,High)\n",
    "        \n",
    "    return Count\n",
    "def MergeInversion(Arr,Low,Mid,High,):\n",
    "    Count = 0\n",
    "    Left = Arr[Low:Mid+1]\n",
    "    Right = Arr[Mid+1:High+1]\n",
    "    print(Left,Right)\n",
    "    \n",
    "    i = j = 0\n",
    "    k = Low\n",
    "    \n",
    "    while(i < len(Left) and j < len(Right)):\n",
    "        if(Left[i] <= Right[j]):\n",
    "            Arr[k] = Left[i]\n",
    "            i += 1\n",
    "        elif(Left[i] > Right[j]):\n",
    "            Arr[k] = Right[j]\n",
    "            j += 1\n",
    "            Count += len(Left) - i\n",
    "        k += 1\n",
    "    \n",
    "    while(i < len(Left)):\n",
    "        Arr[k] = Left[i]\n",
    "        i += 1\n",
    "        k += 1\n",
    "    while(j < len(Right)):\n",
    "        Arr[k] = Right[j]\n",
    "        k += 1\n",
    "        j += 1  \n",
    "    \n",
    "    print(Count)\n",
    "    return Count\n",
    "\n",
    "Arr = [2,4,1,3,5]\n",
    "CountInversion(Arr,0,len(Arr)-1)\n",
    "    "
   ]
  },
  {
   "cell_type": "code",
   "execution_count": 125,
   "id": "0f2ec6fa",
   "metadata": {},
   "outputs": [
    {
     "name": "stdout",
     "output_type": "stream",
     "text": [
      "[2] [5]\n",
      "0\n",
      "[8] [11]\n",
      "0\n",
      "[2, 5] [8, 11]\n",
      "0\n",
      "[3] [6]\n",
      "0\n",
      "[9] [13]\n",
      "0\n",
      "[3, 6] [9, 13]\n",
      "0\n",
      "[2, 5, 8, 11] [3, 6, 9, 13]\n",
      "6\n"
     ]
    },
    {
     "data": {
      "text/plain": [
       "6"
      ]
     },
     "execution_count": 125,
     "metadata": {},
     "output_type": "execute_result"
    }
   ],
   "source": [
    "Arr = [2,5,8,11,3,6,9,13]\n",
    "CountInversion(Arr,0,len(Arr)-1)"
   ]
  },
  {
   "cell_type": "code",
   "execution_count": 159,
   "id": "9b15c9d2",
   "metadata": {},
   "outputs": [],
   "source": [
    "def Partion(Arr):\n",
    "    L = len(Arr) - 1\n",
    "    i,j = 0, L - 1\n",
    "    \n",
    "    while(i <= j):\n",
    "        print(i,j)\n",
    "        while(i <= j and Arr[i] <= Arr[L]):\n",
    "            i += 1\n",
    "        while(i <= j and Arr[j] > Arr[L]):\n",
    "            j -= 1\n",
    "        if(i < j):\n",
    "            Arr[i],Arr[j] = Arr[j],Arr[i]\n",
    "            i += 1\n",
    "            j -= 1\n",
    "        print(Arr)\n",
    "        \n",
    "    Arr[i] ,Arr[L] = Arr[L],Arr[i] \n",
    "    print(Arr)\n",
    "    return i"
   ]
  },
  {
   "cell_type": "code",
   "execution_count": 160,
   "id": "23176c53",
   "metadata": {},
   "outputs": [
    {
     "name": "stdout",
     "output_type": "stream",
     "text": [
      "0 4\n",
      "[1, 4, 2, 7, 6, 5]\n",
      "2 3\n",
      "[1, 4, 2, 7, 6, 5]\n",
      "[1, 4, 2, 5, 6, 7]\n"
     ]
    },
    {
     "data": {
      "text/plain": [
       "3"
      ]
     },
     "execution_count": 160,
     "metadata": {},
     "output_type": "execute_result"
    }
   ],
   "source": [
    "Partion([1,6,2,7,4,5])"
   ]
  },
  {
   "cell_type": "code",
   "execution_count": 161,
   "id": "a07fad6d",
   "metadata": {},
   "outputs": [
    {
     "name": "stdout",
     "output_type": "stream",
     "text": [
      "0 5\n",
      "[1, 6, 2, 7, 4, 5, 12]\n",
      "[1, 6, 2, 7, 4, 5, 12]\n"
     ]
    },
    {
     "data": {
      "text/plain": [
       "6"
      ]
     },
     "execution_count": 161,
     "metadata": {},
     "output_type": "execute_result"
    }
   ],
   "source": [
    "Partion([1,6,2,7,4,5,12])"
   ]
  },
  {
   "cell_type": "code",
   "execution_count": 128,
   "id": "f791cb1e",
   "metadata": {},
   "outputs": [],
   "source": [
    "def Partion(Arr):\n",
    "    P = Arr[-1]\n",
    "    i = -1\n",
    "    for j in range(len(Arr)):\n",
    "        if(Arr[j] < P):\n",
    "            i += 1\n",
    "            Arr[i],Arr[j] = Arr[j],Arr[i]\n",
    "        print(i,j,Arr)\n",
    "    Arr[i+1],Arr[-1] = Arr[-1],Arr[i+1]\n",
    "    print(Arr)\n",
    "        \n",
    "    "
   ]
  },
  {
   "cell_type": "code",
   "execution_count": 129,
   "id": "3e81a6e4",
   "metadata": {},
   "outputs": [
    {
     "name": "stdout",
     "output_type": "stream",
     "text": [
      "0 0 [1, 6, 2, 7, 4, 5]\n",
      "0 1 [1, 6, 2, 7, 4, 5]\n",
      "1 2 [1, 2, 6, 7, 4, 5]\n",
      "1 3 [1, 2, 6, 7, 4, 5]\n",
      "2 4 [1, 2, 4, 7, 6, 5]\n",
      "2 5 [1, 2, 4, 7, 6, 5]\n",
      "[1, 2, 4, 5, 6, 7]\n"
     ]
    }
   ],
   "source": [
    "Partion([1,6,2,7,4,5])"
   ]
  },
  {
   "cell_type": "code",
   "execution_count": 1,
   "id": "d951d3a0",
   "metadata": {},
   "outputs": [],
   "source": [
    "def LomutoPartition(Arr,L,H):\n",
    "    if(L < H):\n",
    "        i = L - 1\n",
    "        for j in range(L,H):\n",
    "            if(Arr[j] <= Arr[H]):\n",
    "                i += 1\n",
    "                Arr[i],Arr[j] = Arr[j],Arr[i]\n",
    "                \n",
    "        Arr[i+1],Arr[H] = Arr[H],Arr[i+1]\n",
    "        return i+1\n",
    "def QuickSort(Arr,L,H):\n",
    "    if(L < H):\n",
    "        Pivot = LomutoPartition(Arr,L,H)\n",
    "        QuickSort(Arr,L,Pivot-1)\n",
    "        QuickSort(Arr,Pivot+1,H)    "
   ]
  },
  {
   "cell_type": "code",
   "execution_count": 2,
   "id": "cd2fcff3",
   "metadata": {},
   "outputs": [
    {
     "name": "stdout",
     "output_type": "stream",
     "text": [
      "[3, 4, 5, 5, 6, 7, 8, 9, 25]\n"
     ]
    }
   ],
   "source": [
    "Arr = [9,8,7,6,5,4,3,25,5]\n",
    "QuickSort(Arr,0,8)\n",
    "print(Arr)"
   ]
  },
  {
   "cell_type": "code",
   "execution_count": 3,
   "id": "71ff0599",
   "metadata": {},
   "outputs": [],
   "source": [
    "def HoarePartion(Arr,L,H):\n",
    "    i = L + 1\n",
    "    j = H\n",
    "    while(i < j):\n",
    "        while(Arr[i] < Arr[L]):\n",
    "            i += 1\n",
    "        while(Arr[j] >= Arr[L]):\n",
    "            j -= 1\n",
    "        if(i < j):\n",
    "            Arr[i],Arr[j] = Arr[j],Arr[i]\n",
    "    Arr[i-1],Arr[L] = Arr[L],Arr[i-1]\n",
    "    return i-1\n",
    "\n",
    "def QuickSort(Arr,L,H):\n",
    "    if(L < H):\n",
    "        Pivot = HoarePartion(Arr,L,H)\n",
    "        QuickSort(Arr,L,Pivot)\n",
    "        QuickSort(Arr,Pivot+1,H)"
   ]
  },
  {
   "cell_type": "code",
   "execution_count": 4,
   "id": "968402cd",
   "metadata": {},
   "outputs": [
    {
     "name": "stdout",
     "output_type": "stream",
     "text": [
      "[4, 3, 5, 5]\n"
     ]
    }
   ],
   "source": [
    "Arr = [5,3,4,5]\n",
    "HoarePartion(Arr,0,3)\n",
    "print(Arr)"
   ]
  },
  {
   "cell_type": "code",
   "execution_count": 5,
   "id": "7c602ffe",
   "metadata": {},
   "outputs": [
    {
     "name": "stdout",
     "output_type": "stream",
     "text": [
      "[3, 4, 5, 5, 6, 7, 8, 9, 25]\n"
     ]
    }
   ],
   "source": [
    "Arr = [9,8,7,6,5,4,3,25,5]\n",
    "QuickSort(Arr,0,8)\n",
    "print(Arr)"
   ]
  },
  {
   "cell_type": "code",
   "execution_count": 32,
   "id": "374c4264",
   "metadata": {},
   "outputs": [
    {
     "name": "stdout",
     "output_type": "stream",
     "text": [
      "[1, 3, 4, 7, 9]\n"
     ]
    }
   ],
   "source": [
    "class Solution:\n",
    "    def quickSort(self, arr, low, high):\n",
    "        if(low < high):\n",
    "            P = self.partition(arr, low, high)\n",
    "            self.quickSort(arr,low,P-1)\n",
    "            self.quickSort(arr,P+1,high)\n",
    "    def partition(self, arr, low, high):\n",
    "        if(low < high):\n",
    "            X = high\n",
    "            P = arr[X]\n",
    "            high -= 1\n",
    "            while(low < high):\n",
    "                while(arr[low] < P):\n",
    "                    low += 1\n",
    "                while(arr[high] > P):\n",
    "                    high -= 1\n",
    "                if(low < high):\n",
    "                    arr[low],arr[high] = arr[high],arr[low]\n",
    "                    \n",
    "            arr[high+1],arr[X] = arr[X],arr[high+1]\n",
    "            return high+1\n",
    "    \n",
    "\n",
    "S1 = Solution()\n",
    "\n",
    "Arr = [4,1,3,9,7]\n",
    "\n",
    "S1.quickSort(Arr,0,len(Arr)-1)\n",
    "\n",
    "print(Arr)"
   ]
  },
  {
   "cell_type": "code",
   "execution_count": 37,
   "id": "caf723c5",
   "metadata": {},
   "outputs": [
    {
     "name": "stdout",
     "output_type": "stream",
     "text": [
      "[1, 3, 4, 7, 9]\n"
     ]
    }
   ],
   "source": [
    "class Solution:\n",
    "    def quickSort(self, arr, low, high):\n",
    "        if(low < high):\n",
    "            P = self.partition(arr, low, high)\n",
    "            self.quickSort(arr,low,P-1)\n",
    "            self.quickSort(arr,P+1,high)\n",
    "    def partition(self, arr, low, high):\n",
    "        if(low < high):\n",
    "            i = low\n",
    "            for j in range(low,high):\n",
    "                if(arr[j] <= arr[high]):\n",
    "                    arr[i],arr[j] = arr[j],arr[i]\n",
    "                    i += 1\n",
    "            arr[i],arr[high] = arr[high],arr[i]\n",
    "            return i\n",
    "S1 = Solution()\n",
    "\n",
    "Arr = [4,1,3,9,7]\n",
    "\n",
    "S1.quickSort(Arr,0,len(Arr)-1)\n",
    "\n",
    "print(Arr)"
   ]
  },
  {
   "cell_type": "code",
   "execution_count": null,
   "id": "d0737b20",
   "metadata": {},
   "outputs": [
    {
     "ename": "RecursionError",
     "evalue": "maximum recursion depth exceeded",
     "output_type": "error",
     "traceback": [
      "\u001b[1;31m---------------------------------------------------------------------------\u001b[0m",
      "\u001b[1;31mRecursionError\u001b[0m                            Traceback (most recent call last)",
      "Cell \u001b[1;32mIn[45], line 12\u001b[0m\n\u001b[0;32m      9\u001b[0m             \u001b[38;5;28;01mreturn\u001b[39;00m((x \u001b[38;5;241m*\u001b[39m (\u001b[38;5;28mself\u001b[39m\u001b[38;5;241m.\u001b[39mmyPow(x,n\u001b[38;5;241m-\u001b[39m\u001b[38;5;241m1\u001b[39m))))\n\u001b[0;32m     11\u001b[0m s1 \u001b[38;5;241m=\u001b[39m Solution()\n\u001b[1;32m---> 12\u001b[0m s1\u001b[38;5;241m.\u001b[39mmyPow(\u001b[38;5;241m2\u001b[39m,\u001b[38;5;241m200000000\u001b[39m)\n",
      "Cell \u001b[1;32mIn[45], line 6\u001b[0m, in \u001b[0;36mSolution.myPow\u001b[1;34m(self, x, n)\u001b[0m\n\u001b[0;32m      4\u001b[0m     \u001b[38;5;28;01mreturn\u001b[39;00m x\n\u001b[0;32m      5\u001b[0m \u001b[38;5;28;01mif\u001b[39;00m(n \u001b[38;5;241m>\u001b[39m \u001b[38;5;241m1\u001b[39m):\n\u001b[1;32m----> 6\u001b[0m     \u001b[38;5;28;01mreturn\u001b[39;00m x \u001b[38;5;241m*\u001b[39m (\u001b[38;5;28mself\u001b[39m\u001b[38;5;241m.\u001b[39mmyPow(x,n\u001b[38;5;241m-\u001b[39m\u001b[38;5;241m1\u001b[39m))\n\u001b[0;32m      7\u001b[0m \u001b[38;5;28;01melse\u001b[39;00m:\n\u001b[0;32m      8\u001b[0m     n \u001b[38;5;241m=\u001b[39m \u001b[38;5;28mabs\u001b[39m(n)\n",
      "Cell \u001b[1;32mIn[45], line 6\u001b[0m, in \u001b[0;36mSolution.myPow\u001b[1;34m(self, x, n)\u001b[0m\n\u001b[0;32m      4\u001b[0m     \u001b[38;5;28;01mreturn\u001b[39;00m x\n\u001b[0;32m      5\u001b[0m \u001b[38;5;28;01mif\u001b[39;00m(n \u001b[38;5;241m>\u001b[39m \u001b[38;5;241m1\u001b[39m):\n\u001b[1;32m----> 6\u001b[0m     \u001b[38;5;28;01mreturn\u001b[39;00m x \u001b[38;5;241m*\u001b[39m (\u001b[38;5;28mself\u001b[39m\u001b[38;5;241m.\u001b[39mmyPow(x,n\u001b[38;5;241m-\u001b[39m\u001b[38;5;241m1\u001b[39m))\n\u001b[0;32m      7\u001b[0m \u001b[38;5;28;01melse\u001b[39;00m:\n\u001b[0;32m      8\u001b[0m     n \u001b[38;5;241m=\u001b[39m \u001b[38;5;28mabs\u001b[39m(n)\n",
      "    \u001b[1;31m[... skipping similar frames: Solution.myPow at line 6 (2970 times)]\u001b[0m\n",
      "Cell \u001b[1;32mIn[45], line 6\u001b[0m, in \u001b[0;36mSolution.myPow\u001b[1;34m(self, x, n)\u001b[0m\n\u001b[0;32m      4\u001b[0m     \u001b[38;5;28;01mreturn\u001b[39;00m x\n\u001b[0;32m      5\u001b[0m \u001b[38;5;28;01mif\u001b[39;00m(n \u001b[38;5;241m>\u001b[39m \u001b[38;5;241m1\u001b[39m):\n\u001b[1;32m----> 6\u001b[0m     \u001b[38;5;28;01mreturn\u001b[39;00m x \u001b[38;5;241m*\u001b[39m (\u001b[38;5;28mself\u001b[39m\u001b[38;5;241m.\u001b[39mmyPow(x,n\u001b[38;5;241m-\u001b[39m\u001b[38;5;241m1\u001b[39m))\n\u001b[0;32m      7\u001b[0m \u001b[38;5;28;01melse\u001b[39;00m:\n\u001b[0;32m      8\u001b[0m     n \u001b[38;5;241m=\u001b[39m \u001b[38;5;28mabs\u001b[39m(n)\n",
      "\u001b[1;31mRecursionError\u001b[0m: maximum recursion depth exceeded"
     ]
    }
   ],
   "source": []
  },
  {
   "cell_type": "code",
   "execution_count": null,
   "id": "54b135e4",
   "metadata": {},
   "outputs": [],
   "source": []
  }
 ],
 "metadata": {
  "kernelspec": {
   "display_name": "base",
   "language": "python",
   "name": "python3"
  },
  "language_info": {
   "codemirror_mode": {
    "name": "ipython",
    "version": 3
   },
   "file_extension": ".py",
   "mimetype": "text/x-python",
   "name": "python",
   "nbconvert_exporter": "python",
   "pygments_lexer": "ipython3",
   "version": "3.11.5"
  }
 },
 "nbformat": 4,
 "nbformat_minor": 5
}
