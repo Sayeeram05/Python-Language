{
 "cells": [
  {
   "cell_type": "markdown",
   "id": "8cd1d2fb",
   "metadata": {},
   "source": [
    "# Bubble Sort"
   ]
  },
  {
   "cell_type": "code",
   "execution_count": 7,
   "id": "f8fd9bff",
   "metadata": {},
   "outputs": [],
   "source": [
    "def BubbleSort(List):\n",
    "    for i in range(len(List)-1):\n",
    "        for j in range(len(List)-1-i):\n",
    "            if(List[j] > List[j+1]):\n",
    "                List[j], List[j+1] = List[j+1], List[j]\n",
    "    print(\"Sorted : \",List)"
   ]
  },
  {
   "cell_type": "code",
   "execution_count": 8,
   "id": "8db992f0",
   "metadata": {},
   "outputs": [
    {
     "name": "stdout",
     "output_type": "stream",
     "text": [
      "Sorted :  [1, 1, 2, 4, 6, 22, 34, 34, 75]\n"
     ]
    }
   ],
   "source": [
    "BubbleSort([4,2,1,6,34,75,22,1,34])"
   ]
  },
  {
   "cell_type": "markdown",
   "id": "e228c5f4",
   "metadata": {},
   "source": [
    "# Selection Sort"
   ]
  },
  {
   "cell_type": "code",
   "execution_count": 17,
   "id": "8511cc66",
   "metadata": {},
   "outputs": [],
   "source": [
    "def Min(List):\n",
    "    X = 0\n",
    "    for i in range(1,len(List)):\n",
    "        if(List[i] < List[X]):\n",
    "            X = i\n",
    "    return X\n",
    "\n",
    "def SelectionSort(List):\n",
    "    for i in range(len(List)-1):\n",
    "        MinIndex = Min(List[i:]) + i\n",
    "        List[i], List[MinIndex] = List[MinIndex], List[i]\n",
    "    print(\"Sorted : \",List)"
   ]
  },
  {
   "cell_type": "code",
   "execution_count": 18,
   "id": "d345f2bb",
   "metadata": {},
   "outputs": [
    {
     "name": "stdout",
     "output_type": "stream",
     "text": [
      "Sorted :  [1, 1, 2, 4, 6, 22, 34, 34, 75]\n"
     ]
    }
   ],
   "source": [
    "SelectionSort([4,2,1,6,34,75,22,1,34])"
   ]
  },
  {
   "cell_type": "code",
   "execution_count": null,
   "id": "21eaa56f",
   "metadata": {},
   "outputs": [],
   "source": []
  }
 ],
 "metadata": {
  "kernelspec": {
   "display_name": "base",
   "language": "python",
   "name": "python3"
  },
  "language_info": {
   "codemirror_mode": {
    "name": "ipython",
    "version": 3
   },
   "file_extension": ".py",
   "mimetype": "text/x-python",
   "name": "python",
   "nbconvert_exporter": "python",
   "pygments_lexer": "ipython3",
   "version": "3.11.5"
  }
 },
 "nbformat": 4,
 "nbformat_minor": 5
}
