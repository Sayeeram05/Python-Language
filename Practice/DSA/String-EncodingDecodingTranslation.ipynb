{
 "cells": [
  {
   "cell_type": "code",
   "execution_count": 4,
   "id": "f4ae4a8f",
   "metadata": {},
   "outputs": [
    {
     "name": "stdout",
     "output_type": "stream",
     "text": [
      "b'Sayeeram'\n",
      "Sayeeram\n",
      "OneTwoThreeTwoOne\n"
     ]
    }
   ],
   "source": [
    "name  = \"Sayeeram\"\n",
    "\n",
    "encoded = name.encode()\n",
    "\n",
    "print(encoded)\n",
    "\n",
    "Decoded = encoded.decode()\n",
    "\n",
    "print(Decoded)\n",
    "\n",
    "Map = str.maketrans({'1':'One','2':'Two','3':'Three'})\n",
    "\n",
    "print(\"12321\".translate(Map))"
   ]
  },
  {
   "cell_type": "code",
   "execution_count": null,
   "id": "c18ba65e",
   "metadata": {},
   "outputs": [],
   "source": []
  }
 ],
 "metadata": {
  "kernelspec": {
   "display_name": "base",
   "language": "python",
   "name": "python3"
  },
  "language_info": {
   "codemirror_mode": {
    "name": "ipython",
    "version": 3
   },
   "file_extension": ".py",
   "mimetype": "text/x-python",
   "name": "python",
   "nbconvert_exporter": "python",
   "pygments_lexer": "ipython3",
   "version": "3.11.5"
  }
 },
 "nbformat": 4,
 "nbformat_minor": 5
}
