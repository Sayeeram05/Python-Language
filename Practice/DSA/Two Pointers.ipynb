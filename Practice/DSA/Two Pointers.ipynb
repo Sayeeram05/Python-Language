{
 "cells": [
  {
   "cell_type": "markdown",
   "id": "4b9de50f",
   "metadata": {},
   "source": [
    "# Two Sum in a Sorted Array"
   ]
  },
  {
   "cell_type": "code",
   "execution_count": 1,
   "id": "34824c62",
   "metadata": {},
   "outputs": [],
   "source": [
    "def TwoSum(arr,target):\n",
    "    arr.sort()\n",
    "    \n",
    "    L = 0\n",
    "    R = len(arr) - 1\n",
    "    \n",
    "    while L < R:\n",
    "        Sum = arr[L] + arr[R]\n",
    "        if(Sum == target):\n",
    "            return(arr[L],arr[R])\n",
    "        elif(Sum > target):\n",
    "            R -= 1\n",
    "        else:\n",
    "            L += 1\n",
    "    else:\n",
    "        return \"Not Possible\""
   ]
  },
  {
   "cell_type": "code",
   "execution_count": 2,
   "id": "ca8f862d",
   "metadata": {},
   "outputs": [
    {
     "name": "stdout",
     "output_type": "stream",
     "text": [
      "(2, 6)\n",
      "Not Possible\n",
      "(2, 7)\n",
      "(1, 1)\n",
      "Not Possible\n"
     ]
    }
   ],
   "source": [
    "print(TwoSum(arr = [1, 2, 4, 6, 10], target = 8))\n",
    "print(TwoSum(arr = [1, 2, 3, 9], target = 8))\n",
    "print(TwoSum([0, 2, 4, 7, 11], target = 9))\n",
    "print(TwoSum([1, 1, 1, 1], target = 2))\n",
    "print(TwoSum(arr = [5, 6, 7], target = 20))"
   ]
  },
  {
   "cell_type": "markdown",
   "id": "2bf269c6",
   "metadata": {},
   "source": [
    "# Remove Duplicates from Sorted Array"
   ]
  },
  {
   "cell_type": "code",
   "execution_count": 12,
   "id": "61d7537c",
   "metadata": {},
   "outputs": [],
   "source": [
    "def RemoveDuplicates(arr):\n",
    "    if(len(arr) == 0):\n",
    "        print(\"List : Empty\")\n",
    "        return\n",
    "    slow = 0\n",
    "    for fast in range(1,len(arr)):\n",
    "        if(arr[slow] != arr[fast]):\n",
    "            slow += 1\n",
    "            arr[slow] = arr[fast]\n",
    "    print(\"List : \",end=\"\")\n",
    "    for i in range(slow+1):\n",
    "        print(arr[i],end=\" \")\n",
    "    print()"
   ]
  },
  {
   "cell_type": "code",
   "execution_count": 13,
   "id": "5555ec00",
   "metadata": {},
   "outputs": [
    {
     "name": "stdout",
     "output_type": "stream",
     "text": [
      "List : 1 2 3 \n",
      "List : 0 1 \n",
      "List : 1 2 3 \n",
      "List : 2 \n",
      "List : Empty\n"
     ]
    }
   ],
   "source": [
    "RemoveDuplicates([1, 1, 2, 3, 3])\n",
    "RemoveDuplicates([0, 0, 0, 1])\n",
    "RemoveDuplicates([1, 2, 3] )\n",
    "RemoveDuplicates([2, 2, 2, 2, 2])\n",
    "RemoveDuplicates([])"
   ]
  },
  {
   "cell_type": "markdown",
   "id": "16a5fb81",
   "metadata": {},
   "source": [
    "# Move Zeroes to End"
   ]
  },
  {
   "cell_type": "code",
   "execution_count": 26,
   "id": "25311f37",
   "metadata": {},
   "outputs": [],
   "source": [
    "def MoveZeroes(arr):\n",
    "    slow = 0\n",
    "    fast = 1\n",
    "    while(slow < len(arr) and fast < len(arr)):\n",
    "        # print(\"B : \",arr)\n",
    "        # print(slow,fast)\n",
    "        if(arr[fast] == 0):\n",
    "            fast += 1\n",
    "            continue\n",
    "        elif(arr[slow] != 0):\n",
    "            slow += 1\n",
    "            continue\n",
    "        elif(slow > fast):\n",
    "            fast = slow + 1\n",
    "        else:\n",
    "            arr[slow],arr[fast] = arr[fast],arr[slow]\n",
    "            slow += 1\n",
    "            fast += 1\n",
    "        # print(\"A : \",arr)\n",
    "        # print(slow,fast)\n",
    "        # print(\"\\n\")\n",
    "    print(\"Array : \",arr)\n"
   ]
  },
  {
   "cell_type": "code",
   "execution_count": 27,
   "id": "07895dd3",
   "metadata": {},
   "outputs": [
    {
     "name": "stdout",
     "output_type": "stream",
     "text": [
      "Array :  [1, 3, 12, 0, 0]\n",
      "Array :  [1, 2, 0, 0]\n",
      "Array :  [0, 0, 0, 0]\n",
      "Array :  [4, 2, 1, 0]\n",
      "Array :  [1, 2, 3]\n"
     ]
    }
   ],
   "source": [
    "MoveZeroes([0,1,0,3,12])\n",
    "MoveZeroes([1, 0, 2, 0])\n",
    "MoveZeroes([0, 0, 0, 0])\n",
    "MoveZeroes([4, 2, 0, 1])\n",
    "MoveZeroes([1, 2, 3])\n"
   ]
  },
  {
   "cell_type": "code",
   "execution_count": 30,
   "id": "ebab10af",
   "metadata": {},
   "outputs": [],
   "source": [
    "def MoveZeroes2(arr):\n",
    "    slow = 0\n",
    "    for fast in range(len(arr)):\n",
    "        if(arr[fast] != 0):\n",
    "            arr[slow],arr[fast] = arr[fast],arr[slow]\n",
    "            slow += 1\n",
    "    print(\"List : \",arr)"
   ]
  },
  {
   "cell_type": "code",
   "execution_count": 31,
   "id": "d54c33ae",
   "metadata": {},
   "outputs": [
    {
     "name": "stdout",
     "output_type": "stream",
     "text": [
      "List :  [1, 3, 12, 0, 0]\n",
      "List :  [1, 2, 0, 0]\n",
      "List :  [0, 0, 0, 0]\n",
      "List :  [4, 2, 1, 0]\n",
      "List :  [1, 2, 3]\n"
     ]
    }
   ],
   "source": [
    "MoveZeroes2([0,1,0,3,12])\n",
    "MoveZeroes2([1, 0, 2, 0])\n",
    "MoveZeroes2([0, 0, 0, 0])\n",
    "MoveZeroes2([4, 2, 0, 1])\n",
    "MoveZeroes2([1, 2, 3])"
   ]
  },
  {
   "cell_type": "code",
   "execution_count": 32,
   "id": "35e7c8cd",
   "metadata": {},
   "outputs": [],
   "source": [
    "# Is Palindrome?"
   ]
  },
  {
   "cell_type": "code",
   "execution_count": 33,
   "id": "c2ea1fdb",
   "metadata": {},
   "outputs": [],
   "source": [
    "def Palindrome(word):\n",
    "    if not word:\n",
    "        return \"Invalid Input\"\n",
    "    Left = 0\n",
    "    Right = len(word)-1\n",
    "    while(Left < Right):\n",
    "        if(word[Left] != word[Right]):\n",
    "            return f\"{word} is not Palindrome\"\n",
    "        Left += 1\n",
    "        Right -= 1\n",
    "    else:\n",
    "        return f\"{word} is Palindrome\""
   ]
  },
  {
   "cell_type": "code",
   "execution_count": 34,
   "id": "dc945072",
   "metadata": {},
   "outputs": [
    {
     "name": "stdout",
     "output_type": "stream",
     "text": [
      "racecar is Palindrome\n",
      "level is Palindrome\n",
      "hello is not Palindrome\n",
      "Invalid Input\n",
      "a is Palindrome\n"
     ]
    }
   ],
   "source": [
    "print(Palindrome(\"racecar\"))\n",
    "print(Palindrome(\"level\"))\n",
    "print(Palindrome(\"hello\"))\n",
    "print(Palindrome(\"\"))\n",
    "print(Palindrome(\"a\"))"
   ]
  },
  {
   "cell_type": "markdown",
   "id": "bd9b0a93",
   "metadata": {},
   "source": [
    "# Merge Two Sorted Arrays"
   ]
  },
  {
   "cell_type": "code",
   "execution_count": 53,
   "id": "59e9b66a",
   "metadata": {},
   "outputs": [],
   "source": [
    "def MergeTwoSortedArrays(arr1,arr2):\n",
    "    j = len(arr2) - 1 \n",
    "    if(j < 0):\n",
    "        return arr1\n",
    "    k = len(arr1) - 1\n",
    "    i = k - arr1.count(0)\n",
    "    while i >= 0 and j >= 0:\n",
    "        print(i,j,k)\n",
    "        if(i >= 0 and arr1[i] >= arr2[j]):\n",
    "            arr1[k] = arr1[i]\n",
    "            i -= 1\n",
    "        else:\n",
    "            arr1[k] = arr2[j]\n",
    "            j -= 1\n",
    "        k -= 1\n",
    "    while(j >= 0):\n",
    "        arr1[k] = arr2[j]\n",
    "        j -= 1\n",
    "        k -= 1\n",
    "        \n",
    "    print(arr1)    "
   ]
  },
  {
   "cell_type": "code",
   "execution_count": 54,
   "id": "570c91f0",
   "metadata": {},
   "outputs": [
    {
     "name": "stdout",
     "output_type": "stream",
     "text": [
      "2 2 5\n",
      "2 1 4\n",
      "2 0 3\n",
      "1 0 2\n",
      "0 0 1\n",
      "[1, 2, 2, 3, 5, 6]\n",
      "[1]\n",
      "0 0 1\n",
      "[1, 2]\n",
      "2 2 5\n",
      "1 2 4\n",
      "0 2 3\n",
      "[1, 2, 3, 4, 5, 6]\n"
     ]
    }
   ],
   "source": [
    "MergeTwoSortedArrays([1,2,3,0,0,0], [2,5,6])\n",
    "MergeTwoSortedArrays([0], [1])\n",
    "MergeTwoSortedArrays([1], [] )\n",
    "MergeTwoSortedArrays([2,0], [1] )\n",
    "MergeTwoSortedArrays([4,5,6,0,0,0], [1,2,3] )"
   ]
  },
  {
   "cell_type": "markdown",
   "id": "4da1f300",
   "metadata": {},
   "source": [
    "# Max Sum of Subarray of Size K"
   ]
  },
  {
   "cell_type": "code",
   "execution_count": null,
   "id": "d0f30019",
   "metadata": {},
   "outputs": [],
   "source": [
    "def MaxSum(arr,k):\n",
    "    Sum = sum(arr[:k])\n",
    "    for i in range(k,len(arr)):\n",
    "        print(Sum ,arr[i], arr[i-k])\n",
    "        Window = Sum + arr[i] - arr[i-k]\n",
    "        print(\"W : \",Window)\n",
    "        if(Window > Sum):\n",
    "            Sum = Window\n",
    "    print(\"Sum : \",Sum)"
   ]
  },
  {
   "cell_type": "code",
   "execution_count": null,
   "id": "9f3dc752",
   "metadata": {},
   "outputs": [
    {
     "name": "stdout",
     "output_type": "stream",
     "text": [
      "W :  [1, 4, 2, 10]\n",
      "W :  [4, 2, 10, 23]\n",
      "W :  [2, 10, 23, 3]\n",
      "W :  [10, 23, 3, 1]\n",
      "W :  [23, 3, 1, 0]\n",
      "Sum :  17\n"
     ]
    }
   ],
   "source": [
    "MaxSum([1,4,2,10,23,3,1,0,20], k = 4)"
   ]
  },
  {
   "cell_type": "code",
   "execution_count": null,
   "id": "b4c55c85",
   "metadata": {},
   "outputs": [],
   "source": [
    "# Longest Substring Without Repeating Characters"
   ]
  }
 ],
 "metadata": {
  "kernelspec": {
   "display_name": "base",
   "language": "python",
   "name": "python3"
  },
  "language_info": {
   "codemirror_mode": {
    "name": "ipython",
    "version": 3
   },
   "file_extension": ".py",
   "mimetype": "text/x-python",
   "name": "python",
   "nbconvert_exporter": "python",
   "pygments_lexer": "ipython3",
   "version": "3.11.5"
  }
 },
 "nbformat": 4,
 "nbformat_minor": 5
}
