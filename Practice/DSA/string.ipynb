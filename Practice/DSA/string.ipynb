{
 "cells": [
  {
   "cell_type": "code",
   "execution_count": 10,
   "id": "8d7e1912",
   "metadata": {},
   "outputs": [],
   "source": [
    "def checkRotattion(s1,s2):\n",
    "    if len(s1) != len(s2):\n",
    "        return False\n",
    "    else:\n",
    "        s1 = s1+s1\n",
    "        return s1.find(s2) != -1"
   ]
  },
  {
   "cell_type": "code",
   "execution_count": 11,
   "id": "84ebdbbf",
   "metadata": {},
   "outputs": [
    {
     "data": {
      "text/plain": [
       "True"
      ]
     },
     "execution_count": 11,
     "metadata": {},
     "output_type": "execute_result"
    }
   ],
   "source": [
    "checkRotattion(\"ABCD\",\"DABC\")"
   ]
  },
  {
   "cell_type": "code",
   "execution_count": 6,
   "id": "438dc9e8",
   "metadata": {},
   "outputs": [],
   "source": [
    "def subSequence(word,seq):\n",
    "    if(len(seq) > len(word) or len(seq) == 0):\n",
    "        return False\n",
    "    i = 0\n",
    "    for j in word:\n",
    "        if(j == seq[i]):\n",
    "            i += 1\n",
    "        if(i == len(seq)):\n",
    "            return True\n",
    "    return False\n",
    "    \n",
    "        "
   ]
  },
  {
   "cell_type": "code",
   "execution_count": 12,
   "id": "af7f9238",
   "metadata": {},
   "outputs": [
    {
     "data": {
      "text/plain": [
       "False"
      ]
     },
     "execution_count": 12,
     "metadata": {},
     "output_type": "execute_result"
    }
   ],
   "source": [
    "subSequence(\"ABCD\",\"CDE\")"
   ]
  },
  {
   "cell_type": "code",
   "execution_count": 32,
   "id": "a62b7a7e",
   "metadata": {},
   "outputs": [],
   "source": [
    "def Anagram(s1,s2):\n",
    "    if(len(s1) != len(s2)):\n",
    "        return False\n",
    "    Data = dict()\n",
    "    for i,j in zip(s1,s2):\n",
    "        if(i in Data):\n",
    "            Data[i] += 1\n",
    "        else:\n",
    "            Data[i] = 1\n",
    "        if(j in Data):\n",
    "            Data[j] -= 1\n",
    "        else:\n",
    "            Data[j] = -1\n",
    "    for i in Data.values():\n",
    "        if(i != 0):\n",
    "            return False\n",
    "    return True\n",
    "        \n",
    "            \n",
    "    "
   ]
  },
  {
   "cell_type": "code",
   "execution_count": 33,
   "id": "51faea4f",
   "metadata": {},
   "outputs": [
    {
     "data": {
      "text/plain": [
       "False"
      ]
     },
     "execution_count": 33,
     "metadata": {},
     "output_type": "execute_result"
    }
   ],
   "source": [
    "Anagram(\"aaabcd\",\"bbaacd\")"
   ]
  },
  {
   "cell_type": "code",
   "execution_count": null,
   "id": "78fae722",
   "metadata": {},
   "outputs": [],
   "source": [
    "def LeftMostRepeted(Word):\n",
    "    Data = dict()\n",
    "    LeftMostIndex = -1\n",
    "    for index,val in enumerate(Word):\n",
    "        if(val not in Data):\n",
    "            Data[val] = index\n",
    "        elif(LeftMostIndex == -1 or Data[val] < LeftMostIndex):\n",
    "            LeftMostIndex = Data[val]\n",
    "            \n",
    "    return LeftMostIndex"
   ]
  },
  {
   "cell_type": "code",
   "execution_count": 40,
   "id": "31244834",
   "metadata": {},
   "outputs": [
    {
     "data": {
      "text/plain": [
       "0"
      ]
     },
     "execution_count": 40,
     "metadata": {},
     "output_type": "execute_result"
    }
   ],
   "source": [
    "LeftMostRepeted(\"ABCDBA\")"
   ]
  },
  {
   "cell_type": "code",
   "execution_count": 62,
   "id": "859742cc",
   "metadata": {},
   "outputs": [],
   "source": [
    "def LeftMostNotRepeted(Word):\n",
    "    Data = dict()\n",
    "    LeftMostIndex = []\n",
    "    for index,val in enumerate(Word):\n",
    "        if(val not in Data):\n",
    "            Data[val] = index\n",
    "            LeftMostIndex.append(index)\n",
    "        elif(Data[val] != -1):\n",
    "            LeftMostIndex.remove(Data[val])\n",
    "            Data[val] = -1\n",
    "    \n",
    "    if(LeftMostIndex):\n",
    "        return LeftMostIndex[0]\n",
    "    else:\n",
    "        return -1"
   ]
  },
  {
   "cell_type": "code",
   "execution_count": 63,
   "id": "a4fd774a",
   "metadata": {},
   "outputs": [
    {
     "data": {
      "text/plain": [
       "2"
      ]
     },
     "execution_count": 63,
     "metadata": {},
     "output_type": "execute_result"
    }
   ],
   "source": [
    "LeftMostNotRepeted(\"ABCDBA\")"
   ]
  },
  {
   "cell_type": "code",
   "execution_count": 64,
   "id": "8593af95",
   "metadata": {},
   "outputs": [
    {
     "name": "stdout",
     "output_type": "stream",
     "text": [
      "0\n",
      "-1\n",
      "1\n",
      "3\n"
     ]
    }
   ],
   "source": [
    "print(LeftMostNotRepeted(\"programming\"))  # 0 ('p')\n",
    "print(LeftMostNotRepeted(\"aabbcc\"))       # -1 (none)\n",
    "print(LeftMostNotRepeted(\"swiss\"))        # 1 ('w')\n",
    "print(LeftMostNotRepeted(\"racecar\"))      # 1 ('a')\n"
   ]
  },
  {
   "cell_type": "code",
   "execution_count": 135,
   "id": "d7c25b25",
   "metadata": {},
   "outputs": [],
   "source": [
    "def ReverseWord(Sentence):\n",
    "    Sentence = Sentence.split(\" \")\n",
    "    return \" \".join([word for word in Sentence][::-1])\n",
    "    "
   ]
  },
  {
   "cell_type": "code",
   "execution_count": 136,
   "id": "7b972646",
   "metadata": {},
   "outputs": [
    {
     "data": {
      "text/plain": [
       "'rff You Sai am I'"
      ]
     },
     "execution_count": 136,
     "metadata": {},
     "output_type": "execute_result"
    }
   ],
   "source": [
    "ReverseWord(\"I am Sai You rff\")"
   ]
  },
  {
   "cell_type": "code",
   "execution_count": null,
   "id": "3ea0f60b",
   "metadata": {},
   "outputs": [],
   "source": []
  },
  {
   "cell_type": "code",
   "execution_count": null,
   "id": "f881cafc",
   "metadata": {},
   "outputs": [],
   "source": []
  }
 ],
 "metadata": {
  "kernelspec": {
   "display_name": "base",
   "language": "python",
   "name": "python3"
  },
  "language_info": {
   "codemirror_mode": {
    "name": "ipython",
    "version": 3
   },
   "file_extension": ".py",
   "mimetype": "text/x-python",
   "name": "python",
   "nbconvert_exporter": "python",
   "pygments_lexer": "ipython3",
   "version": "3.11.5"
  }
 },
 "nbformat": 4,
 "nbformat_minor": 5
}
