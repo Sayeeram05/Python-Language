{
 "cells": [
  {
   "cell_type": "code",
   "execution_count": 37,
   "metadata": {},
   "outputs": [],
   "source": [
    "class Node:\n",
    "    def __init__(self,Key):\n",
    "        self.key = Key\n",
    "        self.left = None\n",
    "        self.right = None\n",
    "        self.count = 0  # Duplicates"
   ]
  },
  {
   "cell_type": "code",
   "execution_count": 38,
   "metadata": {},
   "outputs": [],
   "source": [
    "class Create():\n",
    "    def __init__(self):\n",
    "        self.Root = None\n",
    "    \n",
    "    def Traversal(self):\n",
    "        print(self.Root.key)\n",
    "        print(self.Root.left)\n",
    "        print(self.Root.right)\n",
    "        \n",
    "    def isempty(self):\n",
    "        return (self.Root is None)\n",
    "    \n",
    "    def insert(self,key):\n",
    "        newnode = Node(key)\n",
    "        if(self.isempty()):\n",
    "            self.Root = newnode\n",
    "        else:\n",
    "            Temp = self.Root\n",
    "            while True:\n",
    "                if(Temp.key == key):\n",
    "                    Temp.count += 1\n",
    "                    break\n",
    "                elif(key < Temp.key):\n",
    "                    if(Temp.left == None):\n",
    "                        Temp.left = newnode\n",
    "                        break\n",
    "                    else:\n",
    "                        Temp = Temp.left\n",
    "                else:\n",
    "                    if(Temp.right == None):\n",
    "                        Temp.right = newnode\n",
    "                        break\n",
    "                    else:\n",
    "                        Temp = Temp.right\n",
    "        \n",
    "    def Search(self,key):\n",
    "        if self.isempty():\n",
    "            print(\"Tree - Empty\")\n",
    "        else:\n",
    "            Temp = self.Root\n",
    "            while(Temp != None):\n",
    "                if(Temp.key == key):\n",
    "                    print(f\"{key} Found\")\n",
    "                    break\n",
    "                elif(key < Temp.key):\n",
    "                    Temp = Temp.left\n",
    "                else:\n",
    "                    Temp = Temp.right\n",
    "            else:\n",
    "                print(f\"{key} Not Found\")\n",
    "                    \n",
    "    "
   ]
  },
  {
   "cell_type": "code",
   "execution_count": 39,
   "metadata": {},
   "outputs": [],
   "source": [
    "t1 = Create()"
   ]
  },
  {
   "cell_type": "code",
   "execution_count": 40,
   "metadata": {},
   "outputs": [],
   "source": [
    "t1.insert(10)"
   ]
  },
  {
   "cell_type": "code",
   "execution_count": 41,
   "metadata": {},
   "outputs": [
    {
     "name": "stdout",
     "output_type": "stream",
     "text": [
      "10\n",
      "None\n",
      "None\n"
     ]
    }
   ],
   "source": [
    "t1.Traversal()"
   ]
  },
  {
   "cell_type": "code",
   "execution_count": 42,
   "metadata": {},
   "outputs": [],
   "source": [
    "t1.insert(5)"
   ]
  },
  {
   "cell_type": "code",
   "execution_count": 43,
   "metadata": {},
   "outputs": [
    {
     "data": {
      "text/plain": [
       "0"
      ]
     },
     "execution_count": 43,
     "metadata": {},
     "output_type": "execute_result"
    }
   ],
   "source": [
    "t1.Root.left.count"
   ]
  },
  {
   "cell_type": "code",
   "execution_count": 44,
   "metadata": {},
   "outputs": [],
   "source": [
    "t1.insert(15)"
   ]
  },
  {
   "cell_type": "code",
   "execution_count": 45,
   "metadata": {},
   "outputs": [],
   "source": [
    "t1.insert(9)"
   ]
  },
  {
   "cell_type": "code",
   "execution_count": 46,
   "metadata": {},
   "outputs": [
    {
     "data": {
      "text/plain": [
       "9"
      ]
     },
     "execution_count": 46,
     "metadata": {},
     "output_type": "execute_result"
    }
   ],
   "source": [
    "t1.Root.left.right.key"
   ]
  },
  {
   "cell_type": "code",
   "execution_count": 52,
   "metadata": {},
   "outputs": [
    {
     "name": "stdout",
     "output_type": "stream",
     "text": [
      "11 Not Found\n"
     ]
    }
   ],
   "source": [
    "t1.Search(11)"
   ]
  },
  {
   "cell_type": "code",
   "execution_count": null,
   "metadata": {},
   "outputs": [],
   "source": []
  }
 ],
 "metadata": {
  "kernelspec": {
   "display_name": "base",
   "language": "python",
   "name": "python3"
  },
  "language_info": {
   "codemirror_mode": {
    "name": "ipython",
    "version": 3
   },
   "file_extension": ".py",
   "mimetype": "text/x-python",
   "name": "python",
   "nbconvert_exporter": "python",
   "pygments_lexer": "ipython3",
   "version": "3.11.5"
  }
 },
 "nbformat": 4,
 "nbformat_minor": 2
}
