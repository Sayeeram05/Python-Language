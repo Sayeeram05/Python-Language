{
 "cells": [
  {
   "cell_type": "markdown",
   "id": "475dd9d1-9d53-4740-b370-b9de82bfe44c",
   "metadata": {},
   "source": [
    "## Singly Linked List"
   ]
  },
  {
   "cell_type": "code",
   "execution_count": 3,
   "id": "690f062b-6917-4f66-9246-40d5cd1269f1",
   "metadata": {},
   "outputs": [],
   "source": [
    "class Node:\n",
    "    def __init__(self,Data):\n",
    "        self.Data = Data\n",
    "        self.Next = None"
   ]
  },
  {
   "cell_type": "code",
   "execution_count": 4,
   "id": "9ba2f280-04ee-4320-a76f-17e5d5156a3e",
   "metadata": {},
   "outputs": [],
   "source": [
    "class LinkedList:\n",
    "    \n",
    "    def __init__(self):\n",
    "        self.Head = None\n",
    "        self.Tail = None\n",
    "    \n",
    "    def Traversal(self):\n",
    "        Temp = self.Head\n",
    "        print(\"Linked List : \",end = \"\")\n",
    "        if Temp != None:\n",
    "            while(Temp != None):\n",
    "                print(Temp.Data,end = \" \")\n",
    "                Temp = Temp.Next\n",
    "            print(\"\\n\")\n",
    "        else:\n",
    "            print(\"Empty\")\n",
    "            \n",
    "    def Search(self,Data):\n",
    "        if(self.Head == None):\n",
    "            return(\"Empty\")\n",
    "        else:\n",
    "            Position = 1\n",
    "            Temp = self.Head\n",
    "            while(Temp != None):\n",
    "                if(Temp.Data == Data):\n",
    "                    break\n",
    "                Temp = Temp.Next\n",
    "                Position += 1                \n",
    "            else:\n",
    "                return(\"Not Found\")\n",
    "            return(Position)\n",
    "\n",
    "    def Length(self):\n",
    "        L = 0\n",
    "        Temp = self.Head\n",
    "        while(Temp != None):\n",
    "            L += 1\n",
    "            Temp = Temp.Next\n",
    "        print(\"Length : \",L)\n",
    "\n",
    "    \n",
    "    # Add\n",
    "    def AddAtTail(self,Data):\n",
    "        newNode = Node(Data)\n",
    "        if(self.Head != None):\n",
    "            self.Tail.Next = newNode\n",
    "            self.Tail = newNode\n",
    "        else:\n",
    "            self.Head = self.Tail = newNode\n",
    "            \n",
    "    def AddAtHead(self,Data):\n",
    "        newNode = Node(Data)\n",
    "        if(self.Head != None):\n",
    "            newNode.Next = self.Head\n",
    "            self.Head = newNode\n",
    "        else:\n",
    "            self.Head = self.Tail = newNode\n",
    "            \n",
    "    def AddAtPosition(self,Data,Position):\n",
    "        try:\n",
    "            assert Position >= 1, f\"Invalid Position\"\n",
    "        except AssertionError as error:\n",
    "            print(error)\n",
    "            \n",
    "        if(self.Head == None or Position == 1):\n",
    "            self.AddAtHead(Data)\n",
    "        else:\n",
    "            Index = 1\n",
    "            Temp = self.Head\n",
    "            while(Temp != None and Index != Position-1):\n",
    "                Temp = Temp.Next\n",
    "                Index += 1\n",
    "            print(Position,Index)\n",
    "            if(Position-1 == Index):\n",
    "                newNode = Node(Data)\n",
    "                newNode.Next = Temp.Next\n",
    "                Temp.Next = newNode\n",
    "            else:\n",
    "                self.AddAtTail(Data)\n",
    "\n",
    "    # Delete\n",
    "    def DeleteAtEnd(self):\n",
    "        if(self.Head.next == None):\n",
    "            self.Head = None\n",
    "            self.Tail = None\n",
    "        else:\n",
    "            Temp = self.Head\n",
    "            while(Temp.next != True):\n",
    "                Temp = Temp.next\n",
    "            print(Temp.Data)\n",
    "                "
   ]
  },
  {
   "cell_type": "code",
   "execution_count": 5,
   "id": "ddb8b595-2b3d-42ed-9048-c432d40763fe",
   "metadata": {},
   "outputs": [
    {
     "name": "stdout",
     "output_type": "stream",
     "text": [
      "Linked List : 1 10 2 4 20 \n",
      "\n"
     ]
    }
   ],
   "source": [
    "L1 = LinkedList()\n",
    "L1.AddAtTail(2)\n",
    "L1.AddAtTail(4)\n",
    "L1.AddAtHead(10)\n",
    "L1.AddAtHead(1)\n",
    "L1.AddAtTail(20)\n",
    "\n",
    "L1.Traversal()"
   ]
  },
  {
   "cell_type": "code",
   "execution_count": 6,
   "id": "f9d1e6f9-8936-4f7f-bd4d-bec5c950505c",
   "metadata": {},
   "outputs": [],
   "source": [
    "L1.AddAtPosition(10,1)"
   ]
  },
  {
   "cell_type": "code",
   "execution_count": 7,
   "id": "7a372df2-3696-4559-a3cd-d736385ae314",
   "metadata": {},
   "outputs": [
    {
     "name": "stdout",
     "output_type": "stream",
     "text": [
      "Linked List : 10 1 10 2 4 20 \n",
      "\n"
     ]
    }
   ],
   "source": [
    "L1.Traversal()"
   ]
  },
  {
   "cell_type": "code",
   "execution_count": 8,
   "id": "c8eace5a-c090-4e54-8340-9f0f9b27665a",
   "metadata": {},
   "outputs": [
    {
     "data": {
      "text/plain": [
       "6"
      ]
     },
     "execution_count": 8,
     "metadata": {},
     "output_type": "execute_result"
    }
   ],
   "source": [
    "L1.Search(20)"
   ]
  },
  {
   "cell_type": "code",
   "execution_count": 9,
   "id": "4a6e7d00-0627-4c65-9974-e06493669d38",
   "metadata": {},
   "outputs": [
    {
     "name": "stdout",
     "output_type": "stream",
     "text": [
      "Length :  6\n"
     ]
    }
   ],
   "source": [
    "L1.Length()"
   ]
  },
  {
   "cell_type": "code",
   "execution_count": 10,
   "id": "bf96407f-1f81-4c80-9003-2fc210499ded",
   "metadata": {},
   "outputs": [],
   "source": [
    "L2 = LinkedList()"
   ]
  },
  {
   "cell_type": "code",
   "execution_count": 11,
   "id": "3df00ee6-c430-4399-bbb0-c2f910ca2953",
   "metadata": {},
   "outputs": [
    {
     "name": "stdout",
     "output_type": "stream",
     "text": [
      "Length :  0\n"
     ]
    }
   ],
   "source": [
    "L2.Length()"
   ]
  },
  {
   "cell_type": "code",
   "execution_count": 12,
   "id": "430877ea-efcd-407f-ba29-7603d4800dec",
   "metadata": {},
   "outputs": [
    {
     "name": "stdout",
     "output_type": "stream",
     "text": [
      "Linked List : Empty\n"
     ]
    }
   ],
   "source": [
    "L2.Traversal()"
   ]
  },
  {
   "cell_type": "code",
   "execution_count": 13,
   "id": "e638fcdc-9d3e-40d0-a96b-8d0c1a5eab30",
   "metadata": {},
   "outputs": [
    {
     "data": {
      "text/plain": [
       "'Empty'"
      ]
     },
     "execution_count": 13,
     "metadata": {},
     "output_type": "execute_result"
    }
   ],
   "source": [
    "L2.Search(5)"
   ]
  },
  {
   "cell_type": "code",
   "execution_count": 14,
   "id": "9b240ccf-664e-48c9-8a67-3ed481d79b0f",
   "metadata": {},
   "outputs": [
    {
     "ename": "SyntaxError",
     "evalue": "invalid syntax (2122083160.py, line 1)",
     "output_type": "error",
     "traceback": [
      "\u001b[1;36m  Cell \u001b[1;32mIn[14], line 1\u001b[1;36m\u001b[0m\n\u001b[1;33m    L2.\u001b[0m\n\u001b[1;37m       ^\u001b[0m\n\u001b[1;31mSyntaxError\u001b[0m\u001b[1;31m:\u001b[0m invalid syntax\n"
     ]
    }
   ],
   "source": []
  }
 ],
 "metadata": {
  "kernelspec": {
   "display_name": "Python 3 (ipykernel)",
   "language": "python",
   "name": "python3"
  },
  "language_info": {
   "codemirror_mode": {
    "name": "ipython",
    "version": 3
   },
   "file_extension": ".py",
   "mimetype": "text/x-python",
   "name": "python",
   "nbconvert_exporter": "python",
   "pygments_lexer": "ipython3",
   "version": "3.11.5"
  }
 },
 "nbformat": 4,
 "nbformat_minor": 5
}
