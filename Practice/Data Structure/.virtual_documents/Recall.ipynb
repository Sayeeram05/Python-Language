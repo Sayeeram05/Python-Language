


class Node:
    def __init__(self,Data):
        self.Data = Data
        self.Next = None


class LinkedList:
    
    def __init__(self):
        self.Head = None
        self.Tail = None
    
    def Traversal(self):
        Temp = self.Head
        print("Linked List : ",end = "")
        if Temp != None:
            while(Temp != None):
                print(Temp.Data,end = " ")
                Temp = Temp.Next
            print("\n")
        else:
            print("Empty")
            
    def Search(self,Data):
        if(self.Head == None):
            return("Empty")
        else:
            Position = 1
            Temp = self.Head
            while(Temp != None):
                if(Temp.Data == Data):
                    break
                Temp = Temp.Next
                Position += 1                
            else:
                return("Not Found")
            return(Position)

    def Length(self):
        L = 0
        Temp = self.Head
        while(Temp != None):
            L += 1
            Temp = Temp.Next
        print("Length : ",L)

    
    # Add
    def AddAtTail(self,Data):
        newNode = Node(Data)
        if(self.Head != None):
            self.Tail.Next = newNode
            self.Tail = newNode
        else:
            self.Head = self.Tail = newNode
            
    def AddAtHead(self,Data):
        newNode = Node(Data)
        if(self.Head != None):
            newNode.Next = self.Head
            self.Head = newNode
        else:
            self.Head = self.Tail = newNode
            
    def AddAtPosition(self,Data,Position):
        try:
            assert Position >= 1, f"Invalid Position"
        except AssertionError as error:
            print(error)
            
        if(self.Head == None or Position == 1):
            self.AddAtHead(Data)
        else:
            Index = 1
            Temp = self.Head
            while(Temp != None and Index != Position-1):
                Temp = Temp.Next
                Index += 1
            print(Position,Index)
            if(Position-1 == Index):
                newNode = Node(Data)
                newNode.Next = Temp.Next
                Temp.Next = newNode
            else:
                self.AddAtTail(Data)

    # Delete
    def DeleteAtTail(self):
        if(self.Head == None):
            print("Linked List : Empty")
        elif(self.Head.Next == None):
            self.Head = None
            self.Tail = None
            self.Traversal()
        else:
            Temp = self.Head
            pre = None
            while(Temp.Next != None):
                pre = Temp
                Temp = Temp.Next
            pre.Next=None
            self.Tail = pre
            self.Traversal()
        
    def DeleteAtHead(self):
        if(self.Head == None):
            print("Linked List : Empty")
        elif(self.Head.Next == None):
            self.Head = None
            self.Tail = None
            self.Traversal()
        else:
            self.Head = self.Head.Next
            self.Traversal()

    def DeleteAtposition(self,Position):
        if(self.Head == None):
            print("Linked List : Empty")
        elif(self.Head.Next == None):
            if(Position == 1):
                self.Head = None
                self.Tail = None
            else:
                print("Invalid Position")
            self.Traversal()
        elif(Position == 1):
            self.Head = self.Head.Next
            self.Traversal()
        else:
            Temp = self.Head
            Index = 1
            pre = self.Head
            while(Temp != None and Index != Position):
                pre = Temp
                Temp = Temp.Next
                Index += 1
            if(Temp != None and Index == Position):
                pre.Next = Temp.Next
            else:
                print("Invalid Position")
            self.Traversal()
                
            
        
                


L1 = LinkedList()





L1.AddAtTail(2)
L1.AddAtTail(4)
L1.AddAtHead(10)
L1.AddAtHead(1)
L1.AddAtTail(20)

L1.Traversal()


L1.AddAtPosition(10,1)


L1.Search(20)


L1.Length()


L2 = LinkedList()


L2.Length()


L2.Traversal()


L2.Search(5)


L1.Traversal()





L1.DeleteAtTail()


L2.AddAtTail(5)


L2.DeleteAtTail()


L1.DeleteAtHead()


L1.DeleteAtHead()


L1.DeleteAtposition(1)





L1.Traversal()


L1.Search(20)


L1.Length()
