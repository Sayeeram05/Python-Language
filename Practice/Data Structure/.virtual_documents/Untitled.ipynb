


class Node:
    def __init__(self,Data):
        self.Pre = None
        self.Data = Data
        self.Next = None


class DoublyLinkedList:
    def __init__(self):
        self.Head = None
        self.Tail = None

    def AddAtHead(self,Data):
        NewNode = Node(Data)
        if(self.Head == None):
            self.Head = self.Tail = NewNode
        else:
            NewNode.Next = self.Head
            self.Head.Pre = NewNode
            self.Head = NewNode

    def AddAtTail(self,Data):
        NewNode = Node(Data)
        if(self.Head == None):
            self.Head = self.Tail = NewNode
        else:
            self.Tail.Next = NewNode
            NewNode.Pre = self.Tail
            self.Tail = NewNode
    def AddAtPosition(self,Data,Position):
        

    def Traversal(self):
        Temp = self.Head
        print("Head - Tail : ",end="")
        while(Temp != None):
            print(Temp.Data,end=" ")
            Temp = Temp.Next
            
        Temp = self.Tail
        print("\nTail - Head : ",end="")
        while(Temp != None):
            print(Temp.Data,end=" ")
            Temp = Temp.Pre
        print("\n")


L1 = DoublyLinkedList()


L1.AddAtHead(2)
L1.AddAtHead(4)
L1.AddAtHead(10)
L1.AddAtHead(1)
L1.AddAtHead(20)

L1.Traversal()


L1.AddAtTail(10)
L1.AddAtTail(1)
L1.AddAtTail(20)

L1.Traversal()


L1.AddAtHead(5)
L1.AddAtHead(26)

L1.Traversal()



