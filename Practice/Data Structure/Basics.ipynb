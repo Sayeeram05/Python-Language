{
 "cells": [
  {
   "cell_type": "markdown",
   "id": "5336bfb9-0240-47c0-b368-0ed83aa834d8",
   "metadata": {},
   "source": [
    "# Data Structure"
   ]
  },
  {
   "cell_type": "markdown",
   "id": "9625e4d9-b121-4933-be7f-38e85f91a01b",
   "metadata": {},
   "source": [
    "- Way To Store And Organize Data so that it can be handle effectively"
   ]
  },
  {
   "cell_type": "markdown",
   "id": "042de864-44ab-43ff-8fb7-0c34b0fd13f7",
   "metadata": {},
   "source": [
    "## Types\n",
    "- Builtin\n",
    "    - List\n",
    "    - Tuple\n",
    "    - Set\n",
    "    - Dictionary\n",
    "- User Defined\n",
    "    - Linked List\n",
    "    - Stack\n",
    "    - Queue\n",
    "    - Tree\n",
    "    - Graph    "
   ]
  },
  {
   "cell_type": "markdown",
   "id": "98f1c680-6585-4168-a968-81fea935c7a1",
   "metadata": {},
   "source": [
    "### List\n",
    "- A list in Python is an ordered, mutable collection that allows storing multiple elements of various data types, supporting indexing and manipulation methods.\n"
   ]
  },
  {
   "cell_type": "code",
   "execution_count": 15,
   "id": "0fc119f7-3638-4350-ad98-a48fb380f23e",
   "metadata": {},
   "outputs": [],
   "source": [
    "A = [1,\"@\",\"23\",4.5]"
   ]
  },
  {
   "cell_type": "markdown",
   "id": "c455e877-0864-4b64-889c-dc1609cb2042",
   "metadata": {},
   "source": [
    "- append(element): Adds an element to the end of the list.\n",
    "- insert(index, element): Inserts an element at a specified index.\n",
    "- extend(iterable): Adds elements from another list or iterable.\n",
    "- remove(element): Removes the first occurrence of an element.\n",
    "- pop(index=-1): Removes and returns an element at the specified index (default: last item).\n",
    "- index(element): Returns the index of the first occurrence of an element.\n",
    "- count(element): Returns the count of how many times an element appears.\n",
    "- sort(reverse=False): Sorts the list in ascending or descending order.\n",
    "- reverse(): Reverses the order of elements.\n",
    "- copy(): Returns a shallow copy of the list.\n",
    "- clear(): Removes all elements from the list."
   ]
  },
  {
   "cell_type": "markdown",
   "id": "bbf41371-d959-40c7-b804-3aa2770a55a0",
   "metadata": {},
   "source": [
    "### Tuple\n",
    "- A tuple in Python is an ordered, immutable collection that allows storing multiple elements of various data types, supporting indexing but does not allow modification after creation."
   ]
  },
  {
   "cell_type": "code",
   "execution_count": 26,
   "id": "ddee97f9-e39c-4781-93a8-242b6ce2bb5b",
   "metadata": {},
   "outputs": [],
   "source": [
    "A = (1,2,3,\"!#@$\",4.45)"
   ]
  },
  {
   "cell_type": "markdown",
   "id": "518ef4ee-e3b4-4f5d-8f23-4732ec7ae885",
   "metadata": {},
   "source": [
    "- count(element): Returns the number of times an element appears in the tuple.\n",
    "- index(element): Returns the index of the first occurrence of an element."
   ]
  },
  {
   "cell_type": "markdown",
   "id": "32fbb8ce-a52a-4a64-ae53-576ab08ab1d7",
   "metadata": {},
   "source": [
    "### Set\n",
    "- A set in Python is an unordered, mutable collection that does not allow duplicate elements and is used for membership testing and set operations."
   ]
  },
  {
   "cell_type": "code",
   "execution_count": 34,
   "id": "890563c5-632b-46a1-99fd-5a7d05a5ed60",
   "metadata": {},
   "outputs": [],
   "source": [
    "A = {1,3,\"asdf\",6.6}"
   ]
  },
  {
   "cell_type": "markdown",
   "id": "a264a041-50d4-4ef6-8807-83224a1bfe5e",
   "metadata": {},
   "source": [
    "- add(element): Adds an element to the set.\n",
    "- remove(element): Removes a specific element, raises error if not found.\n",
    "- discard(element): Removes a specific element, does not raise error if not found.\n",
    "- pop(): Removes and returns an arbitrary element.\n",
    "- clear(): Removes all elements from the set.\n",
    "- union(set): Returns a new set with elements from both sets.\n",
    "- intersection(set): Returns a new set with elements common to both sets.\n",
    "- difference(set): Returns a new set with elements in the original set but not in the other set."
   ]
  },
  {
   "cell_type": "markdown",
   "id": "5e94cafa-230f-4473-b464-deb76c14f06b",
   "metadata": {},
   "source": [
    "### Dictionary\n",
    "- A dictionary in Python is an unordered, mutable collection that stores key-value pairs, where each key must be unique."
   ]
  },
  {
   "cell_type": "code",
   "execution_count": 39,
   "id": "dcd794c4-200c-4267-88bb-451ef4442a75",
   "metadata": {},
   "outputs": [],
   "source": [
    "A = {\"Name\" : \"Sai\",2:\"Two\"}"
   ]
  },
  {
   "cell_type": "markdown",
   "id": "8db1fbb0-0b03-4579-abbd-e72d404e7546",
   "metadata": {},
   "source": [
    "- get(key, default=None): Returns the value for a key, or a default if the key is not found.\n",
    "- keys(): Returns a view of all keys in the dictionary.\n",
    "- values(): Returns a view of all values in the dictionary.\n",
    "- items(): Returns a view of all key-value pairs.\n",
    "- update(dict): Updates the dictionary with key-value pairs from another dictionary.\n",
    "- pop(key): Removes and returns the value for the specified key.\n",
    "- popitem(): Removes and returns the last inserted key-value pair.\n",
    "- clear(): Removes all items from the dictionary."
   ]
  },
  {
   "cell_type": "code",
   "execution_count": null,
   "id": "7fed89f8-6d99-4dea-b19d-f520e411180a",
   "metadata": {},
   "outputs": [],
   "source": []
  }
 ],
 "metadata": {
  "kernelspec": {
   "display_name": "Python 3 (ipykernel)",
   "language": "python",
   "name": "python3"
  },
  "language_info": {
   "codemirror_mode": {
    "name": "ipython",
    "version": 3
   },
   "file_extension": ".py",
   "mimetype": "text/x-python",
   "name": "python",
   "nbconvert_exporter": "python",
   "pygments_lexer": "ipython3",
   "version": "3.11.5"
  }
 },
 "nbformat": 4,
 "nbformat_minor": 5
}
