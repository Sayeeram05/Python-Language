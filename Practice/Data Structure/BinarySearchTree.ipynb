{
 "cells": [
  {
   "cell_type": "code",
   "execution_count": 108,
   "metadata": {},
   "outputs": [],
   "source": [
    "class Node:\n",
    "    def __init__(self,Key):\n",
    "        self.key = Key\n",
    "        self.left = None\n",
    "        self.right = None\n",
    "        self.count = 0  # Duplicates"
   ]
  },
  {
   "cell_type": "code",
   "execution_count": 109,
   "metadata": {},
   "outputs": [],
   "source": [
    "class Create():\n",
    "    def __init__(self):\n",
    "        self.Root = None\n",
    "    \n",
    "    def Traversal(self):\n",
    "        print(self.Root.key)\n",
    "        print(self.Root.left)\n",
    "        print(self.Root.right)\n",
    "        \n",
    "    def isempty(self):\n",
    "        return (self.Root is None)\n",
    "    \n",
    "    def insert(self,key):\n",
    "        newnode = Node(key)\n",
    "        if(self.isempty()):\n",
    "            self.Root = newnode\n",
    "        else:\n",
    "            Temp = self.Root\n",
    "            while True:\n",
    "                if(Temp.key == key):\n",
    "                    Temp.count += 1\n",
    "                    break\n",
    "                elif(key < Temp.key):\n",
    "                    if(Temp.left == None):\n",
    "                        Temp.left = newnode\n",
    "                        break\n",
    "                    else:\n",
    "                        Temp = Temp.left\n",
    "                else:\n",
    "                    if(Temp.right == None):\n",
    "                        Temp.right = newnode\n",
    "                        break\n",
    "                    else:\n",
    "                        Temp = Temp.right\n",
    "        \n",
    "    def Search(self,key):\n",
    "        if self.isempty():\n",
    "            print(\"Tree - Empty\")\n",
    "        else:\n",
    "            Temp = self.Root\n",
    "            while(Temp != None):\n",
    "                if(Temp.key == key):\n",
    "                    print(f\"{key} Found\")\n",
    "                    break\n",
    "                elif(key < Temp.key):\n",
    "                    Temp = Temp.left\n",
    "                else:\n",
    "                    Temp = Temp.right\n",
    "            else:\n",
    "                print(f\"{key} Not Found\")\n",
    "                    \n",
    "    "
   ]
  },
  {
   "cell_type": "code",
   "execution_count": 110,
   "metadata": {},
   "outputs": [],
   "source": [
    "t1 = Create()"
   ]
  },
  {
   "cell_type": "code",
   "execution_count": 111,
   "metadata": {},
   "outputs": [],
   "source": [
    "t1.insert(10)"
   ]
  },
  {
   "cell_type": "code",
   "execution_count": 112,
   "metadata": {},
   "outputs": [
    {
     "name": "stdout",
     "output_type": "stream",
     "text": [
      "10\n",
      "None\n",
      "None\n"
     ]
    }
   ],
   "source": [
    "t1.Traversal()"
   ]
  },
  {
   "cell_type": "code",
   "execution_count": 113,
   "metadata": {},
   "outputs": [],
   "source": [
    "t1.insert(5)"
   ]
  },
  {
   "cell_type": "code",
   "execution_count": 114,
   "metadata": {},
   "outputs": [
    {
     "data": {
      "text/plain": [
       "0"
      ]
     },
     "execution_count": 114,
     "metadata": {},
     "output_type": "execute_result"
    }
   ],
   "source": [
    "t1.Root.left.count"
   ]
  },
  {
   "cell_type": "code",
   "execution_count": 115,
   "metadata": {},
   "outputs": [],
   "source": [
    "t1.insert(15)"
   ]
  },
  {
   "cell_type": "code",
   "execution_count": 116,
   "metadata": {},
   "outputs": [],
   "source": [
    "t1.insert(9)"
   ]
  },
  {
   "cell_type": "code",
   "execution_count": 117,
   "metadata": {},
   "outputs": [
    {
     "data": {
      "text/plain": [
       "9"
      ]
     },
     "execution_count": 117,
     "metadata": {},
     "output_type": "execute_result"
    }
   ],
   "source": [
    "t1.Root.left.right.key"
   ]
  },
  {
   "cell_type": "code",
   "execution_count": 118,
   "metadata": {},
   "outputs": [
    {
     "name": "stdout",
     "output_type": "stream",
     "text": [
      "11 Not Found\n"
     ]
    }
   ],
   "source": [
    "t1.Search(11)"
   ]
  },
  {
   "cell_type": "code",
   "execution_count": null,
   "metadata": {},
   "outputs": [],
   "source": [
    "class BinaryTree:\n",
    "    def __init__(self,Data=None):\n",
    "        self.Data = Data\n",
    "        self.Left = None\n",
    "        self.Right = None\n",
    "        \n",
    "    def insert(self,Data):\n",
    "        if(self.Data == None):\n",
    "            self.Data = Data\n",
    "        elif(Data < self.Data):\n",
    "            if(self.Left == None):\n",
    "                self.Left = BinaryTree(Data)\n",
    "            else:\n",
    "                self.Left.insert(Data)\n",
    "        else:\n",
    "            if(self.Right == None):\n",
    "                self.Right = BinaryTree(Data)\n",
    "            else:\n",
    "                self.Right.insert(Data)\n",
    "                \n",
    "    def Search(self,Data):\n",
    "        if(self.Data == None):\n",
    "            return False\n",
    "        elif(self.Data == Data):\n",
    "            return True\n",
    "        elif(Data < self.Data):\n",
    "            if(self.Left != None and self.Left.Search(Data)):\n",
    "                return True\n",
    "            else:\n",
    "                return False\n",
    "        else:\n",
    "            if(self.Right != None and self.Right.Search(Data)):\n",
    "                return True\n",
    "            else:\n",
    "                return False\n",
    "            \n",
    "    def Preorder(self):\n",
    "        print(self.Data)\n",
    "        if(self.Left != None):\n",
    "            self.Left.Preorder()\n",
    "        if(self.Right != None):\n",
    "            self.Right.Preorder()\n",
    "            \n",
    "    def Inorder(self):\n",
    "        if(self.Left != None):\n",
    "            self.Left.Inorder()\n",
    "        print(self.Data)\n",
    "        if(self.Right != None):\n",
    "            self.Right.Inorder()  \n",
    "            \n",
    "    def Postorder(self):\n",
    "        if(self.Left != None):\n",
    "            self.Left.Postorder()\n",
    "        if(self.Right != None):\n",
    "            self.Right.Postorder()  \n",
    "        print(self.Data)\n",
    "            \n",
    "    def Display(self):\n",
    "        print(self.Data)\n",
    "        print(self.Left,self.Right)\n",
    "    \n",
    "    def DeleteNode(self,Data,RootData):\n",
    "        if(Data == RootData and self.Left == None and self.Right == None):\n",
    "                self.Data = None\n",
    "        elif(Data == RootData and self.Left != None and self.Right != None):\n",
    "            MinRight = self.Right\n",
    "            while(MinRight.Left != None):\n",
    "                MinRight = MinRight.Left\n",
    "            self.Data = MinRight.Data\n",
    "            self.Right.DeleteNode(self.Data,RootData)   \n",
    "        elif(Data == RootData and self.Left != None):\n",
    "            self.Data = self.Left.Data\n",
    "            self.Left = self.Left.Left\n",
    "            self.Right = self.Left.Right\n",
    "        elif(Data == RootData and self.Right != None):\n",
    "            self.Data = self.Right.Data\n",
    "            self.Left = self.Right.Left\n",
    "            self.Right = self.Right.Right    \n",
    "        elif(self.Data == None):\n",
    "            print(\"Tree : Empty\")\n",
    "        elif(Data < self.Data):\n",
    "            if(self.Left != None):\n",
    "                self.Left = self.Left.DeleteNode(Data,RootData)\n",
    "            else:\n",
    "                print(\"Tree : Data Not Found\")\n",
    "        elif(Data > self.Data):\n",
    "            if(self.Right != None):\n",
    "                self.Right = self.Right.DeleteNode(Data,RootData)\n",
    "            else:\n",
    "                print(\"Tree : Data Not Found\")\n",
    "        else:\n",
    "            if(self.Left == None):\n",
    "                Temp = self.Right\n",
    "                self = None\n",
    "                return Temp\n",
    "            if(self.Right == None):\n",
    "                Temp = self.Left\n",
    "                self = None\n",
    "                return Temp\n",
    "            else:\n",
    "                MinRight = self.Right\n",
    "                while(MinRight.Left != None):\n",
    "                    MinRight = MinRight.Left\n",
    "                self.Data = MinRight.Data\n",
    "                self.Right = self.Right.DeleteNode(self.Data,RootData)\n",
    "            return self\n",
    "                \n",
    "      \n",
    "B2 = BinaryTree()\n",
    "X = [10,5,30,25,26,35]\n",
    "for i in X:\n",
    "    B2.insert(i)\n",
    "              \n",
    "B2.DeleteNode(10,10)  "
   ]
  },
  {
   "cell_type": "code",
   "execution_count": 120,
   "metadata": {},
   "outputs": [],
   "source": [
    "B1 = BinaryTree()"
   ]
  },
  {
   "cell_type": "code",
   "execution_count": 121,
   "metadata": {},
   "outputs": [
    {
     "name": "stdout",
     "output_type": "stream",
     "text": [
      "None\n",
      "None None\n"
     ]
    }
   ],
   "source": [
    "B1.Display()"
   ]
  },
  {
   "cell_type": "code",
   "execution_count": 122,
   "metadata": {},
   "outputs": [],
   "source": [
    "B1.insert(10)"
   ]
  },
  {
   "cell_type": "code",
   "execution_count": 123,
   "metadata": {},
   "outputs": [
    {
     "name": "stdout",
     "output_type": "stream",
     "text": [
      "10\n",
      "None None\n"
     ]
    }
   ],
   "source": [
    "B1.Display()"
   ]
  },
  {
   "cell_type": "code",
   "execution_count": 124,
   "metadata": {},
   "outputs": [],
   "source": [
    "B1.insert(30)"
   ]
  },
  {
   "cell_type": "code",
   "execution_count": 125,
   "metadata": {},
   "outputs": [
    {
     "name": "stdout",
     "output_type": "stream",
     "text": [
      "10\n",
      "None <__main__.BinaryTree object at 0x000001BF47F756D0>\n"
     ]
    }
   ],
   "source": [
    "B1.Display()"
   ]
  },
  {
   "cell_type": "code",
   "execution_count": 126,
   "metadata": {},
   "outputs": [
    {
     "name": "stdout",
     "output_type": "stream",
     "text": [
      "30\n",
      "None None\n"
     ]
    }
   ],
   "source": [
    "B1.Right.Display()"
   ]
  },
  {
   "cell_type": "code",
   "execution_count": 127,
   "metadata": {},
   "outputs": [],
   "source": [
    "# B1.Right.Right.Display()"
   ]
  },
  {
   "cell_type": "code",
   "execution_count": 128,
   "metadata": {},
   "outputs": [
    {
     "data": {
      "text/plain": [
       "True"
      ]
     },
     "execution_count": 128,
     "metadata": {},
     "output_type": "execute_result"
    }
   ],
   "source": [
    "B1.Search(30)"
   ]
  },
  {
   "cell_type": "code",
   "execution_count": null,
   "metadata": {},
   "outputs": [],
   "source": []
  },
  {
   "cell_type": "code",
   "execution_count": 166,
   "metadata": {},
   "outputs": [
    {
     "name": "stdout",
     "output_type": "stream",
     "text": [
      "30\n",
      "5\n"
     ]
    }
   ],
   "source": [
    "B2.Preorder()"
   ]
  },
  {
   "cell_type": "code",
   "execution_count": 182,
   "metadata": {},
   "outputs": [
    {
     "name": "stdout",
     "output_type": "stream",
     "text": [
      "5\n",
      "25\n",
      "26\n",
      "30\n",
      "35\n"
     ]
    }
   ],
   "source": [
    "B2.Inorder()"
   ]
  },
  {
   "cell_type": "code",
   "execution_count": 183,
   "metadata": {},
   "outputs": [
    {
     "name": "stdout",
     "output_type": "stream",
     "text": [
      "5\n",
      "26\n",
      "35\n",
      "30\n",
      "25\n"
     ]
    }
   ],
   "source": [
    "B2.Postorder()"
   ]
  },
  {
   "cell_type": "code",
   "execution_count": 184,
   "metadata": {},
   "outputs": [
    {
     "data": {
      "text/plain": [
       "25"
      ]
     },
     "execution_count": 184,
     "metadata": {},
     "output_type": "execute_result"
    }
   ],
   "source": [
    "B2.Data"
   ]
  },
  {
   "cell_type": "code",
   "execution_count": null,
   "metadata": {},
   "outputs": [],
   "source": [
    " "
   ]
  },
  {
   "cell_type": "code",
   "execution_count": null,
   "metadata": {},
   "outputs": [],
   "source": []
  }
 ],
 "metadata": {
  "kernelspec": {
   "display_name": "base",
   "language": "python",
   "name": "python3"
  },
  "language_info": {
   "codemirror_mode": {
    "name": "ipython",
    "version": 3
   },
   "file_extension": ".py",
   "mimetype": "text/x-python",
   "name": "python",
   "nbconvert_exporter": "python",
   "pygments_lexer": "ipython3",
   "version": "3.11.5"
  }
 },
 "nbformat": 4,
 "nbformat_minor": 4
}
