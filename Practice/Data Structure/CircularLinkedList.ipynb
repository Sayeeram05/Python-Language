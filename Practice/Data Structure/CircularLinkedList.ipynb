{
 "cells": [
  {
   "cell_type": "code",
   "execution_count": 121,
   "id": "73029aac-c46b-4cd0-b303-851ad7f54362",
   "metadata": {},
   "outputs": [],
   "source": [
    "class Node:\n",
    "    def __init__(self,Data):\n",
    "        self.Data = Data\n",
    "        self.Next = None"
   ]
  },
  {
   "cell_type": "code",
   "execution_count": 122,
   "id": "315d5d65-5ce6-416e-ae1c-28b4dc74ef5c",
   "metadata": {},
   "outputs": [],
   "source": [
    "class CircularLinkedList:\n",
    "    def __init__(self):\n",
    "        self.Head = None\n",
    "        self.Tail = None\n",
    "    \n",
    "    def Traversal(self):\n",
    "        if(self.Head == None):\n",
    "            print(\"Linked List : Empty\\n\")\n",
    "        else:\n",
    "            Temp = self.Head\n",
    "            print(\"Linked List : \",end=\"\")\n",
    "            while(True):\n",
    "                print(Temp.Data,end=\" \")\n",
    "                if(Temp == self.Tail):\n",
    "                    break\n",
    "                else:\n",
    "                    Temp = Temp.Next\n",
    "            print()\n",
    "\n",
    "    def Position(self,Data):\n",
    "        if(self.Head == None):\n",
    "            return(\"Linked List : Empty\\n\")\n",
    "        else:\n",
    "            Temp = self.Head\n",
    "            Pst = 1\n",
    "            while(Temp != self.Tail):\n",
    "                if(Temp.Data == Data):\n",
    "                    return(f\"Position : {Pst}\")\n",
    "                Pst += 1\n",
    "                Temp = Temp.Next\n",
    "            return(f\"Position : No {Data}\")\n",
    "        \n",
    "    \n",
    "    def AddAtHead(self,Data):\n",
    "        NewNode = Node(Data)\n",
    "        if(self.Head == None):\n",
    "            self.Head = NewNode\n",
    "            self.Tail = NewNode\n",
    "            NewNode.Next = NewNode\n",
    "        else:\n",
    "            NewNode.Next = self.Head\n",
    "            self.Tail.Next = NewNode\n",
    "            self.Head = NewNode\n",
    "        self.Traversal()\n",
    "\n",
    "    def AddAtTail(self,Data):\n",
    "        NewNode = Node(Data)\n",
    "        if(self.Head == None):\n",
    "            self.Head = NewNode\n",
    "            self.Tail = NewNode\n",
    "            NewNode.Next = NewNode\n",
    "        else:\n",
    "            NewNode.Next = self.Tail.Next\n",
    "            self.Tail.Next = NewNode\n",
    "            self.Tail = NewNode\n",
    "        self.Traversal()\n",
    "\n",
    "    def AddAtPosition(self,Data,Position):\n",
    "        if(Position == 1):\n",
    "            self.AddAtHead(Data)\n",
    "        else:\n",
    "            Temp = self.Head\n",
    "            pre = None\n",
    "            for i in range(1,Position):\n",
    "                pre = Temp\n",
    "                Temp = Temp.Next\n",
    "                if(Temp == self.Head):\n",
    "                    print(\"Invalid Position\")\n",
    "                    return\n",
    "            NewNode = Node(Data)\n",
    "            pre.Next = NewNode\n",
    "            NewNode.Next = Temp\n",
    "            self.Traversal()\n",
    "    \n",
    "             \n",
    "    def DeleteAtHead(self):\n",
    "        if(self.Head == None):\n",
    "            print(\"Linked List : Empty\\n\")\n",
    "        elif(self.Head == self.Tail):\n",
    "            self.Head = self.Tail = None\n",
    "            print(\"Linked List : Empty\\n\")\n",
    "        else:\n",
    "            self.Head = self.Head.Next\n",
    "            self.Traversal()\n",
    "\n",
    "    def DeleteAtTail(self):\n",
    "        if(self.Head == None):\n",
    "            print(\"Linked List : Empty\\n\")\n",
    "        elif(self.Head == self.Tail):\n",
    "            self.Head = self.Tail = None\n",
    "            print(\"Linked List : Empty\\n\")\n",
    "        else:\n",
    "            Temp = self.Head\n",
    "            Pre = None\n",
    "            while(Temp != self.Tail):\n",
    "                pre = Temp\n",
    "                Temp = Temp.Next\n",
    "            pre.Next = self.Head\n",
    "            self.Tail = pre\n",
    "            self.Traversal()\n",
    "\n",
    "    def DeleteAtPosition(self,Position):\n",
    "        if(self.Head == None):\n",
    "            print(\"Linked List : Empty\\n\")\n",
    "        elif(Position == 1):\n",
    "            self.DeleteAtHead()\n",
    "        else:\n",
    "            Temp = self.Head\n",
    "            pre = None\n",
    "            for i in range(1,Position):\n",
    "                pre = Temp\n",
    "                Temp = Temp.Next\n",
    "                if(Temp == self.Head):\n",
    "                    print(\"Invalid Position\")\n",
    "                    return\n",
    "            pre.Next = Temp.Next\n",
    "            self.Traversal()\n",
    "\n",
    "    "
   ]
  },
  {
   "cell_type": "code",
   "execution_count": 123,
   "id": "68526aa2-864e-4cbf-8f52-d92183dde540",
   "metadata": {},
   "outputs": [],
   "source": [
    "L1 = CircularLinkedList()"
   ]
  },
  {
   "cell_type": "code",
   "execution_count": 124,
   "id": "3b698e71-8b5d-49c7-a52f-6f44fa0dac87",
   "metadata": {},
   "outputs": [
    {
     "name": "stdout",
     "output_type": "stream",
     "text": [
      "Linked List : 4 \n"
     ]
    }
   ],
   "source": [
    "L1.AddAtHead(4)"
   ]
  },
  {
   "cell_type": "code",
   "execution_count": 125,
   "id": "6379af42-3ceb-4ebc-b465-5a7f0bcfca09",
   "metadata": {},
   "outputs": [
    {
     "name": "stdout",
     "output_type": "stream",
     "text": [
      "Linked List : 2 4 \n"
     ]
    }
   ],
   "source": [
    "L1.AddAtHead(2)"
   ]
  },
  {
   "cell_type": "code",
   "execution_count": 126,
   "id": "190330f8-a07f-43dc-af3b-dbcff2bf82f5",
   "metadata": {},
   "outputs": [
    {
     "name": "stdout",
     "output_type": "stream",
     "text": [
      "Linked List : 6 2 4 \n"
     ]
    }
   ],
   "source": [
    "L1.AddAtHead(6)"
   ]
  },
  {
   "cell_type": "code",
   "execution_count": 127,
   "id": "4cfd148a-fc8f-4a88-9ead-f753e803ff4e",
   "metadata": {},
   "outputs": [
    {
     "name": "stdout",
     "output_type": "stream",
     "text": [
      "Linked List : 6 2 4 8 \n"
     ]
    }
   ],
   "source": [
    "L1.AddAtTail(8)"
   ]
  },
  {
   "cell_type": "code",
   "execution_count": 128,
   "id": "0ec8a2a9-0295-4c87-a09d-58ae12341a5d",
   "metadata": {},
   "outputs": [
    {
     "name": "stdout",
     "output_type": "stream",
     "text": [
      "Linked List : 6 2 4 8 9 \n"
     ]
    }
   ],
   "source": [
    "L1.AddAtTail(9)"
   ]
  },
  {
   "cell_type": "code",
   "execution_count": 129,
   "id": "2fdd1638-9be1-4503-ae2d-0f93612073ad",
   "metadata": {},
   "outputs": [
    {
     "data": {
      "text/plain": [
       "'Position : No 9'"
      ]
     },
     "execution_count": 129,
     "metadata": {},
     "output_type": "execute_result"
    }
   ],
   "source": [
    "L1.Position(9)"
   ]
  },
  {
   "cell_type": "code",
   "execution_count": 130,
   "id": "3b91a6aa-678a-43aa-b9e1-e78082ec13d5",
   "metadata": {},
   "outputs": [
    {
     "data": {
      "text/plain": [
       "'Position : No 10'"
      ]
     },
     "execution_count": 130,
     "metadata": {},
     "output_type": "execute_result"
    }
   ],
   "source": [
    "L1.Position(10)"
   ]
  },
  {
   "cell_type": "code",
   "execution_count": 131,
   "id": "510a3fc0-e01b-49fd-919e-9b80f05796d1",
   "metadata": {},
   "outputs": [
    {
     "name": "stdout",
     "output_type": "stream",
     "text": [
      "Linked List : 2 4 8 9 \n"
     ]
    }
   ],
   "source": [
    "L1.DeleteAtHead()"
   ]
  },
  {
   "cell_type": "code",
   "execution_count": 132,
   "id": "a7af2121-016a-49d4-9f56-02f2fbde10a1",
   "metadata": {},
   "outputs": [
    {
     "name": "stdout",
     "output_type": "stream",
     "text": [
      "Linked List : 2 4 8 \n"
     ]
    }
   ],
   "source": [
    "L1.DeleteAtTail()"
   ]
  },
  {
   "cell_type": "code",
   "execution_count": 137,
   "id": "99b235a8-85c0-423c-a366-77034b607936",
   "metadata": {},
   "outputs": [
    {
     "name": "stdout",
     "output_type": "stream",
     "text": [
      "Linked List : 13 8 \n"
     ]
    }
   ],
   "source": [
    "L1.Traversal()"
   ]
  },
  {
   "cell_type": "code",
   "execution_count": 139,
   "id": "4494fa06-f757-48e8-ad45-c35c0c8b5ae3",
   "metadata": {},
   "outputs": [
    {
     "name": "stdout",
     "output_type": "stream",
     "text": [
      "Linked List : 13 13 13 8 \n"
     ]
    }
   ],
   "source": [
    "L1.AddAtPosition(13,2)"
   ]
  },
  {
   "cell_type": "code",
   "execution_count": 136,
   "id": "019493f7-6bfd-473b-8ff1-2f0292828d44",
   "metadata": {},
   "outputs": [
    {
     "name": "stdout",
     "output_type": "stream",
     "text": [
      "Linked List : 13 8 \n"
     ]
    }
   ],
   "source": [
    "L1.DeleteAtPosition(2)"
   ]
  },
  {
   "cell_type": "code",
   "execution_count": null,
   "id": "bc938007-c661-4990-b3bf-5404f7b78404",
   "metadata": {},
   "outputs": [],
   "source": []
  }
 ],
 "metadata": {
  "kernelspec": {
   "display_name": "Python 3 (ipykernel)",
   "language": "python",
   "name": "python3"
  },
  "language_info": {
   "codemirror_mode": {
    "name": "ipython",
    "version": 3
   },
   "file_extension": ".py",
   "mimetype": "text/x-python",
   "name": "python",
   "nbconvert_exporter": "python",
   "pygments_lexer": "ipython3",
   "version": "3.11.5"
  }
 },
 "nbformat": 4,
 "nbformat_minor": 5
}
