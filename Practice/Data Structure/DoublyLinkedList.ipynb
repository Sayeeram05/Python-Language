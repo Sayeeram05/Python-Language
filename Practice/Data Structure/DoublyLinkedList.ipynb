{
 "cells": [
  {
   "cell_type": "markdown",
   "id": "c0806ab5-6254-475e-a3a4-adf5aec0375f",
   "metadata": {},
   "source": [
    "# Doubly linked list"
   ]
  },
  {
   "cell_type": "code",
   "execution_count": 17,
   "id": "a985a89c-6f68-4428-abfd-91bce5fafd5d",
   "metadata": {},
   "outputs": [],
   "source": [
    "class Node:\n",
    "    def __init__(self,Data):\n",
    "        self.Pre = None\n",
    "        self.Data = Data\n",
    "        self.Next = None"
   ]
  },
  {
   "cell_type": "code",
   "execution_count": 19,
   "id": "5e262c16-7f2f-4201-a90c-6619e63f8003",
   "metadata": {},
   "outputs": [],
   "source": [
    "class DoublyLinkedList:\n",
    "    def __init__(self):\n",
    "        self.Head = None\n",
    "        self.Tail = None\n",
    "\n",
    "    def AddAtHead(self,Data):\n",
    "        NewNode = Node(Data)\n",
    "        if(self.Head == None):\n",
    "            self.Head = self.Tail = NewNode\n",
    "        else:\n",
    "            NewNode.Next = self.Head\n",
    "            self.Head.Pre = NewNode\n",
    "            self.Head = NewNode\n",
    "            # NewNode.Pre = self.Tail\n",
    "            # self.Tail.next = NewNode\n",
    "            # self.Tail = NewNode\n",
    "\n",
    "    def Traversal(self):\n",
    "        Temp = self.Head\n",
    "        print(\"Head - Tail : \",end=\"\")\n",
    "        while(Temp != None):\n",
    "            print(Temp.Data,end=\" \")\n",
    "            Temp = Temp.Next\n",
    "            \n",
    "        Temp = self.Tail\n",
    "        print(\"\\nTail - Head : \",end=\"\")\n",
    "        while(Temp != None):\n",
    "            print(Temp.Data,end=\" \")\n",
    "            Temp = Temp.Pre\n",
    "        print(\"\\n\")"
   ]
  },
  {
   "cell_type": "code",
   "execution_count": 21,
   "id": "bcd313c6-ac86-41ef-a9b1-2132d3f97fc3",
   "metadata": {},
   "outputs": [],
   "source": [
    "L1 = DoublyLinkedList()"
   ]
  },
  {
   "cell_type": "code",
   "execution_count": 23,
   "id": "a4bd6767-b991-4865-b6b2-d19547a4ac46",
   "metadata": {},
   "outputs": [
    {
     "name": "stdout",
     "output_type": "stream",
     "text": [
      "Head - Tail : 20 1 10 4 2 \n",
      "Tail - Head : 2 4 10 1 20 \n",
      "\n"
     ]
    }
   ],
   "source": [
    "L1.AddAtHead(2)\n",
    "L1.AddAtHead(4)\n",
    "L1.AddAtHead(10)\n",
    "L1.AddAtHead(1)\n",
    "L1.AddAtHead(20)\n",
    "\n",
    "L1.Traversal()"
   ]
  },
  {
   "cell_type": "code",
   "execution_count": null,
   "id": "ddb76bc9-421b-4404-bd2e-1b10809ada22",
   "metadata": {},
   "outputs": [],
   "source": []
  },
  {
   "cell_type": "code",
   "execution_count": null,
   "id": "db5edfd8-582b-4474-ae2c-1b6320f0dbe1",
   "metadata": {},
   "outputs": [],
   "source": []
  }
 ],
 "metadata": {
  "kernelspec": {
   "display_name": "Python 3 (ipykernel)",
   "language": "python",
   "name": "python3"
  },
  "language_info": {
   "codemirror_mode": {
    "name": "ipython",
    "version": 3
   },
   "file_extension": ".py",
   "mimetype": "text/x-python",
   "name": "python",
   "nbconvert_exporter": "python",
   "pygments_lexer": "ipython3",
   "version": "3.11.5"
  }
 },
 "nbformat": 4,
 "nbformat_minor": 5
}
