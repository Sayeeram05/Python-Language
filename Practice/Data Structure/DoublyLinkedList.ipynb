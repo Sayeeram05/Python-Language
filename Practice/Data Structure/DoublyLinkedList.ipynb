{
 "cells": [
  {
   "cell_type": "markdown",
   "id": "c0806ab5-6254-475e-a3a4-adf5aec0375f",
   "metadata": {},
   "source": [
    "# Doubly linked list"
   ]
  },
  {
   "cell_type": "code",
   "execution_count": 245,
   "id": "a985a89c-6f68-4428-abfd-91bce5fafd5d",
   "metadata": {},
   "outputs": [],
   "source": [
    "class Node:\n",
    "    def __init__(self,Data):\n",
    "        self.Pre = None\n",
    "        self.Data = Data\n",
    "        self.Next = None"
   ]
  },
  {
   "cell_type": "code",
   "execution_count": 246,
   "id": "5e262c16-7f2f-4201-a90c-6619e63f8003",
   "metadata": {},
   "outputs": [],
   "source": [
    "class DoublyLinkedList:\n",
    "    def __init__(self):\n",
    "        self.Head = None\n",
    "        self.Tail = None\n",
    "\n",
    "    def AddAtHead(self,Data):\n",
    "        NewNode = Node(Data)\n",
    "        if(self.Head == None):\n",
    "            self.Head = self.Tail = NewNode\n",
    "        else:\n",
    "            NewNode.Next = self.Head\n",
    "            self.Head.Pre = NewNode\n",
    "            self.Head = NewNode\n",
    "\n",
    "    def AddAtTail(self,Data):\n",
    "        NewNode = Node(Data)\n",
    "        if(self.Head == None):\n",
    "            self.Head = self.Tail = NewNode\n",
    "        else:\n",
    "            self.Tail.Next = NewNode\n",
    "            NewNode.Pre = self.Tail\n",
    "            self.Tail = NewNode\n",
    "            \n",
    "    def AddAtHeadPosition(self,Data,Position):\n",
    "        Temp = self.Head\n",
    "        pre = None\n",
    "        for index in range(1,Position):\n",
    "            if(Temp != self.Tail):\n",
    "                pre = Temp\n",
    "                Temp = Temp.Next\n",
    "            else:\n",
    "                print(\"Invalid Position\")\n",
    "                return\n",
    "        if(pre == None):\n",
    "            self.AddAtHead(Data)\n",
    "        else:\n",
    "            NewNode = Node(Data)\n",
    "            NewNode.Next = Temp\n",
    "            pre.Next = Temp.Pre = NewNode\n",
    "            NewNode.Pre = pre\n",
    "\n",
    "    def AddAtTailPosition(self,Data,Position):\n",
    "        Temp = self.Tail\n",
    "        pre = None\n",
    "        for index in range(1,Position):\n",
    "            if(Temp != self.Head):\n",
    "                pre = Temp\n",
    "                Temp = Temp.Pre\n",
    "            else:\n",
    "                print(\"Invalid Position\")\n",
    "                return\n",
    "        if(pre == None):\n",
    "            self.AddAtTail(Data)\n",
    "        else:\n",
    "            NewNode = Node(Data)\n",
    "            NewNode.Pre = Temp\n",
    "            pre.Pre = Temp.Next = NewNode\n",
    "            NewNode.Next = pre\n",
    "            \n",
    "    def DeleteAtHead(self):\n",
    "        if(self.Head == None):\n",
    "            print(\"Linked List is empty\")\n",
    "            return\n",
    "        self.Head = self.Head.Next\n",
    "        self.Head.Pre = None\n",
    "                    \n",
    "    def DeleteAtTail(self):\n",
    "        if(self.Head == None):\n",
    "            print(\"Linked List is empty\")\n",
    "            return\n",
    "        self.Tail = self.Tail.Pre\n",
    "        self.Tail.Next = None\n",
    "\n",
    "    def DeleteAtPosition(self,Position):\n",
    "        if(self.Head == None):\n",
    "            print(\"Linked List is empty\")\n",
    "            return\n",
    "        elif(Position == 1):\n",
    "            self.DeleteAtHead()\n",
    "            return\n",
    "        \n",
    "        Temp = self.Head\n",
    "        pre = None\n",
    "        for index in range(1,Position):\n",
    "            if(Temp !=  None):\n",
    "                pre = Temp\n",
    "                Temp = Temp.Next\n",
    "            else:\n",
    "                break\n",
    "        if(Temp == None):\n",
    "            print(\"Invalid Position\")\n",
    "        elif(Temp.Next == None):\n",
    "            self.DeleteAtTail()\n",
    "        else:\n",
    "            Next = Temp.Next\n",
    "\n",
    "            pre.Next = Temp.Next\n",
    "            Next.Pre = Temp.Pre \n",
    "\n",
    "    def Traversal(self):\n",
    "        Temp = self.Head\n",
    "        print(\"Head - Tail : \",end=\"\")\n",
    "        while(Temp != None):\n",
    "            print(Temp.Data,end=\" \")\n",
    "            Temp = Temp.Next\n",
    "            \n",
    "        Temp = self.Tail\n",
    "        print(\"\\nTail - Head : \",end=\"\")\n",
    "        while(Temp != None):\n",
    "            print(Temp.Data,end=\" \")\n",
    "            Temp = Temp.Pre\n",
    "        print(\"\\n\")\n",
    "\n",
    "    def Search(self,Data):\n",
    "        H = self.Head\n",
    "        T = self.Tail\n",
    "        PositionH = 1\n",
    "        PositionT = 1\n",
    "        while(H != T):\n",
    "            if(H == None or T == None):\n",
    "                print(f\"{Data} Not Found\")\n",
    "                break\n",
    "            elif(H.Data == Data):\n",
    "                print(f\"{Data} : {PositionH} From Head\")\n",
    "                break\n",
    "            elif(T.Data == Data):\n",
    "                print(f\"{Data} : {PositionT} From Tail\")\n",
    "                break\n",
    "            else:\n",
    "                H = H.Next\n",
    "                T = T.Pre\n",
    "                PositionH += 1\n",
    "                PositionT += 1\n",
    "                "
   ]
  },
  {
   "cell_type": "code",
   "execution_count": 247,
   "id": "bcd313c6-ac86-41ef-a9b1-2132d3f97fc3",
   "metadata": {},
   "outputs": [],
   "source": [
    "L1 = DoublyLinkedList()"
   ]
  },
  {
   "cell_type": "code",
   "execution_count": 248,
   "id": "a4bd6767-b991-4865-b6b2-d19547a4ac46",
   "metadata": {},
   "outputs": [
    {
     "name": "stdout",
     "output_type": "stream",
     "text": [
      "Head - Tail : 20 1 10 4 2 \n",
      "Tail - Head : 2 4 10 1 20 \n",
      "\n"
     ]
    }
   ],
   "source": [
    "L1.AddAtHead(2)\n",
    "L1.AddAtHead(4)\n",
    "L1.AddAtHead(10)\n",
    "L1.AddAtHead(1)\n",
    "L1.AddAtHead(20)\n",
    "\n",
    "L1.Traversal()"
   ]
  },
  {
   "cell_type": "code",
   "execution_count": 249,
   "id": "ddb76bc9-421b-4404-bd2e-1b10809ada22",
   "metadata": {},
   "outputs": [
    {
     "name": "stdout",
     "output_type": "stream",
     "text": [
      "Head - Tail : 20 1 10 4 2 10 1 20 \n",
      "Tail - Head : 20 1 10 2 4 10 1 20 \n",
      "\n"
     ]
    }
   ],
   "source": [
    "L1.AddAtTail(10)\n",
    "L1.AddAtTail(1)\n",
    "L1.AddAtTail(20)\n",
    "\n",
    "L1.Traversal()"
   ]
  },
  {
   "cell_type": "code",
   "execution_count": 250,
   "id": "db5edfd8-582b-4474-ae2c-1b6320f0dbe1",
   "metadata": {},
   "outputs": [
    {
     "name": "stdout",
     "output_type": "stream",
     "text": [
      "Head - Tail : 26 5 20 1 10 4 2 10 1 20 \n",
      "Tail - Head : 20 1 10 2 4 10 1 20 5 26 \n",
      "\n"
     ]
    }
   ],
   "source": [
    "L1.AddAtHead(5)\n",
    "L1.AddAtHead(26)\n",
    "\n",
    "L1.Traversal()"
   ]
  },
  {
   "cell_type": "code",
   "execution_count": 251,
   "id": "aa9e448e-42bb-4ead-b100-b19c77745687",
   "metadata": {},
   "outputs": [],
   "source": [
    "L1.AddAtHeadPosition(99,5)"
   ]
  },
  {
   "cell_type": "code",
   "execution_count": 252,
   "id": "e7802968-82e7-4442-b96c-683d037a1cb9",
   "metadata": {},
   "outputs": [
    {
     "name": "stdout",
     "output_type": "stream",
     "text": [
      "Head - Tail : 26 5 20 1 99 10 4 2 10 1 20 \n",
      "Tail - Head : 20 1 10 2 4 10 99 1 20 5 26 \n",
      "\n"
     ]
    }
   ],
   "source": [
    "L1.Traversal()"
   ]
  },
  {
   "cell_type": "code",
   "execution_count": 253,
   "id": "a937b039-8a68-4438-9d16-2f8503c60672",
   "metadata": {},
   "outputs": [
    {
     "name": "stdout",
     "output_type": "stream",
     "text": [
      "Invalid Position\n"
     ]
    }
   ],
   "source": [
    "L1.AddAtTailPosition(50,30)"
   ]
  },
  {
   "cell_type": "code",
   "execution_count": 254,
   "id": "37545219-8f73-446c-b274-a3b25c1eabcc",
   "metadata": {},
   "outputs": [
    {
     "name": "stdout",
     "output_type": "stream",
     "text": [
      "Head - Tail : 26 5 20 1 99 10 4 2 10 1 20 \n",
      "Tail - Head : 20 1 10 2 4 10 99 1 20 5 26 \n",
      "\n"
     ]
    }
   ],
   "source": [
    "L1.Traversal()"
   ]
  },
  {
   "cell_type": "code",
   "execution_count": 255,
   "id": "9c84c2a7-b03b-4166-8597-034f018ffaf6",
   "metadata": {},
   "outputs": [
    {
     "name": "stdout",
     "output_type": "stream",
     "text": [
      "2 : 4 From Tail\n"
     ]
    }
   ],
   "source": [
    "L1.Search(2)"
   ]
  },
  {
   "cell_type": "code",
   "execution_count": 256,
   "id": "4f72fbe2-eafa-4eee-b460-ea7eef8a603d",
   "metadata": {},
   "outputs": [],
   "source": [
    "L1.DeleteAtHead()"
   ]
  },
  {
   "cell_type": "code",
   "execution_count": 257,
   "id": "48501104",
   "metadata": {},
   "outputs": [
    {
     "name": "stdout",
     "output_type": "stream",
     "text": [
      "Head - Tail : 5 20 1 99 10 4 2 10 1 20 \n",
      "Tail - Head : 20 1 10 2 4 10 99 1 20 5 \n",
      "\n"
     ]
    }
   ],
   "source": [
    "L1.Traversal()"
   ]
  },
  {
   "cell_type": "code",
   "execution_count": 258,
   "id": "fa66d368",
   "metadata": {},
   "outputs": [],
   "source": [
    "L1.DeleteAtTail()"
   ]
  },
  {
   "cell_type": "code",
   "execution_count": 259,
   "id": "d2f12851-e808-4361-bd11-fff9c5d4fc45",
   "metadata": {},
   "outputs": [
    {
     "name": "stdout",
     "output_type": "stream",
     "text": [
      "Head - Tail : 5 20 1 99 10 4 2 10 1 \n",
      "Tail - Head : 1 10 2 4 10 99 1 20 5 \n",
      "\n"
     ]
    }
   ],
   "source": [
    "L1.Traversal()"
   ]
  },
  {
   "cell_type": "code",
   "execution_count": 260,
   "id": "a0c68886-cfac-4b51-a3b8-bfedea14962a",
   "metadata": {},
   "outputs": [
    {
     "name": "stdout",
     "output_type": "stream",
     "text": [
      "Head - Tail : 5 20 99 10 4 2 10 1 \n",
      "Tail - Head : 1 10 2 4 10 99 20 5 \n",
      "\n"
     ]
    }
   ],
   "source": [
    "L1.DeleteAtPosition(3)\n",
    "L1.Traversal()"
   ]
  },
  {
   "cell_type": "code",
   "execution_count": null,
   "id": "fe820267-4d85-4c81-8c05-4cec6f13fe4d",
   "metadata": {},
   "outputs": [],
   "source": []
  },
  {
   "cell_type": "code",
   "execution_count": null,
   "id": "0d1f4c4f-f965-4d44-aedb-89edc15d77f9",
   "metadata": {},
   "outputs": [],
   "source": []
  },
  {
   "cell_type": "code",
   "execution_count": null,
   "id": "764fcdca-b2e7-4c6d-af7c-440f366f33bf",
   "metadata": {},
   "outputs": [],
   "source": []
  }
 ],
 "metadata": {
  "kernelspec": {
   "display_name": "base",
   "language": "python",
   "name": "python3"
  },
  "language_info": {
   "codemirror_mode": {
    "name": "ipython",
    "version": 3
   },
   "file_extension": ".py",
   "mimetype": "text/x-python",
   "name": "python",
   "nbconvert_exporter": "python",
   "pygments_lexer": "ipython3",
   "version": "3.11.5"
  }
 },
 "nbformat": 4,
 "nbformat_minor": 5
}
