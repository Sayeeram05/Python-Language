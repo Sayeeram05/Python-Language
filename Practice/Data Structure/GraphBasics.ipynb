{
 "cells": [
  {
   "cell_type": "code",
   "execution_count": null,
   "id": "81fc1619",
   "metadata": {},
   "outputs": [],
   "source": [
    "nodes = []\n",
    "graph = []\n",
    "\n",
    "# NodesCount = 0\n",
    "\n",
    "def DisplayGraph():\n",
    "    for Row in graph:\n",
    "        print(Row)\n",
    "\n",
    "def AddNode(NewNode):\n",
    "    if(NewNode in nodes):\n",
    "        print(f\"{NewNode} is present\")\n",
    "    else:\n",
    "        nodes.append(NewNode)\n",
    "        for Row in graph:\n",
    "            Row.append(0)\n",
    "        NewRow = []\n",
    "        for Node in nodes:\n",
    "            NewRow.append(0)\n",
    "        graph.append(NewRow)\n",
    "        "
   ]
  },
  {
   "cell_type": "code",
   "execution_count": 23,
   "id": "05fc4f5e",
   "metadata": {},
   "outputs": [],
   "source": [
    "def AddEdge(Edge1,Edge2):\n",
    "    if(Edge1 not in nodes and Edge2 not in nodes):\n",
    "        print(\"Invaled Edges\")\n",
    "    else:\n",
    "        I1 = nodes.index(Edge1)\n",
    "        I2 = nodes.index(Edge2)\n",
    "        graph[I1][I2] = 1\n",
    "        graph[I2][I1] = 1"
   ]
  },
  {
   "cell_type": "code",
   "execution_count": 20,
   "id": "00a9fa77",
   "metadata": {},
   "outputs": [
    {
     "name": "stdout",
     "output_type": "stream",
     "text": [
      "Before\n",
      "['A', 'B']\n",
      "[0, 0]\n",
      "[0, 0]\n",
      "After\n",
      "['A', 'B', 'c']\n",
      "[0, 0, 0]\n",
      "[0, 0, 0]\n",
      "[0, 0, 0]\n"
     ]
    }
   ],
   "source": [
    "print(\"Before\")\n",
    "print(nodes)\n",
    "DisplayGraph()\n",
    "\n",
    "AddNode(\"c\")\n",
    "\n",
    "print(\"After\")\n",
    "print(nodes)\n",
    "DisplayGraph()"
   ]
  },
  {
   "cell_type": "code",
   "execution_count": 25,
   "id": "096c2acb",
   "metadata": {},
   "outputs": [
    {
     "name": "stdout",
     "output_type": "stream",
     "text": [
      "Before\n",
      "['A', 'B', 'c']\n",
      "[0, 0, 0]\n",
      "[0, 0, 0]\n",
      "[0, 0, 0]\n",
      "After\n",
      "['A', 'B', 'c']\n",
      "[0, 0, 1]\n",
      "[0, 0, 0]\n",
      "[1, 0, 0]\n"
     ]
    }
   ],
   "source": [
    "print(\"Before\")\n",
    "print(nodes)\n",
    "DisplayGraph()\n",
    "\n",
    "AddEdge(\"A\",\"c\")\n",
    "\n",
    "print(\"After\")\n",
    "print(nodes)\n",
    "DisplayGraph()"
   ]
  },
  {
   "cell_type": "code",
   "execution_count": null,
   "id": "fcb3db8d",
   "metadata": {},
   "outputs": [],
   "source": []
  }
 ],
 "metadata": {
  "kernelspec": {
   "display_name": "base",
   "language": "python",
   "name": "python3"
  },
  "language_info": {
   "codemirror_mode": {
    "name": "ipython",
    "version": 3
   },
   "file_extension": ".py",
   "mimetype": "text/x-python",
   "name": "python",
   "nbconvert_exporter": "python",
   "pygments_lexer": "ipython3",
   "version": "3.11.5"
  }
 },
 "nbformat": 4,
 "nbformat_minor": 5
}
