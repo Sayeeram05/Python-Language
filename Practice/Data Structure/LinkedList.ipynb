{
 "cells": [
  {
   "cell_type": "code",
   "execution_count": null,
   "id": "4fc56653-3fdd-4a7f-bf4b-34efde9b3792",
   "metadata": {},
   "outputs": [],
   "source": []
  },
  {
   "cell_type": "code",
   "execution_count": 44,
   "id": "6fe352dd-a891-40fc-8d2f-ff2164de748c",
   "metadata": {},
   "outputs": [],
   "source": [
    "class Node:\n",
    "    Head = None\n",
    "    Temp = None\n",
    "    def __init__(self,Data):\n",
    "        self.Data = Data\n",
    "        self.next =  None\n",
    "        if(Node.Head == None):\n",
    "            Node.Head = self\n",
    "            Node.Temp = self\n",
    "        else:\n",
    "            Node.Temp.next = self\n",
    "            Node.Temp = self\n",
    "    def Display(self):\n",
    "        Temp = Node.Head\n",
    "        while(Temp != None):\n",
    "            print(Temp.Data)\n",
    "            Temp = Temp.next"
   ]
  },
  {
   "cell_type": "code",
   "execution_count": 46,
   "id": "ca696f39-d674-4c19-9565-6743a031c64e",
   "metadata": {},
   "outputs": [],
   "source": [
    "n = Node(5)"
   ]
  },
  {
   "cell_type": "code",
   "execution_count": 48,
   "id": "ce8b2f12-ff11-4b8e-9a1d-2812096c9f89",
   "metadata": {},
   "outputs": [],
   "source": [
    "n = Node(10)"
   ]
  },
  {
   "cell_type": "code",
   "execution_count": 50,
   "id": "7af7a98a-3771-4d6d-af66-275045ae6258",
   "metadata": {},
   "outputs": [
    {
     "name": "stdout",
     "output_type": "stream",
     "text": [
      "5\n",
      "10\n"
     ]
    }
   ],
   "source": [
    "n.Display()"
   ]
  },
  {
   "cell_type": "markdown",
   "id": "861cc9af-e8bc-4152-9509-6f0b205db946",
   "metadata": {},
   "source": [
    "## Adding"
   ]
  },
  {
   "cell_type": "code",
   "execution_count": 428,
   "id": "1da0001f-0a32-4c3c-8f72-3c1a3718000b",
   "metadata": {},
   "outputs": [],
   "source": [
    "class Node:\n",
    "    def __init__(self,data):\n",
    "        self.data = data\n",
    "        self.next = None\n",
    "\n",
    "class LinkedList:\n",
    "    def __init__(self):\n",
    "        self.Head = None\n",
    "        self.Temp = None\n",
    "\n",
    "    def AddFirst(self,data):\n",
    "        NewNode = Node(data)\n",
    "        NewNode.next = self.Head\n",
    "        self.Head = NewNode\n",
    "\n",
    "    def AddEnd(self,data):\n",
    "        NewNode = Node(data)\n",
    "        if self.Temp is None:\n",
    "            self.Head = NewNode\n",
    "            self.Temp = NewNode\n",
    "        else:\n",
    "            self.Temp.next = NewNode\n",
    "            self.Temp = NewNode\n",
    "\n",
    "    def AddAt(self,Position,data):\n",
    "        NewNode = Node(data)\n",
    "        i = self.Head\n",
    "        pre = None\n",
    "        for j in range(1,Position):\n",
    "            if i is not None:\n",
    "                pre = i\n",
    "                i = i.next\n",
    "            else:\n",
    "                print(\"Invaild Position\")\n",
    "                break\n",
    "        pre.next = NewNode\n",
    "        NewNode.next = i\n",
    "        \n",
    "    def Traversal(self):\n",
    "        if self.Head is None:\n",
    "            print(\"Linked List is empty\")\n",
    "        else:\n",
    "            i = self.Head\n",
    "            print(\"LL = [ \",end=\"\")\n",
    "            while i is not None:\n",
    "                print(i.data,end=\" \")\n",
    "                i = i.next\n",
    "            print(\"]\")"
   ]
  },
  {
   "cell_type": "code",
   "execution_count": 430,
   "id": "f0924b59-5957-4d11-90f6-4e935fd9fc3d",
   "metadata": {},
   "outputs": [],
   "source": [
    "L1 = LinkedList()"
   ]
  },
  {
   "cell_type": "code",
   "execution_count": 432,
   "id": "431daf97-a7b1-4f7e-afa4-93031fc08aa0",
   "metadata": {},
   "outputs": [],
   "source": [
    "L1.AddEnd(5)"
   ]
  },
  {
   "cell_type": "code",
   "execution_count": 434,
   "id": "d4d159e5-538b-48df-9fae-bb5e4a4e7449",
   "metadata": {},
   "outputs": [],
   "source": [
    "L1.AddEnd(10)\n",
    "L1.AddEnd(15)\n",
    "L1.AddEnd(20)"
   ]
  },
  {
   "cell_type": "code",
   "execution_count": 436,
   "id": "76021bbc-1e54-4910-adba-ada672a4d8dc",
   "metadata": {},
   "outputs": [
    {
     "name": "stdout",
     "output_type": "stream",
     "text": [
      "LL = [ 5 10 15 20 ]\n"
     ]
    }
   ],
   "source": [
    "L1.Traversal()"
   ]
  },
  {
   "cell_type": "code",
   "execution_count": 438,
   "id": "b30fe892-058b-4257-9118-7582edd229c8",
   "metadata": {},
   "outputs": [],
   "source": [
    "L1.AddFirst(0)"
   ]
  },
  {
   "cell_type": "code",
   "execution_count": 440,
   "id": "a945044a-dab2-4ce1-84e6-9d70967918e8",
   "metadata": {},
   "outputs": [
    {
     "name": "stdout",
     "output_type": "stream",
     "text": [
      "LL = [ 0 5 10 15 20 ]\n"
     ]
    }
   ],
   "source": [
    "L1.Traversal()"
   ]
  },
  {
   "cell_type": "code",
   "execution_count": 442,
   "id": "d335dabb-a2fc-4a09-98e3-8383bfc9a8a0",
   "metadata": {},
   "outputs": [],
   "source": [
    "L1.AddFirst(-5)"
   ]
  },
  {
   "cell_type": "code",
   "execution_count": 444,
   "id": "bbebc2d5-f92c-4e6d-b0b5-38db8040edc9",
   "metadata": {},
   "outputs": [
    {
     "name": "stdout",
     "output_type": "stream",
     "text": [
      "LL = [ -5 0 5 10 15 20 ]\n"
     ]
    }
   ],
   "source": [
    "L1.Traversal()"
   ]
  },
  {
   "cell_type": "code",
   "execution_count": 446,
   "id": "b9782923-185e-444a-bbf2-67b6fd0cf801",
   "metadata": {},
   "outputs": [],
   "source": [
    "L1.AddAt(3,10)"
   ]
  },
  {
   "cell_type": "code",
   "execution_count": 448,
   "id": "e7303383-2161-4d5c-a56d-82f2fda3a897",
   "metadata": {},
   "outputs": [
    {
     "name": "stdout",
     "output_type": "stream",
     "text": [
      "LL = [ -5 0 10 5 10 15 20 ]\n"
     ]
    }
   ],
   "source": [
    "L1.Traversal()"
   ]
  },
  {
   "cell_type": "code",
   "execution_count": 450,
   "id": "7c78f2f9-1bdb-45a2-a96b-8f332dd7c8b0",
   "metadata": {},
   "outputs": [],
   "source": [
    "L1.AddAt(7,16)"
   ]
  },
  {
   "cell_type": "code",
   "execution_count": 452,
   "id": "558e85b7-278c-41ef-ae3e-f49810482e4a",
   "metadata": {},
   "outputs": [
    {
     "name": "stdout",
     "output_type": "stream",
     "text": [
      "LL = [ -5 0 10 5 10 15 16 20 ]\n"
     ]
    }
   ],
   "source": [
    "L1.Traversal()"
   ]
  },
  {
   "cell_type": "code",
   "execution_count": 454,
   "id": "eae1c3a9-db1f-4b08-aea0-431345e7b022",
   "metadata": {},
   "outputs": [],
   "source": [
    "L1.AddAt(9,16)"
   ]
  },
  {
   "cell_type": "code",
   "execution_count": 456,
   "id": "606e8939-31f3-483c-8d13-91ffbb0965f4",
   "metadata": {},
   "outputs": [
    {
     "name": "stdout",
     "output_type": "stream",
     "text": [
      "LL = [ -5 0 10 5 10 15 16 20 16 ]\n"
     ]
    }
   ],
   "source": [
    "L1.Traversal()"
   ]
  },
  {
   "cell_type": "code",
   "execution_count": 461,
   "id": "fd373c12-ef6b-4705-9379-e37b9383bbbe",
   "metadata": {},
   "outputs": [],
   "source": [
    "L1.AddEnd(25)"
   ]
  },
  {
   "cell_type": "code",
   "execution_count": 463,
   "id": "de33a39d-e11f-4735-989b-c396ecf46810",
   "metadata": {},
   "outputs": [
    {
     "name": "stdout",
     "output_type": "stream",
     "text": [
      "LL = [ -5 0 10 5 10 15 16 20 25 ]\n"
     ]
    }
   ],
   "source": [
    "L1.Traversal()"
   ]
  },
  {
   "cell_type": "code",
   "execution_count": null,
   "id": "52d842fc-9e63-4558-ae12-ddab2449baf3",
   "metadata": {},
   "outputs": [],
   "source": []
  },
  {
   "cell_type": "code",
   "execution_count": null,
   "id": "e7c014fe-61f6-4eab-ac18-aa69c126dd72",
   "metadata": {},
   "outputs": [],
   "source": []
  }
 ],
 "metadata": {
  "kernelspec": {
   "display_name": "Python 3 (ipykernel)",
   "language": "python",
   "name": "python3"
  },
  "language_info": {
   "codemirror_mode": {
    "name": "ipython",
    "version": 3
   },
   "file_extension": ".py",
   "mimetype": "text/x-python",
   "name": "python",
   "nbconvert_exporter": "python",
   "pygments_lexer": "ipython3",
   "version": "3.11.5"
  }
 },
 "nbformat": 4,
 "nbformat_minor": 5
}
