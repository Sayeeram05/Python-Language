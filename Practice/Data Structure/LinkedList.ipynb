{
 "cells": [
  {
   "cell_type": "markdown",
   "id": "9b5adcfe-78a7-495c-b29b-b71a64a842bd",
   "metadata": {},
   "source": [
    "## Basic"
   ]
  },
  {
   "cell_type": "code",
   "execution_count": 2693,
   "id": "6fe352dd-a891-40fc-8d2f-ff2164de748c",
   "metadata": {},
   "outputs": [],
   "source": [
    "class Node:\n",
    "    Head = None\n",
    "    Temp = None\n",
    "    def __init__(self,Data):\n",
    "        self.Data = Data\n",
    "        self.next =  None\n",
    "        if(Node.Head == None):\n",
    "            Node.Head = self\n",
    "            Node.Temp = self\n",
    "        else:\n",
    "            Node.Temp.next = self\n",
    "            Node.Temp = self\n",
    "    def Display(self):\n",
    "        Temp = Node.Head\n",
    "        while(Temp != None):\n",
    "            print(Temp.Data)\n",
    "            Temp = Temp.next"
   ]
  },
  {
   "cell_type": "code",
   "execution_count": 2694,
   "id": "ca696f39-d674-4c19-9565-6743a031c64e",
   "metadata": {},
   "outputs": [],
   "source": [
    "n = Node(5)"
   ]
  },
  {
   "cell_type": "code",
   "execution_count": 2695,
   "id": "ce8b2f12-ff11-4b8e-9a1d-2812096c9f89",
   "metadata": {},
   "outputs": [],
   "source": [
    "n = Node(10)"
   ]
  },
  {
   "cell_type": "code",
   "execution_count": 2696,
   "id": "7af7a98a-3771-4d6d-af66-275045ae6258",
   "metadata": {},
   "outputs": [
    {
     "name": "stdout",
     "output_type": "stream",
     "text": [
      "5\n",
      "10\n"
     ]
    }
   ],
   "source": [
    "n.Display()"
   ]
  },
  {
   "cell_type": "markdown",
   "id": "861cc9af-e8bc-4152-9509-6f0b205db946",
   "metadata": {},
   "source": [
    "## Adding"
   ]
  },
  {
   "cell_type": "code",
   "execution_count": 2698,
   "id": "1da0001f-0a32-4c3c-8f72-3c1a3718000b",
   "metadata": {},
   "outputs": [],
   "source": [
    "class Node:\n",
    "    def __init__(self,data):\n",
    "        self.data = data\n",
    "        self.next = None\n",
    "\n",
    "class LinkedList:\n",
    "    def __init__(self):\n",
    "        self.Head = None\n",
    "        self.Temp = None\n",
    "\n",
    "    def AddFirst(self,data):\n",
    "        NewNode = Node(data)\n",
    "        if self.Head is None:\n",
    "            self.Head = NewNode\n",
    "            self.Temp = NewNode\n",
    "        else:\n",
    "            NewNode.next = self.Head\n",
    "            self.Head = NewNode\n",
    "\n",
    "    def AddEnd(self,data):\n",
    "        NewNode = Node(data)\n",
    "        if self.Head is None:\n",
    "            self.Head = NewNode\n",
    "            self.Temp = NewNode\n",
    "        else:\n",
    "            self.Temp.next = NewNode\n",
    "            self.Temp = NewNode\n",
    "\n",
    "    def AddAt(self,Position,data):\n",
    "        NewNode = Node(data)\n",
    "        i = self.Head\n",
    "        pre = None\n",
    "        for j in range(1,Position):\n",
    "            if i is not None:\n",
    "                pre = i\n",
    "                i = i.next\n",
    "            else:\n",
    "                print(\"Invaild Position\")\n",
    "                return\n",
    "        if pre is None:\n",
    "            self.AddFirst(data)\n",
    "        else:\n",
    "            pre.next = NewNode\n",
    "            NewNode.next = i\n",
    "        \n",
    "    def Traversal(self):\n",
    "        if self.Head is None:\n",
    "            print(\"Linked List is empty\")\n",
    "        else:\n",
    "            i = self.Head\n",
    "            print(\"LL = [ \",end=\"\")\n",
    "            while i is not None:\n",
    "                print(i.data,end=\" \")\n",
    "                i = i.next\n",
    "            print(\"]\")"
   ]
  },
  {
   "cell_type": "code",
   "execution_count": 2699,
   "id": "f0924b59-5957-4d11-90f6-4e935fd9fc3d",
   "metadata": {},
   "outputs": [],
   "source": [
    "L1 = LinkedList()"
   ]
  },
  {
   "cell_type": "code",
   "execution_count": 2700,
   "id": "431daf97-a7b1-4f7e-afa4-93031fc08aa0",
   "metadata": {},
   "outputs": [],
   "source": [
    "L1.AddFirst(5)"
   ]
  },
  {
   "cell_type": "code",
   "execution_count": 2701,
   "id": "d4d159e5-538b-48df-9fae-bb5e4a4e7449",
   "metadata": {},
   "outputs": [],
   "source": [
    "L1.AddEnd(10)\n",
    "L1.AddEnd(15)\n",
    "L1.AddEnd(20)"
   ]
  },
  {
   "cell_type": "code",
   "execution_count": 2702,
   "id": "76021bbc-1e54-4910-adba-ada672a4d8dc",
   "metadata": {},
   "outputs": [
    {
     "name": "stdout",
     "output_type": "stream",
     "text": [
      "LL = [ 5 10 15 20 ]\n"
     ]
    }
   ],
   "source": [
    "L1.Traversal()"
   ]
  },
  {
   "cell_type": "code",
   "execution_count": 2703,
   "id": "b30fe892-058b-4257-9118-7582edd229c8",
   "metadata": {},
   "outputs": [],
   "source": [
    "L1.AddFirst(0)"
   ]
  },
  {
   "cell_type": "code",
   "execution_count": 2704,
   "id": "a945044a-dab2-4ce1-84e6-9d70967918e8",
   "metadata": {},
   "outputs": [
    {
     "name": "stdout",
     "output_type": "stream",
     "text": [
      "LL = [ 0 5 10 15 20 ]\n"
     ]
    }
   ],
   "source": [
    "L1.Traversal()"
   ]
  },
  {
   "cell_type": "code",
   "execution_count": 2705,
   "id": "d335dabb-a2fc-4a09-98e3-8383bfc9a8a0",
   "metadata": {},
   "outputs": [],
   "source": [
    "L1.AddFirst(-5)"
   ]
  },
  {
   "cell_type": "code",
   "execution_count": 2706,
   "id": "bbebc2d5-f92c-4e6d-b0b5-38db8040edc9",
   "metadata": {},
   "outputs": [
    {
     "name": "stdout",
     "output_type": "stream",
     "text": [
      "LL = [ -5 0 5 10 15 20 ]\n"
     ]
    }
   ],
   "source": [
    "L1.Traversal()"
   ]
  },
  {
   "cell_type": "code",
   "execution_count": 2707,
   "id": "b9782923-185e-444a-bbf2-67b6fd0cf801",
   "metadata": {},
   "outputs": [],
   "source": [
    "L1.AddAt(3,10)"
   ]
  },
  {
   "cell_type": "code",
   "execution_count": 2708,
   "id": "e7303383-2161-4d5c-a56d-82f2fda3a897",
   "metadata": {},
   "outputs": [
    {
     "name": "stdout",
     "output_type": "stream",
     "text": [
      "LL = [ -5 0 10 5 10 15 20 ]\n"
     ]
    }
   ],
   "source": [
    "L1.Traversal()"
   ]
  },
  {
   "cell_type": "code",
   "execution_count": 2709,
   "id": "7c78f2f9-1bdb-45a2-a96b-8f332dd7c8b0",
   "metadata": {},
   "outputs": [],
   "source": [
    "L1.AddAt(1,16)"
   ]
  },
  {
   "cell_type": "code",
   "execution_count": 2710,
   "id": "558e85b7-278c-41ef-ae3e-f49810482e4a",
   "metadata": {},
   "outputs": [
    {
     "name": "stdout",
     "output_type": "stream",
     "text": [
      "LL = [ 16 -5 0 10 5 10 15 20 ]\n"
     ]
    }
   ],
   "source": [
    "L1.Traversal()"
   ]
  },
  {
   "cell_type": "code",
   "execution_count": 2711,
   "id": "eae1c3a9-db1f-4b08-aea0-431345e7b022",
   "metadata": {},
   "outputs": [],
   "source": [
    "L1.AddAt(9,16)"
   ]
  },
  {
   "cell_type": "code",
   "execution_count": 2712,
   "id": "606e8939-31f3-483c-8d13-91ffbb0965f4",
   "metadata": {},
   "outputs": [
    {
     "name": "stdout",
     "output_type": "stream",
     "text": [
      "LL = [ 16 -5 0 10 5 10 15 20 16 ]\n"
     ]
    }
   ],
   "source": [
    "L1.Traversal()"
   ]
  },
  {
   "cell_type": "code",
   "execution_count": 2713,
   "id": "fd373c12-ef6b-4705-9379-e37b9383bbbe",
   "metadata": {},
   "outputs": [],
   "source": [
    "L1.AddEnd(25)"
   ]
  },
  {
   "cell_type": "code",
   "execution_count": 2714,
   "id": "de33a39d-e11f-4735-989b-c396ecf46810",
   "metadata": {},
   "outputs": [
    {
     "name": "stdout",
     "output_type": "stream",
     "text": [
      "LL = [ 16 -5 0 10 5 10 15 20 25 ]\n"
     ]
    }
   ],
   "source": [
    "L1.Traversal()"
   ]
  },
  {
   "cell_type": "markdown",
   "id": "08d36e99-846f-413e-8c31-a880e4ef17dc",
   "metadata": {},
   "source": [
    "## Remove"
   ]
  },
  {
   "cell_type": "code",
   "execution_count": 2716,
   "id": "e7c014fe-61f6-4eab-ac18-aa69c126dd72",
   "metadata": {},
   "outputs": [],
   "source": [
    "class Node:\n",
    "    def __init__(self,data):\n",
    "        self.data = data\n",
    "        self.next = None\n",
    "\n",
    "class LinkedList:\n",
    "    def __init__(self):\n",
    "        self.Head = self.Temp = None\n",
    "\n",
    "    def AddEnd(self,data):\n",
    "        NewNode = Node(data)\n",
    "        if self.Head is None:\n",
    "            self.Head = NewNode\n",
    "            self.Temp = NewNode\n",
    "        else:\n",
    "            self.Temp.next = NewNode\n",
    "            self.Temp = NewNode\n",
    "    def Traversal(self):\n",
    "        if self.Head is None:\n",
    "            print(\"Linked List is empty\")\n",
    "        else:\n",
    "            i = self.Head\n",
    "            print(\"LL = [ \",end=\"\")\n",
    "            while i is not None:\n",
    "                print(i.data,end=\" \")\n",
    "                i = i.next\n",
    "            print(\"]\")\n",
    "\n",
    "    def RemoveFirst(self):\n",
    "        if(self.Head is None):\n",
    "            print(\"Linked List is empty\")\n",
    "        else:\n",
    "            T = self.Head\n",
    "            self.Head = self.Head.next\n",
    "            del T\n",
    "\n",
    "    def RemoveEnd(self):\n",
    "        pre = None\n",
    "        Temp = self.Head\n",
    "        if(self.Head is None):\n",
    "            print(\"Linked List is empty\")\n",
    "        elif(Temp.next == None):\n",
    "            self.Head = None\n",
    "            del Temp\n",
    "        else:\n",
    "            while Temp.next is not None:\n",
    "                pre = Temp\n",
    "                Temp = Temp.next\n",
    "            self.Temp = pre\n",
    "            pre.next = None\n",
    "            del Temp\n",
    "        \n",
    "    def RemoveAt(self,Position):\n",
    "        if(self.Head is None):\n",
    "            print(\"Linked List is empty\")\n",
    "        else:\n",
    "            Temp = self.Head\n",
    "            pre = self.Head\n",
    "            for j in range(1,Position):\n",
    "                if Temp.next is not None:\n",
    "                    pre = Temp\n",
    "                    Temp = Temp.next\n",
    "                else:\n",
    "                    print(\"Invaild Position\")\n",
    "                    return\n",
    "            if(pre == Temp):\n",
    "                self.Head = Temp.next\n",
    "                self.Temp = Temp.next\n",
    "            else:\n",
    "                pre.next = Temp.next\n",
    "        "
   ]
  },
  {
   "cell_type": "code",
   "execution_count": 2717,
   "id": "48c9b629-b785-4693-b327-7be71fb296f2",
   "metadata": {},
   "outputs": [],
   "source": [
    "L1 = LinkedList()\n",
    "L1.AddEnd(5)\n",
    "L1.AddEnd(10)\n",
    "L1.AddEnd(15)\n",
    "L1.AddEnd(20)"
   ]
  },
  {
   "cell_type": "code",
   "execution_count": 2718,
   "id": "0278f89b-7f31-4e4e-8a82-6a28a1d1278a",
   "metadata": {},
   "outputs": [
    {
     "name": "stdout",
     "output_type": "stream",
     "text": [
      "LL = [ 5 10 15 20 ]\n"
     ]
    }
   ],
   "source": [
    "L1.Traversal()"
   ]
  },
  {
   "cell_type": "code",
   "execution_count": 2719,
   "id": "ad80680c-534b-4d00-b7eb-47bd4227f4bf",
   "metadata": {},
   "outputs": [],
   "source": [
    "L1.RemoveFirst()"
   ]
  },
  {
   "cell_type": "code",
   "execution_count": 2720,
   "id": "574685b3-da04-4f70-8456-46bb6e3e4a7e",
   "metadata": {},
   "outputs": [
    {
     "name": "stdout",
     "output_type": "stream",
     "text": [
      "LL = [ 10 15 20 ]\n"
     ]
    }
   ],
   "source": [
    "L1.Traversal()"
   ]
  },
  {
   "cell_type": "code",
   "execution_count": 2721,
   "id": "54acc95c-a050-4cd2-a4b8-6cb28db637f2",
   "metadata": {},
   "outputs": [],
   "source": [
    "L1.RemoveEnd()"
   ]
  },
  {
   "cell_type": "code",
   "execution_count": 2722,
   "id": "ab87966d-7fd2-4e49-b2d3-464928be19e1",
   "metadata": {},
   "outputs": [
    {
     "name": "stdout",
     "output_type": "stream",
     "text": [
      "LL = [ 10 15 ]\n"
     ]
    }
   ],
   "source": [
    "L1.Traversal()"
   ]
  },
  {
   "cell_type": "code",
   "execution_count": 2723,
   "id": "537ef66e-c6a2-4638-a224-43fe4ca4169a",
   "metadata": {},
   "outputs": [
    {
     "name": "stdout",
     "output_type": "stream",
     "text": [
      "LL = [ 10 ]\n"
     ]
    }
   ],
   "source": [
    "L1.RemoveEnd()\n",
    "L1.Traversal()"
   ]
  },
  {
   "cell_type": "code",
   "execution_count": 2724,
   "id": "ffdabe2f-1f22-49d5-8d19-b0f4e3aa2c77",
   "metadata": {},
   "outputs": [],
   "source": [
    "L1.RemoveEnd()"
   ]
  },
  {
   "cell_type": "code",
   "execution_count": 2725,
   "id": "c3ab810c-8477-4b70-8374-116086777251",
   "metadata": {},
   "outputs": [
    {
     "name": "stdout",
     "output_type": "stream",
     "text": [
      "Linked List is empty\n"
     ]
    }
   ],
   "source": [
    "L1.Traversal()"
   ]
  },
  {
   "cell_type": "code",
   "execution_count": 2726,
   "id": "82f010fb-d2e2-4f8d-89b1-9353cf930f61",
   "metadata": {},
   "outputs": [
    {
     "name": "stdout",
     "output_type": "stream",
     "text": [
      "Linked List is empty\n"
     ]
    }
   ],
   "source": [
    "L1.RemoveFirst()"
   ]
  },
  {
   "cell_type": "code",
   "execution_count": 2727,
   "id": "a1a1c02a-4429-4935-b57a-f5e38140d74e",
   "metadata": {},
   "outputs": [
    {
     "name": "stdout",
     "output_type": "stream",
     "text": [
      "Linked List is empty\n"
     ]
    }
   ],
   "source": [
    "L1.RemoveEnd()"
   ]
  },
  {
   "cell_type": "code",
   "execution_count": 2728,
   "id": "3c68e140-17c6-4a65-a107-ff173fa3e777",
   "metadata": {},
   "outputs": [
    {
     "name": "stdout",
     "output_type": "stream",
     "text": [
      "Linked List is empty\n"
     ]
    }
   ],
   "source": [
    "L1.RemoveAt(2)"
   ]
  },
  {
   "cell_type": "code",
   "execution_count": 2729,
   "id": "d25a8783-d114-4d99-9eda-87f2d653e114",
   "metadata": {},
   "outputs": [],
   "source": [
    "L1.AddEnd(5)\n",
    "L1.AddEnd(10)\n",
    "L1.AddEnd(15)\n",
    "L1.AddEnd(20)"
   ]
  },
  {
   "cell_type": "code",
   "execution_count": 2730,
   "id": "72db4563-6c5a-4a9a-94f1-2d4fbd5dd354",
   "metadata": {},
   "outputs": [
    {
     "name": "stdout",
     "output_type": "stream",
     "text": [
      "LL = [ 5 10 15 20 ]\n"
     ]
    }
   ],
   "source": [
    "L1.Traversal()"
   ]
  },
  {
   "cell_type": "code",
   "execution_count": 2731,
   "id": "2c12e7b7-4e09-4720-8dfd-b64f3e80953d",
   "metadata": {},
   "outputs": [],
   "source": [
    "L1.RemoveAt(2)"
   ]
  },
  {
   "cell_type": "code",
   "execution_count": 2732,
   "id": "4849395c-034c-49ed-8c19-4467c98b3ef6",
   "metadata": {},
   "outputs": [
    {
     "name": "stdout",
     "output_type": "stream",
     "text": [
      "LL = [ 5 15 20 ]\n"
     ]
    }
   ],
   "source": [
    "L1.Traversal()"
   ]
  },
  {
   "cell_type": "code",
   "execution_count": 2733,
   "id": "5c2caaf1-44c6-4495-9b25-ddca66c91e9c",
   "metadata": {},
   "outputs": [],
   "source": [
    "L1.RemoveAt(1)"
   ]
  },
  {
   "cell_type": "code",
   "execution_count": 2734,
   "id": "ed0c1336-b172-4b25-b3c1-bd074ed17347",
   "metadata": {},
   "outputs": [
    {
     "name": "stdout",
     "output_type": "stream",
     "text": [
      "LL = [ 15 20 ]\n"
     ]
    }
   ],
   "source": [
    "L1.Traversal()"
   ]
  },
  {
   "cell_type": "code",
   "execution_count": 2735,
   "id": "11f2476e-3aac-4efe-95f8-c02b87f4f568",
   "metadata": {},
   "outputs": [
    {
     "name": "stdout",
     "output_type": "stream",
     "text": [
      "LL = [ 15 ]\n"
     ]
    }
   ],
   "source": [
    "L1.RemoveAt(2)\n",
    "L1.Traversal()"
   ]
  },
  {
   "cell_type": "code",
   "execution_count": 2736,
   "id": "bb626f09-bd0e-44f3-bcf7-0a9726852246",
   "metadata": {},
   "outputs": [
    {
     "name": "stdout",
     "output_type": "stream",
     "text": [
      "Invaild Position\n",
      "LL = [ 15 ]\n"
     ]
    }
   ],
   "source": [
    "L1.RemoveAt(2)\n",
    "L1.Traversal()"
   ]
  },
  {
   "cell_type": "code",
   "execution_count": 2737,
   "id": "b18e3b13-10fe-4e0c-941d-94ede590a65d",
   "metadata": {},
   "outputs": [
    {
     "name": "stdout",
     "output_type": "stream",
     "text": [
      "Linked List is empty\n"
     ]
    }
   ],
   "source": [
    "L1.RemoveEnd()\n",
    "L1.Traversal()"
   ]
  },
  {
   "cell_type": "code",
   "execution_count": 2738,
   "id": "bdcb7ac1-3e28-4435-8d77-c9dcd913dc5c",
   "metadata": {},
   "outputs": [
    {
     "name": "stdout",
     "output_type": "stream",
     "text": [
      "Linked List is empty\n",
      "Linked List is empty\n"
     ]
    }
   ],
   "source": [
    "L1.RemoveEnd()\n",
    "L1.Traversal()"
   ]
  },
  {
   "cell_type": "code",
   "execution_count": 2784,
   "id": "c8abccc7-79d2-4b34-85cc-f5c51c6d5117",
   "metadata": {},
   "outputs": [],
   "source": [
    "L1.AddEnd(5)\n",
    "L1.AddEnd(10)\n",
    "L1.AddEnd(15)\n",
    "L1.AddEnd(20)"
   ]
  },
  {
   "cell_type": "code",
   "execution_count": 2786,
   "id": "e74cb325-76ed-4821-a5bc-1ba068951bc0",
   "metadata": {},
   "outputs": [
    {
     "name": "stdout",
     "output_type": "stream",
     "text": [
      "LL = [ 5 10 15 20 ]\n"
     ]
    }
   ],
   "source": [
    "L1.Traversal()"
   ]
  },
  {
   "cell_type": "code",
   "execution_count": null,
   "id": "b62d8216-dcb8-45ad-aaee-677c7f7ed85c",
   "metadata": {},
   "outputs": [],
   "source": []
  }
 ],
 "metadata": {
  "kernelspec": {
   "display_name": "Python 3 (ipykernel)",
   "language": "python",
   "name": "python3"
  },
  "language_info": {
   "codemirror_mode": {
    "name": "ipython",
    "version": 3
   },
   "file_extension": ".py",
   "mimetype": "text/x-python",
   "name": "python",
   "nbconvert_exporter": "python",
   "pygments_lexer": "ipython3",
   "version": "3.11.5"
  }
 },
 "nbformat": 4,
 "nbformat_minor": 5
}
