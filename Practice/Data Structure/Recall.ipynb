{
 "cells": [
  {
   "cell_type": "markdown",
   "id": "475dd9d1-9d53-4740-b370-b9de82bfe44c",
   "metadata": {
    "jp-MarkdownHeadingCollapsed": true,
    "panel-layout": {
     "height": 50.8125,
     "visible": true,
     "width": 100
    }
   },
   "source": [
    "# Singly Linked List"
   ]
  },
  {
   "cell_type": "code",
   "execution_count": 3,
   "id": "690f062b-6917-4f66-9246-40d5cd1269f1",
   "metadata": {},
   "outputs": [],
   "source": [
    "class Node:\n",
    "    def __init__(self,Data):\n",
    "        self.Data = Data\n",
    "        self.Next = None"
   ]
  },
  {
   "cell_type": "code",
   "execution_count": 4,
   "id": "9ba2f280-04ee-4320-a76f-17e5d5156a3e",
   "metadata": {},
   "outputs": [],
   "source": [
    "class LinkedList:\n",
    "    \n",
    "    def __init__(self):\n",
    "        self.Head = None\n",
    "        self.Tail = None\n",
    "    \n",
    "    def Traversal(self):\n",
    "        Temp = self.Head\n",
    "        print(\"Linked List : \",end = \"\")\n",
    "        if Temp != None:\n",
    "            while(Temp != None):\n",
    "                print(Temp.Data,end = \" \")\n",
    "                Temp = Temp.Next\n",
    "            print(\"\\n\")\n",
    "        else:\n",
    "            print(\"Empty\")\n",
    "            \n",
    "    def Search(self,Data):\n",
    "        if(self.Head == None):\n",
    "            return(\"Empty\")\n",
    "        else:\n",
    "            Position = 1\n",
    "            Temp = self.Head\n",
    "            while(Temp != None):\n",
    "                if(Temp.Data == Data):\n",
    "                    break\n",
    "                Temp = Temp.Next\n",
    "                Position += 1                \n",
    "            else:\n",
    "                return(\"Not Found\")\n",
    "            return(Position)\n",
    "\n",
    "    def Length(self):\n",
    "        L = 0\n",
    "        Temp = self.Head\n",
    "        while(Temp != None):\n",
    "            L += 1\n",
    "            Temp = Temp.Next\n",
    "        print(\"Length : \",L)\n",
    "\n",
    "    \n",
    "    # Add\n",
    "    def AddAtTail(self,Data):\n",
    "        newNode = Node(Data)\n",
    "        if(self.Head != None):\n",
    "            self.Tail.Next = newNode\n",
    "            self.Tail = newNode\n",
    "        else:\n",
    "            self.Head = self.Tail = newNode\n",
    "            \n",
    "    def AddAtHead(self,Data):\n",
    "        newNode = Node(Data)\n",
    "        if(self.Head != None):\n",
    "            newNode.Next = self.Head\n",
    "            self.Head = newNode\n",
    "        else:\n",
    "            self.Head = self.Tail = newNode\n",
    "            \n",
    "    def AddAtPosition(self,Data,Position):\n",
    "        try:\n",
    "            assert Position >= 1, f\"Invalid Position\"\n",
    "        except AssertionError as error:\n",
    "            print(error)\n",
    "            \n",
    "        if(self.Head == None or Position == 1):\n",
    "            self.AddAtHead(Data)\n",
    "        else:\n",
    "            Index = 1\n",
    "            Temp = self.Head\n",
    "            while(Temp != None and Index != Position-1):\n",
    "                Temp = Temp.Next\n",
    "                Index += 1\n",
    "            print(Position,Index)\n",
    "            if(Position-1 == Index):\n",
    "                newNode = Node(Data)\n",
    "                newNode.Next = Temp.Next\n",
    "                Temp.Next = newNode\n",
    "            else:\n",
    "                self.AddAtTail(Data)\n",
    "\n",
    "    # Delete\n",
    "    def DeleteAtTail(self):\n",
    "        if(self.Head == None):\n",
    "            print(\"Linked List : Empty\")\n",
    "        elif(self.Head.Next == None):\n",
    "            self.Head = None\n",
    "            self.Tail = None\n",
    "            self.Traversal()\n",
    "        else:\n",
    "            Temp = self.Head\n",
    "            pre = None\n",
    "            while(Temp.Next != None):\n",
    "                pre = Temp\n",
    "                Temp = Temp.Next\n",
    "            pre.Next=None\n",
    "            self.Tail = pre\n",
    "            self.Traversal()\n",
    "        \n",
    "    def DeleteAtHead(self):\n",
    "        if(self.Head == None):\n",
    "            print(\"Linked List : Empty\")\n",
    "        elif(self.Head.Next == None):\n",
    "            self.Head = None\n",
    "            self.Tail = None\n",
    "            self.Traversal()\n",
    "        else:\n",
    "            self.Head = self.Head.Next\n",
    "            self.Traversal()\n",
    "\n",
    "    def DeleteAtposition(self,Position):\n",
    "        if(self.Head == None):\n",
    "            print(\"Linked List : Empty\")\n",
    "        elif(self.Head.Next == None):\n",
    "            if(Position == 1):\n",
    "                self.Head = None\n",
    "                self.Tail = None\n",
    "            else:\n",
    "                print(\"Invalid Position\")\n",
    "            self.Traversal()\n",
    "        elif(Position == 1):\n",
    "            self.Head = self.Head.Next\n",
    "            self.Traversal()\n",
    "        else:\n",
    "            Temp = self.Head\n",
    "            Index = 1\n",
    "            pre = self.Head\n",
    "            while(Temp != None and Index != Position):\n",
    "                pre = Temp\n",
    "                Temp = Temp.Next\n",
    "                Index += 1\n",
    "            if(Temp != None and Index == Position):\n",
    "                pre.Next = Temp.Next\n",
    "            else:\n",
    "                print(\"Invalid Position\")\n",
    "            self.Traversal()\n",
    "                \n",
    "            \n",
    "        \n",
    "                "
   ]
  },
  {
   "cell_type": "code",
   "execution_count": 5,
   "id": "30ce4f28-8c51-4f09-8294-54718b292aa4",
   "metadata": {},
   "outputs": [],
   "source": [
    "L1 = LinkedList()"
   ]
  },
  {
   "cell_type": "markdown",
   "id": "4a79ffe9-045c-4b03-92af-4d17be43717a",
   "metadata": {
    "jp-MarkdownHeadingCollapsed": true,
    "panel-layout": {
     "height": 60.575,
     "visible": true,
     "width": 100
    }
   },
   "source": [
    "# Add"
   ]
  },
  {
   "cell_type": "code",
   "execution_count": 7,
   "id": "ddb8b595-2b3d-42ed-9048-c432d40763fe",
   "metadata": {
    "panel-layout": {
     "height": 0,
     "visible": true,
     "width": 100
    }
   },
   "outputs": [
    {
     "name": "stdout",
     "output_type": "stream",
     "text": [
      "Linked List : 1 10 2 4 20 \n",
      "\n"
     ]
    }
   ],
   "source": [
    "L1.AddAtTail(2)\n",
    "L1.AddAtTail(4)\n",
    "L1.AddAtHead(10)\n",
    "L1.AddAtHead(1)\n",
    "L1.AddAtTail(20)\n",
    "\n",
    "L1.Traversal()"
   ]
  },
  {
   "cell_type": "code",
   "execution_count": 8,
   "id": "f9d1e6f9-8936-4f7f-bd4d-bec5c950505c",
   "metadata": {
    "panel-layout": {
     "height": 0,
     "visible": true,
     "width": 100
    }
   },
   "outputs": [],
   "source": [
    "L1.AddAtPosition(10,1)"
   ]
  },
  {
   "cell_type": "code",
   "execution_count": 9,
   "id": "c8eace5a-c090-4e54-8340-9f0f9b27665a",
   "metadata": {
    "panel-layout": {
     "height": 27.1375,
     "visible": true,
     "width": 100
    }
   },
   "outputs": [
    {
     "data": {
      "text/plain": [
       "6"
      ]
     },
     "execution_count": 9,
     "metadata": {},
     "output_type": "execute_result"
    }
   ],
   "source": [
    "L1.Search(20)"
   ]
  },
  {
   "cell_type": "code",
   "execution_count": 10,
   "id": "4a6e7d00-0627-4c65-9974-e06493669d38",
   "metadata": {
    "panel-layout": {
     "height": 0,
     "visible": true,
     "width": 100
    }
   },
   "outputs": [
    {
     "name": "stdout",
     "output_type": "stream",
     "text": [
      "Length :  6\n"
     ]
    }
   ],
   "source": [
    "L1.Length()"
   ]
  },
  {
   "cell_type": "code",
   "execution_count": 11,
   "id": "bf96407f-1f81-4c80-9003-2fc210499ded",
   "metadata": {},
   "outputs": [],
   "source": [
    "L2 = LinkedList()"
   ]
  },
  {
   "cell_type": "code",
   "execution_count": 12,
   "id": "3df00ee6-c430-4399-bbb0-c2f910ca2953",
   "metadata": {
    "panel-layout": {
     "height": 0,
     "visible": true,
     "width": 100
    }
   },
   "outputs": [
    {
     "name": "stdout",
     "output_type": "stream",
     "text": [
      "Length :  0\n"
     ]
    }
   ],
   "source": [
    "L2.Length()"
   ]
  },
  {
   "cell_type": "code",
   "execution_count": 13,
   "id": "430877ea-efcd-407f-ba29-7603d4800dec",
   "metadata": {
    "panel-layout": {
     "height": 0,
     "visible": true,
     "width": 100
    }
   },
   "outputs": [
    {
     "name": "stdout",
     "output_type": "stream",
     "text": [
      "Linked List : Empty\n"
     ]
    }
   ],
   "source": [
    "L2.Traversal()"
   ]
  },
  {
   "cell_type": "code",
   "execution_count": 14,
   "id": "e638fcdc-9d3e-40d0-a96b-8d0c1a5eab30",
   "metadata": {
    "panel-layout": {
     "height": 51.1375,
     "visible": true,
     "width": 100
    }
   },
   "outputs": [
    {
     "data": {
      "text/plain": [
       "'Empty'"
      ]
     },
     "execution_count": 14,
     "metadata": {},
     "output_type": "execute_result"
    }
   ],
   "source": [
    "L2.Search(5)"
   ]
  },
  {
   "cell_type": "code",
   "execution_count": 15,
   "id": "9b240ccf-664e-48c9-8a67-3ed481d79b0f",
   "metadata": {
    "panel-layout": {
     "height": 0,
     "visible": true,
     "width": 100
    }
   },
   "outputs": [
    {
     "name": "stdout",
     "output_type": "stream",
     "text": [
      "Linked List : 10 1 10 2 4 20 \n",
      "\n"
     ]
    }
   ],
   "source": [
    "L1.Traversal()"
   ]
  },
  {
   "cell_type": "markdown",
   "id": "f9241ab3-bb43-44d1-92d3-e0231675f464",
   "metadata": {
    "jp-MarkdownHeadingCollapsed": true,
    "panel-layout": {
     "height": 60.575,
     "visible": true,
     "width": 100
    }
   },
   "source": [
    "# Delete"
   ]
  },
  {
   "cell_type": "code",
   "execution_count": 17,
   "id": "79ddb0b5-d8b4-4c22-81e7-6f5d1f9b46f6",
   "metadata": {
    "panel-layout": {
     "height": 0,
     "visible": true,
     "width": 100
    }
   },
   "outputs": [
    {
     "name": "stdout",
     "output_type": "stream",
     "text": [
      "Linked List : 10 1 10 2 4 \n",
      "\n"
     ]
    }
   ],
   "source": [
    "L1.DeleteAtTail()"
   ]
  },
  {
   "cell_type": "code",
   "execution_count": 18,
   "id": "a10f9edf-0a8e-4264-8d36-1de65551cc9e",
   "metadata": {
    "panel-layout": {
     "height": 0,
     "visible": true,
     "width": 100
    }
   },
   "outputs": [],
   "source": [
    "L2.AddAtTail(5)"
   ]
  },
  {
   "cell_type": "code",
   "execution_count": 19,
   "id": "ff5ecfef-cb83-4dd5-b907-644d900e5659",
   "metadata": {
    "panel-layout": {
     "height": 0,
     "visible": true,
     "width": 100
    }
   },
   "outputs": [
    {
     "name": "stdout",
     "output_type": "stream",
     "text": [
      "Linked List : Empty\n"
     ]
    }
   ],
   "source": [
    "L2.DeleteAtTail()"
   ]
  },
  {
   "cell_type": "code",
   "execution_count": 20,
   "id": "00894dbb-3d39-408f-9edd-e73b804a0904",
   "metadata": {
    "panel-layout": {
     "height": 0,
     "visible": true,
     "width": 100
    }
   },
   "outputs": [
    {
     "name": "stdout",
     "output_type": "stream",
     "text": [
      "Linked List : 1 10 2 4 \n",
      "\n"
     ]
    }
   ],
   "source": [
    "L1.DeleteAtHead()"
   ]
  },
  {
   "cell_type": "code",
   "execution_count": 21,
   "id": "02e23196-1f59-49cb-8c33-d0241c60c1b7",
   "metadata": {
    "panel-layout": {
     "height": 0,
     "visible": true,
     "width": 100
    }
   },
   "outputs": [
    {
     "name": "stdout",
     "output_type": "stream",
     "text": [
      "Linked List : 10 2 4 \n",
      "\n"
     ]
    }
   ],
   "source": [
    "L1.DeleteAtHead()"
   ]
  },
  {
   "cell_type": "code",
   "execution_count": 22,
   "id": "8f8376ae-2ff6-4a37-a898-a9f5e40277cd",
   "metadata": {
    "panel-layout": {
     "height": 0,
     "visible": true,
     "width": 100
    }
   },
   "outputs": [
    {
     "name": "stdout",
     "output_type": "stream",
     "text": [
      "Linked List : 2 4 \n",
      "\n"
     ]
    }
   ],
   "source": [
    "L1.DeleteAtposition(1)"
   ]
  },
  {
   "cell_type": "markdown",
   "id": "a5a53af5-0c4e-4bd2-8433-589ad4ef6249",
   "metadata": {
    "jp-MarkdownHeadingCollapsed": true,
    "panel-layout": {
     "height": 60.575,
     "visible": true,
     "width": 100
    }
   },
   "source": [
    "# Other Functions"
   ]
  },
  {
   "cell_type": "code",
   "execution_count": 24,
   "id": "95ef258b-2aa8-4ef2-b109-2181f5826c4c",
   "metadata": {
    "panel-layout": {
     "height": 0,
     "visible": true,
     "width": 100
    }
   },
   "outputs": [
    {
     "name": "stdout",
     "output_type": "stream",
     "text": [
      "Linked List : 2 4 \n",
      "\n"
     ]
    }
   ],
   "source": [
    "L1.Traversal()"
   ]
  },
  {
   "cell_type": "code",
   "execution_count": 25,
   "id": "83a73cbe-e9aa-42ee-a89d-c537745d9137",
   "metadata": {
    "panel-layout": {
     "height": 51.1375,
     "visible": true,
     "width": 100
    }
   },
   "outputs": [
    {
     "data": {
      "text/plain": [
       "'Not Found'"
      ]
     },
     "execution_count": 25,
     "metadata": {},
     "output_type": "execute_result"
    }
   ],
   "source": [
    "L1.Search(20)"
   ]
  },
  {
   "cell_type": "code",
   "execution_count": 26,
   "id": "2f3a914b-beef-48f3-8297-69234556a8dd",
   "metadata": {
    "panel-layout": {
     "height": 0,
     "visible": true,
     "width": 100
    }
   },
   "outputs": [
    {
     "name": "stdout",
     "output_type": "stream",
     "text": [
      "Length :  2\n"
     ]
    }
   ],
   "source": [
    "L1.Length()"
   ]
  },
  {
   "cell_type": "markdown",
   "id": "c506d615-0127-4f0e-bbee-ea4069a5de59",
   "metadata": {
    "panel-layout": {
     "height": 60.575,
     "visible": true,
     "width": 100
    }
   },
   "source": [
    "# Doubly linked list"
   ]
  },
  {
   "cell_type": "code",
   "execution_count": 28,
   "id": "aee08a11-6305-4c28-8bb2-2425ee57277e",
   "metadata": {},
   "outputs": [],
   "source": [
    "class Node:\n",
    "    def __init__(self,Data):\n",
    "        self.Pre = None\n",
    "        self.Data = Data\n",
    "        self.Next = None"
   ]
  },
  {
   "cell_type": "code",
   "execution_count": 68,
   "id": "5bc9b607-0f47-47ec-a923-7b8a796d8be1",
   "metadata": {},
   "outputs": [],
   "source": [
    "class DoublyLinkedList:\n",
    "    def __init__(self):\n",
    "        self.Head = None\n",
    "        self.Tail = None\n",
    "\n",
    "    def AddAtHead(self,Data):\n",
    "        NewNode = Node(Data)\n",
    "        if(self.Head == None):\n",
    "            self.Head = self.Tail = NewNode\n",
    "        else:\n",
    "            NewNode.Next = self.Head\n",
    "            self.Head.Pre = NewNode\n",
    "            self.Head = NewNode\n",
    "            # NewNode.Pre = self.Tail\n",
    "            # self.Tail.next = NewNode\n",
    "            # self.Tail = NewNode\n",
    "\n",
    "    def Traversal(self):\n",
    "        Temp = self.Head\n",
    "        print(\"Head - Tail : \",end=\"\")\n",
    "        while(Temp != None):\n",
    "            print(Temp.Data,end=\" \")\n",
    "            Temp = Temp.Next\n",
    "            \n",
    "        Temp = self.Tail\n",
    "        print(\"\\nTail - Head : \",end=\"\")\n",
    "        while(Temp != None):\n",
    "            print(Temp.Data,end=\" \")\n",
    "            Temp = Temp.Pre\n",
    "        print(\"\\n\")\n",
    "            \n",
    "        "
   ]
  },
  {
   "cell_type": "code",
   "execution_count": 70,
   "id": "bd20d7be-459c-4bcf-ba63-295700502b2e",
   "metadata": {},
   "outputs": [],
   "source": [
    "L1 = DoublyLinkedList()"
   ]
  },
  {
   "cell_type": "code",
   "execution_count": 72,
   "id": "13c90cad-49e4-4481-97b2-4ca6cc4ce513",
   "metadata": {},
   "outputs": [
    {
     "name": "stdout",
     "output_type": "stream",
     "text": [
      "Head - Tail : 20 1 10 4 2 \n",
      "Tail - Head : 2 4 10 1 20 \n",
      "\n"
     ]
    }
   ],
   "source": [
    "L1.AddAtHead(2)\n",
    "L1.AddAtHead(4)\n",
    "L1.AddAtHead(10)\n",
    "L1.AddAtHead(1)\n",
    "L1.AddAtHead(20)\n",
    "\n",
    "L1.Traversal()"
   ]
  },
  {
   "cell_type": "code",
   "execution_count": null,
   "id": "40b002df-a1b5-49b9-8d6d-6e0e35fdf09b",
   "metadata": {},
   "outputs": [],
   "source": []
  }
 ],
 "metadata": {
  "kernelspec": {
   "display_name": "Python 3 (ipykernel)",
   "language": "python",
   "name": "python3"
  },
  "language_info": {
   "codemirror_mode": {
    "name": "ipython",
    "version": 3
   },
   "file_extension": ".py",
   "mimetype": "text/x-python",
   "name": "python",
   "nbconvert_exporter": "python",
   "pygments_lexer": "ipython3",
   "version": "3.11.5"
  },
  "panel-cell-order": [
   "475dd9d1-9d53-4740-b370-b9de82bfe44c",
   "ddb8b595-2b3d-42ed-9048-c432d40763fe",
   "f9d1e6f9-8936-4f7f-bd4d-bec5c950505c",
   "c8eace5a-c090-4e54-8340-9f0f9b27665a",
   "4a79ffe9-045c-4b03-92af-4d17be43717a",
   "4a6e7d00-0627-4c65-9974-e06493669d38",
   "3df00ee6-c430-4399-bbb0-c2f910ca2953",
   "430877ea-efcd-407f-ba29-7603d4800dec",
   "e638fcdc-9d3e-40d0-a96b-8d0c1a5eab30",
   "9b240ccf-664e-48c9-8a67-3ed481d79b0f",
   "f9241ab3-bb43-44d1-92d3-e0231675f464",
   "79ddb0b5-d8b4-4c22-81e7-6f5d1f9b46f6",
   "a10f9edf-0a8e-4264-8d36-1de65551cc9e",
   "ff5ecfef-cb83-4dd5-b907-644d900e5659",
   "00894dbb-3d39-408f-9edd-e73b804a0904",
   "02e23196-1f59-49cb-8c33-d0241c60c1b7",
   "8f8376ae-2ff6-4a37-a898-a9f5e40277cd",
   "a5a53af5-0c4e-4bd2-8433-589ad4ef6249",
   "95ef258b-2aa8-4ef2-b109-2181f5826c4c",
   "83a73cbe-e9aa-42ee-a89d-c537745d9137",
   "2f3a914b-beef-48f3-8297-69234556a8dd",
   "c506d615-0127-4f0e-bbee-ea4069a5de59"
  ]
 },
 "nbformat": 4,
 "nbformat_minor": 5
}
