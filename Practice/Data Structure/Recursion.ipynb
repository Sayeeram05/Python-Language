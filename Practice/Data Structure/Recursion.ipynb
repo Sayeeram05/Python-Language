{
 "cells": [
  {
   "cell_type": "code",
   "execution_count": 4,
   "id": "9fd07778-14a8-4f41-8056-4a4e0d849cd1",
   "metadata": {},
   "outputs": [],
   "source": [
    "def sumupto(num):\n",
    "    if(num > 1):\n",
    "        return num + sumupto(num-1)\n",
    "    else:\n",
    "        return 1"
   ]
  },
  {
   "cell_type": "code",
   "execution_count": 5,
   "id": "bb1f57d1-d46f-4200-82b7-b8bfc98ab012",
   "metadata": {},
   "outputs": [
    {
     "data": {
      "text/plain": [
       "6"
      ]
     },
     "execution_count": 5,
     "metadata": {},
     "output_type": "execute_result"
    }
   ],
   "source": [
    "sumupto(3)"
   ]
  },
  {
   "cell_type": "code",
   "execution_count": 6,
   "id": "eaadacb9-affc-444f-a53e-e1f0b3dec068",
   "metadata": {},
   "outputs": [],
   "source": [
    "def Factorial(num):\n",
    "    if(num == 0):\n",
    "        return 1\n",
    "    elif(num > 1):\n",
    "        return num * Factorial(num-1)\n",
    "    else:\n",
    "        return 1"
   ]
  },
  {
   "cell_type": "code",
   "execution_count": 7,
   "id": "8f9f96da-61a9-4604-b584-75e3fb30be66",
   "metadata": {},
   "outputs": [
    {
     "data": {
      "text/plain": [
       "24"
      ]
     },
     "execution_count": 7,
     "metadata": {},
     "output_type": "execute_result"
    }
   ],
   "source": [
    "Factorial(4)"
   ]
  },
  {
   "cell_type": "code",
   "execution_count": 8,
   "id": "d363496f-799d-44b6-8151-2202ecc4395a",
   "metadata": {},
   "outputs": [
    {
     "data": {
      "text/plain": [
       "1"
      ]
     },
     "execution_count": 8,
     "metadata": {},
     "output_type": "execute_result"
    }
   ],
   "source": [
    "Factorial(0)"
   ]
  },
  {
   "cell_type": "code",
   "execution_count": 9,
   "id": "08552721-b834-4fda-8498-55999c7be048",
   "metadata": {},
   "outputs": [],
   "source": [
    "def Power(num,Pow):\n",
    "    if(Pow == 1):\n",
    "        return num\n",
    "    elif(Pow > 1):\n",
    "        return num * Power(num,Pow - 1)"
   ]
  },
  {
   "cell_type": "code",
   "execution_count": 10,
   "id": "ff62213b",
   "metadata": {},
   "outputs": [
    {
     "data": {
      "text/plain": [
       "9"
      ]
     },
     "execution_count": 10,
     "metadata": {},
     "output_type": "execute_result"
    }
   ],
   "source": [
    "Power(3,2)"
   ]
  },
  {
   "cell_type": "code",
   "execution_count": 12,
   "id": "0dbc35b3",
   "metadata": {},
   "outputs": [],
   "source": [
    "def fibonacci(n):\n",
    "    if n == 0:\n",
    "        return 0\n",
    "    if n == 1:\n",
    "        return 1\n",
    "    return fibonacci(n - 1) + fibonacci(n - 2)"
   ]
  },
  {
   "cell_type": "code",
   "execution_count": 13,
   "id": "ed8021d2",
   "metadata": {},
   "outputs": [
    {
     "data": {
      "text/plain": [
       "5"
      ]
     },
     "execution_count": 13,
     "metadata": {},
     "output_type": "execute_result"
    }
   ],
   "source": [
    "fibonacci(5)"
   ]
  },
  {
   "cell_type": "code",
   "execution_count": 47,
   "id": "532eb721",
   "metadata": {},
   "outputs": [],
   "source": [
    "def Palindrome(word):\n",
    "    L = len(word)\n",
    "    if(L <= 1 ):\n",
    "        return True\n",
    "    elif(word[0] == word[-1]):\n",
    "        return Palindrome(word[1:L-1])\n",
    "    else:\n",
    "        return False"
   ]
  },
  {
   "cell_type": "code",
   "execution_count": 49,
   "id": "e7f499d0",
   "metadata": {},
   "outputs": [
    {
     "data": {
      "text/plain": [
       "True"
      ]
     },
     "execution_count": 49,
     "metadata": {},
     "output_type": "execute_result"
    }
   ],
   "source": [
    "Palindrome(\"abba\")"
   ]
  },
  {
   "cell_type": "code",
   "execution_count": 50,
   "id": "30389deb",
   "metadata": {},
   "outputs": [
    {
     "data": {
      "text/plain": [
       "True"
      ]
     },
     "execution_count": 50,
     "metadata": {},
     "output_type": "execute_result"
    }
   ],
   "source": [
    "Palindrome(\"malayalam\")"
   ]
  },
  {
   "cell_type": "code",
   "execution_count": 71,
   "id": "6b66f202",
   "metadata": {},
   "outputs": [],
   "source": [
    "def Reverse(word):\n",
    "    if(len(word) == 1):\n",
    "        return word[-1]\n",
    "    else:\n",
    "        return word[-1]+Reverse(word[0:-1])"
   ]
  },
  {
   "cell_type": "code",
   "execution_count": 73,
   "id": "ee34f279",
   "metadata": {},
   "outputs": [
    {
     "data": {
      "text/plain": [
       "'fedcba'"
      ]
     },
     "execution_count": 73,
     "metadata": {},
     "output_type": "execute_result"
    }
   ],
   "source": [
    "Reverse(\"abcdef\")"
   ]
  },
  {
   "cell_type": "code",
   "execution_count": null,
   "id": "1216a6b2",
   "metadata": {},
   "outputs": [],
   "source": [
    "def GCD(num1,num2):\n",
    "    "
   ]
  }
 ],
 "metadata": {
  "kernelspec": {
   "display_name": "base",
   "language": "python",
   "name": "python3"
  },
  "language_info": {
   "codemirror_mode": {
    "name": "ipython",
    "version": 3
   },
   "file_extension": ".py",
   "mimetype": "text/x-python",
   "name": "python",
   "nbconvert_exporter": "python",
   "pygments_lexer": "ipython3",
   "version": "3.11.5"
  }
 },
 "nbformat": 4,
 "nbformat_minor": 5
}
