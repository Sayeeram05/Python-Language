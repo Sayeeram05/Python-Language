{
 "cells": [
  {
   "cell_type": "markdown",
   "id": "7c6e6d58-529b-463d-8601-f8695be50238",
   "metadata": {},
   "source": [
    "## Stack\n",
    "- FILO(First In Last Out)\n",
    "- LIFO(LAst In First Out)"
   ]
  },
  {
   "cell_type": "markdown",
   "id": "26c3f7ec-6f29-4d75-af96-fd5ca2feadf2",
   "metadata": {},
   "source": [
    "### Functions\n",
    "- Push => \"ADD Data\"\n",
    "- Pop => \"Remove Data\"\n",
    "- peek or top => \"Top Element\"\n",
    "- isEmpty => \"Check Empty\""
   ]
  },
  {
   "cell_type": "markdown",
   "id": "b9fda7a4-e23b-4a9c-95b8-a590bf6dce67",
   "metadata": {},
   "source": [
    "## Stack Using List"
   ]
  },
  {
   "cell_type": "code",
   "execution_count": 44,
   "id": "cc3955a3-38b4-46bb-b7fb-52a9fcdd9000",
   "metadata": {},
   "outputs": [],
   "source": [
    "Stack = []\n",
    "def Push(Value):\n",
    "    Stack.append(Value)\n",
    "def Pop():\n",
    "    if(isEmpty() == False):  # not Stack\n",
    "        Stack.pop()\n",
    "    else:\n",
    "        print(\"pop from empty list\")\n",
    "def Top():\n",
    "    return Stack[-1]\n",
    "def isEmpty():\n",
    "    if(len(Stack) == 0):\n",
    "        return True\n",
    "    else:\n",
    "        return False"
   ]
  },
  {
   "cell_type": "code",
   "execution_count": 46,
   "id": "15e9b0bc-37ab-4acc-ad91-cd02ba43a609",
   "metadata": {},
   "outputs": [
    {
     "name": "stdout",
     "output_type": "stream",
     "text": [
      "[5]\n"
     ]
    }
   ],
   "source": [
    "Push(5)\n",
    "print(Stack)"
   ]
  },
  {
   "cell_type": "code",
   "execution_count": 48,
   "id": "be5e21f6-46e8-434c-8fd7-6b7b151846c4",
   "metadata": {},
   "outputs": [
    {
     "name": "stdout",
     "output_type": "stream",
     "text": [
      "[5, 10]\n"
     ]
    }
   ],
   "source": [
    "Push(10)\n",
    "print(Stack)"
   ]
  },
  {
   "cell_type": "code",
   "execution_count": 50,
   "id": "83a5393c-feef-49a6-921c-fccb7dedf87a",
   "metadata": {},
   "outputs": [
    {
     "name": "stdout",
     "output_type": "stream",
     "text": [
      "[5]\n"
     ]
    }
   ],
   "source": [
    "Pop()\n",
    "print(Stack)"
   ]
  },
  {
   "cell_type": "code",
   "execution_count": 54,
   "id": "fe047eec-0248-4773-9906-ad6cb0cad5dd",
   "metadata": {},
   "outputs": [
    {
     "name": "stdout",
     "output_type": "stream",
     "text": [
      "pop from empty list\n",
      "[]\n"
     ]
    }
   ],
   "source": [
    "Pop()\n",
    "print(Stack)"
   ]
  },
  {
   "cell_type": "code",
   "execution_count": null,
   "id": "216814b5-73a5-41d7-b9c0-12e56f6e2d25",
   "metadata": {},
   "outputs": [],
   "source": []
  }
 ],
 "metadata": {
  "kernelspec": {
   "display_name": "Python 3 (ipykernel)",
   "language": "python",
   "name": "python3"
  },
  "language_info": {
   "codemirror_mode": {
    "name": "ipython",
    "version": 3
   },
   "file_extension": ".py",
   "mimetype": "text/x-python",
   "name": "python",
   "nbconvert_exporter": "python",
   "pygments_lexer": "ipython3",
   "version": "3.11.5"
  }
 },
 "nbformat": 4,
 "nbformat_minor": 5
}
