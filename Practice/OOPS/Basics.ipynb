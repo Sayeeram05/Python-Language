{
 "cells": [
  {
   "cell_type": "code",
   "execution_count": 70,
   "id": "db0c882d-3044-4b26-a208-93ed44c43dda",
   "metadata": {},
   "outputs": [],
   "source": [
    "class Item:\n",
    "    def __init__(self,name: str,price: int,quantity = 1): \n",
    "        self.name = name\n",
    "        self.price = int(price)\n",
    "        self.quantity = int(quantity)\n",
    "\n",
    "    def Calculate(self):\n",
    "        print(\"Total Price : \",self.price * self.quantity)"
   ]
  },
  {
   "cell_type": "code",
   "execution_count": 72,
   "id": "86d75fc1-477a-46ec-b125-35e96ef574e5",
   "metadata": {},
   "outputs": [
    {
     "name": "stdout",
     "output_type": "stream",
     "text": [
      "Total Price :  1500\n"
     ]
    }
   ],
   "source": [
    "I1 = Item(\"Phone\",500,3)\n",
    "I1.Calculate()"
   ]
  },
  {
   "cell_type": "code",
   "execution_count": 74,
   "id": "27064d1c-0eae-414a-8b17-8f3042982617",
   "metadata": {},
   "outputs": [
    {
     "name": "stdout",
     "output_type": "stream",
     "text": [
      "Total Price :  500\n"
     ]
    }
   ],
   "source": [
    "I2 = Item(\"Phone\",500)\n",
    "I2.Calculate()"
   ]
  },
  {
   "cell_type": "code",
   "execution_count": 76,
   "id": "b042062a-d537-4107-9027-7559558c8c26",
   "metadata": {},
   "outputs": [
    {
     "name": "stdout",
     "output_type": "stream",
     "text": [
      "Total Price :  1000\n",
      "500 <class 'int'>\n"
     ]
    }
   ],
   "source": [
    "I2 = Item(\"Phone\",\"500\",2)\n",
    "I2.Calculate()\n",
    "print(I2.price,type(I2.price))"
   ]
  },
  {
   "cell_type": "code",
   "execution_count": 60,
   "id": "3cce7ba5-9e4f-4473-a31b-93ca81c04b03",
   "metadata": {},
   "outputs": [
    {
     "name": "stdout",
     "output_type": "stream",
     "text": [
      "Total Price :  150\n",
      "124 <class 'int'>\n"
     ]
    }
   ],
   "source": [
    "I2 = Item(124,50,3)\n",
    "I2.Calculate()\n",
    "print(I2.name,type(I2.name))"
   ]
  },
  {
   "cell_type": "markdown",
   "id": "7b4e0655-248e-41c4-ab88-29b8403f8b4d",
   "metadata": {},
   "source": [
    "# Assert"
   ]
  },
  {
   "cell_type": "code",
   "execution_count": 125,
   "id": "975f5a0c-dd49-44b6-b094-feb79b91729f",
   "metadata": {},
   "outputs": [],
   "source": [
    "class Item:\n",
    "    def __init__(self,name: str,price: int,quantity = 1): \n",
    "        # Runs validation before assigning\n",
    "        try : \n",
    "            assert price >= 1, f\"Error : price >= 1\"\n",
    "\n",
    "            # assign\n",
    "            self.name = name\n",
    "            self.price = int(price)\n",
    "            self.quantity = int(quantity)\n",
    "            \n",
    "            \n",
    "        except AssertionError as e:\n",
    "            print(e)\n",
    "        \n",
    "    def Calculate(self):\n",
    "        print(\"Total Price : \",self.price * self.quantity)"
   ]
  },
  {
   "cell_type": "code",
   "execution_count": 133,
   "id": "7e551989-d885-4872-8c8c-9aea7328f40d",
   "metadata": {},
   "outputs": [
    {
     "name": "stdout",
     "output_type": "stream",
     "text": [
      "Error : price >= 1\n"
     ]
    }
   ],
   "source": [
    "I2 = Item(\"Phone\",0,2)\n",
    "# I3.Calculate() -> cause error because code will stop after try, so calcualte function is not created"
   ]
  },
  {
   "cell_type": "code",
   "execution_count": 135,
   "id": "37e28b11-5512-46cf-9d0f-5c9108bb590f",
   "metadata": {},
   "outputs": [
    {
     "name": "stdout",
     "output_type": "stream",
     "text": [
      "Total Price :  20\n"
     ]
    }
   ],
   "source": [
    "I3 = Item(\"Phone\",10,2)\n",
    "I3.Calculate()"
   ]
  },
  {
   "cell_type": "markdown",
   "id": "a650f626-2d1a-4c83-9fff-c545d2ab5a3a",
   "metadata": {},
   "source": [
    "# class Attribute"
   ]
  },
  {
   "cell_type": "code",
   "execution_count": 145,
   "id": "95569920-946f-4776-afe0-a40f897152d8",
   "metadata": {},
   "outputs": [],
   "source": [
    "class Item:\n",
    "    ClassVariable = 5\n",
    "\n",
    "    def __init__(self,name):\n",
    "        self.name = name\n",
    "    def Show(self):\n",
    "        print(f\"Class : {self.ClassVariable} Instance : {self.name}\")"
   ]
  },
  {
   "cell_type": "code",
   "execution_count": 149,
   "id": "8086c870-405a-4375-b8c8-da48a683846e",
   "metadata": {},
   "outputs": [
    {
     "name": "stdout",
     "output_type": "stream",
     "text": [
      "Class : 5 Instance : A2D\n"
     ]
    }
   ],
   "source": [
    "I1 = Item(\"A2D\")\n",
    "I1.Show()"
   ]
  },
  {
   "cell_type": "code",
   "execution_count": 151,
   "id": "508db0cd-7059-42fa-b432-4f7633d564f2",
   "metadata": {},
   "outputs": [],
   "source": [
    "I1.ClassVariable = 10"
   ]
  },
  {
   "cell_type": "code",
   "execution_count": 155,
   "id": "24ac3ff6-0403-46ab-9d4a-bbb337309e6b",
   "metadata": {},
   "outputs": [
    {
     "name": "stdout",
     "output_type": "stream",
     "text": [
      "Class : 10 Instance : A2D\n"
     ]
    }
   ],
   "source": [
    "I1.Show()"
   ]
  },
  {
   "cell_type": "code",
   "execution_count": 157,
   "id": "ed17cb39-99eb-42b6-94d0-2f2bcacb2fbc",
   "metadata": {},
   "outputs": [
    {
     "data": {
      "text/plain": [
       "5"
      ]
     },
     "execution_count": 157,
     "metadata": {},
     "output_type": "execute_result"
    }
   ],
   "source": [
    "I1.__class__.ClassVariable"
   ]
  },
  {
   "cell_type": "code",
   "execution_count": 161,
   "id": "7925fe83-42e4-4bad-9e13-c1c1bd542cec",
   "metadata": {},
   "outputs": [
    {
     "data": {
      "text/plain": [
       "5"
      ]
     },
     "execution_count": 161,
     "metadata": {},
     "output_type": "execute_result"
    }
   ],
   "source": [
    "Item.ClassVariable"
   ]
  },
  {
   "cell_type": "code",
   "execution_count": 167,
   "id": "e509353e-391d-4bf9-ab88-c87bfe0a8ad3",
   "metadata": {},
   "outputs": [
    {
     "name": "stdout",
     "output_type": "stream",
     "text": [
      "Class : 10 Instance : A2D\n"
     ]
    }
   ],
   "source": [
    "Item.Show(I1)"
   ]
  },
  {
   "cell_type": "code",
   "execution_count": 173,
   "id": "f157d763-faa8-4f77-99ee-fa2f8cbc2f3a",
   "metadata": {},
   "outputs": [
    {
     "name": "stdout",
     "output_type": "stream",
     "text": [
      "Class : 5 Instance : Phone\n"
     ]
    }
   ],
   "source": [
    "I2 = Item(\"Phone\")\n",
    "I2.Show()"
   ]
  },
  {
   "cell_type": "markdown",
   "id": "83024591-844d-4da8-918d-80e9931b46a5",
   "metadata": {},
   "source": [
    "# __dict__ -> Show all the attributes"
   ]
  },
  {
   "cell_type": "code",
   "execution_count": 176,
   "id": "d61280d1-5e6c-4a68-a23d-9e830b1544c2",
   "metadata": {},
   "outputs": [
    {
     "data": {
      "text/plain": [
       "mappingproxy({'__module__': '__main__',\n",
       "              'ClassVariable': 5,\n",
       "              '__init__': <function __main__.Item.__init__(self, name)>,\n",
       "              'Show': <function __main__.Item.Show(self)>,\n",
       "              '__dict__': <attribute '__dict__' of 'Item' objects>,\n",
       "              '__weakref__': <attribute '__weakref__' of 'Item' objects>,\n",
       "              '__doc__': None,\n",
       "              '__annotations__': {}})"
      ]
     },
     "execution_count": 176,
     "metadata": {},
     "output_type": "execute_result"
    }
   ],
   "source": [
    "Item.__dict__"
   ]
  },
  {
   "cell_type": "code",
   "execution_count": 178,
   "id": "801519c1-53a8-426c-8ea0-a3f4f64268a8",
   "metadata": {},
   "outputs": [
    {
     "data": {
      "text/plain": [
       "{'name': 'A2D', 'ClassVariable': 10}"
      ]
     },
     "execution_count": 178,
     "metadata": {},
     "output_type": "execute_result"
    }
   ],
   "source": [
    "I1.__dict__"
   ]
  },
  {
   "cell_type": "code",
   "execution_count": 180,
   "id": "e9c8bf62-ae60-4f28-b993-c77ee329e96a",
   "metadata": {},
   "outputs": [
    {
     "data": {
      "text/plain": [
       "{'name': 'Phone'}"
      ]
     },
     "execution_count": 180,
     "metadata": {},
     "output_type": "execute_result"
    }
   ],
   "source": [
    "I2.__dict__"
   ]
  },
  {
   "cell_type": "markdown",
   "id": "0d2ecc38-f2f1-4762-a1ec-1c48541993b1",
   "metadata": {},
   "source": [
    "# List of all Objects"
   ]
  },
  {
   "cell_type": "code",
   "execution_count": 206,
   "id": "07705f6d-69af-4b61-9994-a7f15675f6e8",
   "metadata": {},
   "outputs": [],
   "source": [
    "class Item:\n",
    "    AllObject = []\n",
    "    \n",
    "    def __init__(self,name: str,price: int,quantity = 1): \n",
    "        \n",
    "        self.name = name\n",
    "        self.price = int(price)\n",
    "        self.quantity = int(quantity)\n",
    "\n",
    "        Item.AllObject.append(self)\n",
    "    def __repr__(self):\n",
    "        return f\"Item({self.name},{self.price},{self.quantity})\"\n",
    "    "
   ]
  },
  {
   "cell_type": "code",
   "execution_count": 208,
   "id": "0583ad1d-b362-41ce-9abb-697a310aa83c",
   "metadata": {},
   "outputs": [],
   "source": [
    "I1 = Item(\"Phone\",500,3)\n",
    "I2 = Item(\"Lap\",50,3)\n",
    "I3 = Item(\"Watch\",5)\n"
   ]
  },
  {
   "cell_type": "code",
   "execution_count": 210,
   "id": "c11ec9e9-fcf9-4d6a-a0bd-8c128a54bd6c",
   "metadata": {},
   "outputs": [
    {
     "name": "stdout",
     "output_type": "stream",
     "text": [
      "[Item(Phone,500,3), Item(Lap,50,3), Item(Watch,5,1)]\n"
     ]
    }
   ],
   "source": [
    "print(Item.AllObject)"
   ]
  },
  {
   "cell_type": "code",
   "execution_count": 212,
   "id": "d2d573e5-8639-45cb-8aa4-111190faf6f6",
   "metadata": {},
   "outputs": [
    {
     "name": "stdout",
     "output_type": "stream",
     "text": [
      "Item(Phone,500,3)\n",
      "Item(Lap,50,3)\n",
      "Item(Watch,5,1)\n"
     ]
    }
   ],
   "source": [
    "for Item in Item.AllObject:\n",
    "    print(Item)"
   ]
  },
  {
   "cell_type": "code",
   "execution_count": 214,
   "id": "f23636be-d706-4b58-a47b-4868e5fc59b3",
   "metadata": {},
   "outputs": [
    {
     "name": "stdout",
     "output_type": "stream",
     "text": [
      "Phone\n",
      "Lap\n",
      "Watch\n"
     ]
    }
   ],
   "source": [
    "for Item in Item.AllObject:\n",
    "    print(Item.name)"
   ]
  },
  {
   "cell_type": "code",
   "execution_count": null,
   "id": "29363455-7551-488b-9ead-d1eb4fcbf465",
   "metadata": {},
   "outputs": [],
   "source": []
  }
 ],
 "metadata": {
  "kernelspec": {
   "display_name": "Python 3 (ipykernel)",
   "language": "python",
   "name": "python3"
  },
  "language_info": {
   "codemirror_mode": {
    "name": "ipython",
    "version": 3
   },
   "file_extension": ".py",
   "mimetype": "text/x-python",
   "name": "python",
   "nbconvert_exporter": "python",
   "pygments_lexer": "ipython3",
   "version": "3.11.5"
  }
 },
 "nbformat": 4,
 "nbformat_minor": 5
}
