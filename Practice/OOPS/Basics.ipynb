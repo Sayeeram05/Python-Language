{
 "cells": [
  {
   "cell_type": "code",
   "execution_count": 5,
   "metadata": {},
   "outputs": [],
   "source": [
    "class Item:\n",
    "    PayRate = 0.8\n",
    "\n",
    "    def __init__(self,Name:str,Price:float,Qty=1):\n",
    "        # Validation\n",
    "        assert Price > 0 , \"Invalid Price\"\n",
    "        assert Qty > 0, \"Invalid Qty\"\n",
    "\n",
    "        # Asign To Self\n",
    "        self.Name = Name\n",
    "        self.Price = Price\n",
    "        self.Qty = Qty\n",
    "\n",
    "    def Display(self):\n",
    "        print(self.Name)\n",
    "        print(self.Price)\n",
    "        print(self.Qty)\n",
    "        print(self.PayRate)\n",
    "        print(Item.PayRate)\n",
    "    \n",
    "    def ShowSelf(self):\n",
    "        print(self)\n",
    "        "
   ]
  },
  {
   "cell_type": "code",
   "execution_count": 6,
   "metadata": {},
   "outputs": [
    {
     "name": "stdout",
     "output_type": "stream",
     "text": [
      "A\n",
      "50\n",
      "2\n",
      "0.8\n",
      "0.8\n"
     ]
    }
   ],
   "source": [
    "Item(\"A\",50,2).Display()"
   ]
  },
  {
   "cell_type": "code",
   "execution_count": 7,
   "metadata": {},
   "outputs": [
    {
     "name": "stdout",
     "output_type": "stream",
     "text": [
      "A\n",
      "50\n",
      "2\n",
      "0.5\n",
      "0.8\n"
     ]
    }
   ],
   "source": [
    "I1 = Item(\"A\",50,2)\n",
    "I1.PayRate = 0.5\n",
    "I1.Display()"
   ]
  },
  {
   "cell_type": "markdown",
   "metadata": {},
   "source": [
    "\"Obj.\\_\\_dict\\_\\_\" - Returns the Atributes of the object\n"
   ]
  },
  {
   "cell_type": "code",
   "execution_count": 8,
   "metadata": {},
   "outputs": [
    {
     "data": {
      "text/plain": [
       "{'Name': 'A', 'Price': 50, 'Qty': 2, 'PayRate': 0.5}"
      ]
     },
     "execution_count": 8,
     "metadata": {},
     "output_type": "execute_result"
    }
   ],
   "source": [
    "I1.__dict__"
   ]
  },
  {
   "cell_type": "code",
   "execution_count": 9,
   "metadata": {},
   "outputs": [
    {
     "data": {
      "text/plain": [
       "mappingproxy({'__module__': '__main__',\n",
       "              'PayRate': 0.8,\n",
       "              '__init__': <function __main__.Item.__init__(self, Name: str, Price: float, Qty=1)>,\n",
       "              'Display': <function __main__.Item.Display(self)>,\n",
       "              'ShowSelf': <function __main__.Item.ShowSelf(self)>,\n",
       "              '__dict__': <attribute '__dict__' of 'Item' objects>,\n",
       "              '__weakref__': <attribute '__weakref__' of 'Item' objects>,\n",
       "              '__doc__': None})"
      ]
     },
     "execution_count": 9,
     "metadata": {},
     "output_type": "execute_result"
    }
   ],
   "source": [
    "Item.__dict__"
   ]
  },
  {
   "cell_type": "markdown",
   "metadata": {},
   "source": [
    "Before \\_\\_repr\\_\\_"
   ]
  },
  {
   "cell_type": "code",
   "execution_count": 10,
   "metadata": {},
   "outputs": [
    {
     "name": "stdout",
     "output_type": "stream",
     "text": [
      "<__main__.Item object at 0x0000024B3668ACC0>\n"
     ]
    }
   ],
   "source": [
    "Item(\"A\",50,2).ShowSelf()"
   ]
  },
  {
   "cell_type": "code",
   "execution_count": 11,
   "metadata": {},
   "outputs": [
    {
     "name": "stdout",
     "output_type": "stream",
     "text": [
      "<__main__.Item object at 0x0000024B36653860>\n"
     ]
    }
   ],
   "source": [
    "I1.ShowSelf()"
   ]
  },
  {
   "cell_type": "markdown",
   "metadata": {},
   "source": [
    "After \\_\\_repr\\_\\_"
   ]
  },
  {
   "cell_type": "code",
   "execution_count": 12,
   "metadata": {},
   "outputs": [],
   "source": [
    "class Item:\n",
    "    PayRate = 0.8\n",
    "\n",
    "    def __init__(self,Name:str,Price:float,Qty=1):\n",
    "        # Validation\n",
    "        assert Price > 0 , \"Invalid Price\"\n",
    "        assert Qty > 0, \"Invalid Qty\"\n",
    "\n",
    "        # Asign To Self\n",
    "        self.Name = Name\n",
    "        self.Price = Price\n",
    "        self.Qty = Qty\n",
    "\n",
    "    \n",
    "    def ShowSelf(self):\n",
    "        print(self)\n",
    "    \n",
    "    def __repr__(self):\n",
    "        return f\"Item('{self.Name}',{self.Price},{self.Qty})\""
   ]
  },
  {
   "cell_type": "code",
   "execution_count": 13,
   "metadata": {},
   "outputs": [
    {
     "name": "stdout",
     "output_type": "stream",
     "text": [
      "Item('A',50,2)\n"
     ]
    }
   ],
   "source": [
    "Item(\"A\",50,2).ShowSelf()"
   ]
  },
  {
   "cell_type": "code",
   "execution_count": 14,
   "metadata": {},
   "outputs": [
    {
     "name": "stdout",
     "output_type": "stream",
     "text": [
      "Item('B',10,2.5)\n"
     ]
    }
   ],
   "source": [
    "I1 = Item(\"B\",10,2.5)\n",
    "I1.ShowSelf()"
   ]
  },
  {
   "cell_type": "markdown",
   "metadata": {},
   "source": [
    "Read Csv File"
   ]
  },
  {
   "cell_type": "code",
   "execution_count": 15,
   "metadata": {},
   "outputs": [
    {
     "name": "stdout",
     "output_type": "stream",
     "text": [
      "<csv.DictReader object at 0x0000024B366953D0>\n",
      "[{'Name': 'Laptop', 'price': '150000', 'Qty': '1'}, {'Name': 'Phone', 'price': '10000', 'Qty': '2'}]\n"
     ]
    }
   ],
   "source": [
    "import csv\n",
    "\n",
    "with open(\"Data.csv\",\"r\") as f:\n",
    "    reader = csv.DictReader(f)\n",
    "    print(reader)\n",
    "    items = list(reader)\n",
    "    print(items)"
   ]
  },
  {
   "cell_type": "code",
   "execution_count": 16,
   "metadata": {},
   "outputs": [
    {
     "name": "stdout",
     "output_type": "stream",
     "text": [
      "{'Name': 'Laptop', 'price': '150000', 'Qty': '1'}\n",
      "{'Name': 'Phone', 'price': '10000', 'Qty': '2'}\n"
     ]
    }
   ],
   "source": [
    "for item in items:\n",
    "    print(item)"
   ]
  },
  {
   "cell_type": "code",
   "execution_count": 18,
   "metadata": {},
   "outputs": [
    {
     "name": "stdout",
     "output_type": "stream",
     "text": [
      "Item('Laptop',150000.0,1)\n",
      "Item('Phone',10000.0,2)\n"
     ]
    }
   ],
   "source": [
    "for item in items:\n",
    "    Item(item[\"Name\"],float(item[\"price\"]),int(item[\"Qty\"])).ShowSelf()"
   ]
  },
  {
   "cell_type": "code",
   "execution_count": null,
   "metadata": {},
   "outputs": [],
   "source": []
  }
 ],
 "metadata": {
  "kernelspec": {
   "display_name": "Python 3",
   "language": "python",
   "name": "python3"
  },
  "language_info": {
   "codemirror_mode": {
    "name": "ipython",
    "version": 3
   },
   "file_extension": ".py",
   "mimetype": "text/x-python",
   "name": "python",
   "nbconvert_exporter": "python",
   "pygments_lexer": "ipython3",
   "version": "3.12.0"
  }
 },
 "nbformat": 4,
 "nbformat_minor": 2
}
