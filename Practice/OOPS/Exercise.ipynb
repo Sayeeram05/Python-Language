{
 "cells": [
  {
   "cell_type": "markdown",
   "id": "3cd95f64-c44c-494c-935a-02430356ed6d",
   "metadata": {},
   "source": [
    "# Beginner Level"
   ]
  },
  {
   "cell_type": "markdown",
   "id": "78e19c08-b983-4edb-b9dd-daf8e32f9744",
   "metadata": {},
   "source": [
    "**1. Write a Python class Person with two attributes: name and age. Define a method to display the person's details, and create an object of this class.**"
   ]
  },
  {
   "cell_type": "code",
   "execution_count": 4,
   "id": "2a31d9a2-32a4-4433-a6f5-8901db22af94",
   "metadata": {},
   "outputs": [],
   "source": [
    "class person:\n",
    "    def __init__(self, name:str, age:int):\n",
    "        self.__name = name\n",
    "        self.__age = age\n",
    "\n",
    "    @property\n",
    "    def name(self):\n",
    "        return self.__name\n",
    "    @property\n",
    "    def age(self):\n",
    "        return self.__age\n",
    "\n",
    "    @name.setter\n",
    "    def name(self,NewName):\n",
    "        self.__name = NewName\n",
    "    @age.setter\n",
    "    def age(self,NewAge):\n",
    "        self.__age = NewAge\n",
    "\n",
    "    def Dispaly(self):\n",
    "        print(f\"Name : {self.__name} Age : {self.__age}\")"
   ]
  },
  {
   "cell_type": "code",
   "execution_count": 5,
   "id": "dd05447d-337b-4c77-885d-5bae8253caa0",
   "metadata": {},
   "outputs": [],
   "source": [
    "P1 = person(\"Sai\",20)"
   ]
  },
  {
   "cell_type": "code",
   "execution_count": 6,
   "id": "d24bea7e-1233-4597-abb0-3aae9c5ce2af",
   "metadata": {},
   "outputs": [
    {
     "name": "stdout",
     "output_type": "stream",
     "text": [
      "Name : Sai Age : 20\n"
     ]
    }
   ],
   "source": [
    "P1.Dispaly()"
   ]
  },
  {
   "cell_type": "code",
   "execution_count": 7,
   "id": "1ddda082-8663-46f4-8152-eb6eebab8347",
   "metadata": {},
   "outputs": [],
   "source": [
    "P1.name = \"SaiRam\""
   ]
  },
  {
   "cell_type": "code",
   "execution_count": 8,
   "id": "3ba22609-f866-4b65-ade2-fd1e8bec37a8",
   "metadata": {},
   "outputs": [
    {
     "name": "stdout",
     "output_type": "stream",
     "text": [
      "Name : SaiRam Age : 20\n"
     ]
    }
   ],
   "source": [
    "P1.Dispaly()"
   ]
  },
  {
   "cell_type": "markdown",
   "id": "17b589ea-edb5-476e-b249-3c7a6610f7e0",
   "metadata": {},
   "source": [
    "**2. Create a class Student with private attributes __name and __grade. Use getter and setter methods to access and update the values.**"
   ]
  },
  {
   "cell_type": "code",
   "execution_count": 32,
   "id": "cf312829-bbe2-4ca8-a21e-4798fe34063e",
   "metadata": {},
   "outputs": [],
   "source": [
    "class Student:\n",
    "    def __init__(self,name:str, grade:str):\n",
    "        self._name = name\n",
    "        self._grade = grade\n",
    "\n",
    "    @property\n",
    "    def name(self):\n",
    "        return self._name\n",
    "    @property\n",
    "    def grade(self):\n",
    "        return self._grage\n",
    "\n",
    "    @name.setter\n",
    "    def name(self,NewName):\n",
    "        self._name = NewName\n",
    "    @grade.setter\n",
    "    def grade(self,Newgrade):\n",
    "        self._grade = Newgrade\n",
    "    \n",
    "    def Display(self):\n",
    "        print(f\"Name : {self._name} Grade : {self._grade}\")\n"
   ]
  },
  {
   "cell_type": "code",
   "execution_count": 34,
   "id": "f62c986d-6ab6-41b0-a9d6-57669da608ee",
   "metadata": {},
   "outputs": [],
   "source": [
    "S1 = Student(\"Sai\",\"A\")"
   ]
  },
  {
   "cell_type": "code",
   "execution_count": 36,
   "id": "7041811f-93dc-42f0-8a6e-1754a2ae7b26",
   "metadata": {},
   "outputs": [
    {
     "name": "stdout",
     "output_type": "stream",
     "text": [
      "Sai\n"
     ]
    }
   ],
   "source": [
    "print(S1._name)"
   ]
  },
  {
   "cell_type": "code",
   "execution_count": 38,
   "id": "0376baf9-ce36-4575-aaf1-ce44e5d40e6a",
   "metadata": {},
   "outputs": [],
   "source": [
    "S1.name = \"Sairam\""
   ]
  },
  {
   "cell_type": "code",
   "execution_count": 40,
   "id": "894e047a-e5dd-499c-83c7-2854578fc79a",
   "metadata": {},
   "outputs": [
    {
     "name": "stdout",
     "output_type": "stream",
     "text": [
      "Name : Sairam Grade : A\n"
     ]
    }
   ],
   "source": [
    "S1.Display()"
   ]
  },
  {
   "cell_type": "markdown",
   "id": "8929bcd3-f294-4aa5-b249-e8e973a103f4",
   "metadata": {},
   "source": [
    "**3. Define a class Dog with a class attribute species = 'Canine'. Also, include an instance attribute for name and age. Print both class and instance attributes.**"
   ]
  },
  {
   "cell_type": "code",
   "execution_count": 113,
   "id": "9702fdae-f10b-4f43-aa72-13ac946604e8",
   "metadata": {},
   "outputs": [],
   "source": [
    "class Dog:\n",
    "    species = 'Canine'\n",
    "    \n",
    "    def __init__(self,name,age):\n",
    "        self.name = name\n",
    "        self.age = age\n",
    "\n",
    "    def Display(self):\n",
    "        print(f\"Name : {self.name} Age : {self.age} Species : {self.species}\")\n",
    "        "
   ]
  },
  {
   "cell_type": "code",
   "execution_count": 115,
   "id": "fe4c8b82-a014-44d5-8684-b3d144a98f2d",
   "metadata": {},
   "outputs": [],
   "source": [
    "D1 = Dog(\"Jim\",5)"
   ]
  },
  {
   "cell_type": "code",
   "execution_count": 117,
   "id": "5be5b1a0-72a5-4eae-a3a6-dc03ea820c77",
   "metadata": {},
   "outputs": [
    {
     "name": "stdout",
     "output_type": "stream",
     "text": [
      "Name : Jim Age : 5 Species : Canine\n"
     ]
    }
   ],
   "source": [
    "D1.Display()"
   ]
  },
  {
   "cell_type": "code",
   "execution_count": 119,
   "id": "f7b7d887-2aa6-4607-a71f-47b4574fe621",
   "metadata": {},
   "outputs": [],
   "source": []
  },
  {
   "cell_type": "code",
   "execution_count": 121,
   "id": "fe37beed-d53d-4137-a750-b2a795da4493",
   "metadata": {},
   "outputs": [
    {
     "name": "stdout",
     "output_type": "stream",
     "text": [
      "Name : Jim Age : 5 Species : Canine\n"
     ]
    }
   ],
   "source": []
  },
  {
   "cell_type": "code",
   "execution_count": null,
   "id": "b5da7fe9-21cf-42ef-a82a-b9806f9e3076",
   "metadata": {},
   "outputs": [],
   "source": []
  }
 ],
 "metadata": {
  "kernelspec": {
   "display_name": "Python 3 (ipykernel)",
   "language": "python",
   "name": "python3"
  },
  "language_info": {
   "codemirror_mode": {
    "name": "ipython",
    "version": 3
   },
   "file_extension": ".py",
   "mimetype": "text/x-python",
   "name": "python",
   "nbconvert_exporter": "python",
   "pygments_lexer": "ipython3",
   "version": "3.11.5"
  }
 },
 "nbformat": 4,
 "nbformat_minor": 5
}
