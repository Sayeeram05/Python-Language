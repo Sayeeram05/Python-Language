{
 "cells": [
  {
   "cell_type": "markdown",
   "id": "3cd95f64-c44c-494c-935a-02430356ed6d",
   "metadata": {},
   "source": [
    "# Beginner Level"
   ]
  },
  {
   "cell_type": "markdown",
   "id": "78e19c08-b983-4edb-b9dd-daf8e32f9744",
   "metadata": {},
   "source": [
    "**1. Write a Python class Person with two attributes: name and age. Define a method to display the person's details, and create an object of this class.**"
   ]
  },
  {
   "cell_type": "code",
   "execution_count": 186,
   "id": "2a31d9a2-32a4-4433-a6f5-8901db22af94",
   "metadata": {},
   "outputs": [],
   "source": [
    "class person:\n",
    "    def __init__(self, name:str, age:int):\n",
    "        self.__name = name\n",
    "        self.__age = age\n",
    "\n",
    "    @property\n",
    "    def name(self):\n",
    "        return self.__name\n",
    "    @property\n",
    "    def age(self):\n",
    "        return self.__age\n",
    "\n",
    "    @name.setter\n",
    "    def name(self,NewName):\n",
    "        self.__name = NewName\n",
    "    @age.setter\n",
    "    def age(self,NewAge):\n",
    "        self.__age = NewAge\n",
    "\n",
    "    def Dispaly(self):\n",
    "        print(f\"Name : {self.__name} Age : {self.__age}\")"
   ]
  },
  {
   "cell_type": "code",
   "execution_count": 187,
   "id": "dd05447d-337b-4c77-885d-5bae8253caa0",
   "metadata": {},
   "outputs": [],
   "source": [
    "P1 = person(\"Sai\",20)"
   ]
  },
  {
   "cell_type": "code",
   "execution_count": 188,
   "id": "d24bea7e-1233-4597-abb0-3aae9c5ce2af",
   "metadata": {},
   "outputs": [
    {
     "name": "stdout",
     "output_type": "stream",
     "text": [
      "Name : Sai Age : 20\n"
     ]
    }
   ],
   "source": [
    "P1.Dispaly()"
   ]
  },
  {
   "cell_type": "code",
   "execution_count": 189,
   "id": "1ddda082-8663-46f4-8152-eb6eebab8347",
   "metadata": {},
   "outputs": [],
   "source": [
    "P1.name = \"SaiRam\""
   ]
  },
  {
   "cell_type": "code",
   "execution_count": 190,
   "id": "3ba22609-f866-4b65-ade2-fd1e8bec37a8",
   "metadata": {},
   "outputs": [
    {
     "name": "stdout",
     "output_type": "stream",
     "text": [
      "Name : SaiRam Age : 20\n"
     ]
    }
   ],
   "source": [
    "P1.Dispaly()"
   ]
  },
  {
   "cell_type": "markdown",
   "id": "17b589ea-edb5-476e-b249-3c7a6610f7e0",
   "metadata": {},
   "source": [
    "**2. Create a class Student with private attributes __name and __grade. Use getter and setter methods to access and update the values.**"
   ]
  },
  {
   "cell_type": "code",
   "execution_count": 192,
   "id": "cf312829-bbe2-4ca8-a21e-4798fe34063e",
   "metadata": {},
   "outputs": [],
   "source": [
    "class Student:\n",
    "    def __init__(self,name:str, grade:str):\n",
    "        self._name = name\n",
    "        self._grade = grade\n",
    "\n",
    "    @property\n",
    "    def name(self):\n",
    "        return self._name\n",
    "    @property\n",
    "    def grade(self):\n",
    "        return self._grage\n",
    "\n",
    "    @name.setter\n",
    "    def name(self,NewName):\n",
    "        self._name = NewName\n",
    "    @grade.setter\n",
    "    def grade(self,Newgrade):\n",
    "        self._grade = Newgrade\n",
    "    \n",
    "    def Display(self):\n",
    "        print(f\"Name : {self._name} Grade : {self._grade}\")\n"
   ]
  },
  {
   "cell_type": "code",
   "execution_count": 193,
   "id": "f62c986d-6ab6-41b0-a9d6-57669da608ee",
   "metadata": {},
   "outputs": [],
   "source": [
    "S1 = Student(\"Sai\",\"A\")"
   ]
  },
  {
   "cell_type": "code",
   "execution_count": 194,
   "id": "7041811f-93dc-42f0-8a6e-1754a2ae7b26",
   "metadata": {},
   "outputs": [
    {
     "name": "stdout",
     "output_type": "stream",
     "text": [
      "Sai\n"
     ]
    }
   ],
   "source": [
    "print(S1._name)"
   ]
  },
  {
   "cell_type": "code",
   "execution_count": 195,
   "id": "0376baf9-ce36-4575-aaf1-ce44e5d40e6a",
   "metadata": {},
   "outputs": [],
   "source": [
    "S1.name = \"Sairam\""
   ]
  },
  {
   "cell_type": "code",
   "execution_count": 196,
   "id": "894e047a-e5dd-499c-83c7-2854578fc79a",
   "metadata": {},
   "outputs": [
    {
     "name": "stdout",
     "output_type": "stream",
     "text": [
      "Name : Sairam Grade : A\n"
     ]
    }
   ],
   "source": [
    "S1.Display()"
   ]
  },
  {
   "cell_type": "markdown",
   "id": "8929bcd3-f294-4aa5-b249-e8e973a103f4",
   "metadata": {},
   "source": [
    "**3. Define a class Dog with a class attribute species = 'Canine'. Also, include an instance attribute for name and age. Print both class and instance attributes.**"
   ]
  },
  {
   "cell_type": "code",
   "execution_count": 198,
   "id": "9702fdae-f10b-4f43-aa72-13ac946604e8",
   "metadata": {},
   "outputs": [],
   "source": [
    "class Dog:\n",
    "    species = 'Canine'\n",
    "    \n",
    "    def __init__(self,name,age):\n",
    "        self.name = name\n",
    "        self.age = age\n",
    "\n",
    "    def Display(self):\n",
    "        print(f\"Name : {self.name} Age : {self.age} Species : {self.species}\")\n",
    "        "
   ]
  },
  {
   "cell_type": "code",
   "execution_count": 199,
   "id": "fe4c8b82-a014-44d5-8684-b3d144a98f2d",
   "metadata": {},
   "outputs": [],
   "source": [
    "D1 = Dog(\"Jim\",5)"
   ]
  },
  {
   "cell_type": "code",
   "execution_count": 200,
   "id": "5be5b1a0-72a5-4eae-a3a6-dc03ea820c77",
   "metadata": {},
   "outputs": [
    {
     "name": "stdout",
     "output_type": "stream",
     "text": [
      "Name : Jim Age : 5 Species : Canine\n"
     ]
    }
   ],
   "source": [
    "D1.Display()"
   ]
  },
  {
   "cell_type": "code",
   "execution_count": 201,
   "id": "f7b7d887-2aa6-4607-a71f-47b4574fe621",
   "metadata": {},
   "outputs": [
    {
     "name": "stdout",
     "output_type": "stream",
     "text": [
      "Name : Jim Age : 5 Species : Canine\n"
     ]
    }
   ],
   "source": [
    "D1.Display()"
   ]
  },
  {
   "cell_type": "markdown",
   "id": "42fff1ac-7973-485a-87d8-9976052a2af1",
   "metadata": {},
   "source": [
    "**4. Create a base class Animal with a method sound(). Derive two classes Dog and Cat from it, and override the sound() method to print respective animal sounds.**"
   ]
  },
  {
   "cell_type": "code",
   "execution_count": 203,
   "id": "b5da7fe9-21cf-42ef-a82a-b9806f9e3076",
   "metadata": {},
   "outputs": [],
   "source": [
    "class Animal:\n",
    "    def Sound(self):\n",
    "        print(\"Animal\")\n",
    "class Dog(Animal):\n",
    "    def Sound(self):\n",
    "        print(\"Dog\")\n",
    "class Cat(Animal):\n",
    "    def Sound(self):\n",
    "        print(\"Cat\")"
   ]
  },
  {
   "cell_type": "code",
   "execution_count": 204,
   "id": "dacaac02-0573-4cc9-b4bf-c84508f7025b",
   "metadata": {},
   "outputs": [
    {
     "name": "stdout",
     "output_type": "stream",
     "text": [
      "Dog\n"
     ]
    }
   ],
   "source": [
    "D1 = Dog()\n",
    "D1.Sound()"
   ]
  },
  {
   "cell_type": "code",
   "execution_count": 205,
   "id": "d91fa678-efa3-40d2-81ef-622f4391c979",
   "metadata": {},
   "outputs": [
    {
     "name": "stdout",
     "output_type": "stream",
     "text": [
      "Cat\n"
     ]
    }
   ],
   "source": [
    "C1 = Cat()\n",
    "C1.Sound()"
   ]
  },
  {
   "cell_type": "code",
   "execution_count": 206,
   "id": "bb5632eb-d794-41e5-814d-8fa849d4e256",
   "metadata": {},
   "outputs": [
    {
     "name": "stdout",
     "output_type": "stream",
     "text": [
      "Animal\n"
     ]
    }
   ],
   "source": [
    "Animal.Sound(C1)"
   ]
  },
  {
   "cell_type": "code",
   "execution_count": 207,
   "id": "14c39af1-f0a0-4b21-8337-798887a2dae2",
   "metadata": {},
   "outputs": [],
   "source": [
    "A1 = Animal()"
   ]
  },
  {
   "cell_type": "code",
   "execution_count": 208,
   "id": "c6238af1-f049-4040-afb1-b2d646e3c570",
   "metadata": {},
   "outputs": [
    {
     "name": "stdout",
     "output_type": "stream",
     "text": [
      "Animal\n"
     ]
    }
   ],
   "source": [
    "A1.Sound()"
   ]
  },
  {
   "cell_type": "markdown",
   "id": "22183d40-30cc-4957-877f-7dca2cadc967",
   "metadata": {},
   "source": [
    "**5. Create two classes Mother and Father, both having a method show(). Derive a class Child from both, and invoke the show() methods from both parent classes.**"
   ]
  },
  {
   "cell_type": "code",
   "execution_count": 210,
   "id": "db5cc17a-d9a6-415d-b252-ebef459a8add",
   "metadata": {},
   "outputs": [],
   "source": [
    "class Father:\n",
    "    name = \"F\"\n",
    "    def Show(self):\n",
    "        print(\"Father\",self.name)\n",
    "class Mother:\n",
    "    name = \"M\"\n",
    "    def Show(self):\n",
    "        print(\"Mother\",self.name)\n",
    "class Child(Father,Mother):\n",
    "    name = \"C\"\n",
    "    def Show(self):\n",
    "        print(\"Child\",self.name)\n",
    "        Father.Show(self)\n",
    "        Mother.Show(self)"
   ]
  },
  {
   "cell_type": "code",
   "execution_count": 211,
   "id": "11668f78-5a89-4f85-9e1e-63cb1558041f",
   "metadata": {},
   "outputs": [],
   "source": [
    "C1 = Child()"
   ]
  },
  {
   "cell_type": "code",
   "execution_count": 212,
   "id": "7f35d97c-5d4d-4198-b421-efd1f0c0187f",
   "metadata": {},
   "outputs": [
    {
     "name": "stdout",
     "output_type": "stream",
     "text": [
      "Child C\n",
      "Father C\n",
      "Mother C\n"
     ]
    }
   ],
   "source": [
    "C1.Show()"
   ]
  },
  {
   "cell_type": "code",
   "execution_count": 213,
   "id": "211cd559-598d-4c79-9d42-765f73894dd9",
   "metadata": {},
   "outputs": [
    {
     "name": "stdout",
     "output_type": "stream",
     "text": [
      "Father C\n"
     ]
    }
   ],
   "source": [
    "Father.Show(C1)"
   ]
  },
  {
   "cell_type": "code",
   "execution_count": 214,
   "id": "cb3a9955-2320-40e2-8f17-70cdd2ee4d2a",
   "metadata": {},
   "outputs": [
    {
     "name": "stdout",
     "output_type": "stream",
     "text": [
      "Mother C\n"
     ]
    }
   ],
   "source": [
    "Mother.Show(C1)"
   ]
  },
  {
   "cell_type": "code",
   "execution_count": 215,
   "id": "fe810a08-12c3-49f0-ba20-346d117556a6",
   "metadata": {},
   "outputs": [],
   "source": [
    "F1 = Father()"
   ]
  },
  {
   "cell_type": "code",
   "execution_count": 216,
   "id": "c65380d2-507d-4c4b-a57e-68ee39ce51e2",
   "metadata": {},
   "outputs": [
    {
     "name": "stdout",
     "output_type": "stream",
     "text": [
      "Father F\n"
     ]
    }
   ],
   "source": [
    "F1.Show()"
   ]
  },
  {
   "cell_type": "markdown",
   "id": "75f93548-ca0f-481b-903b-de78ef8ea5fb",
   "metadata": {},
   "source": [
    "**6. Create a class Employee with a class method set_company() to set the company name for all employees. Also, add a static method to check if a given salary is valid.**"
   ]
  },
  {
   "cell_type": "code",
   "execution_count": 218,
   "id": "d00f6760-ba5c-4627-bda8-9f00fd938134",
   "metadata": {},
   "outputs": [],
   "source": [
    "class Employee:\n",
    "    @classmethod\n",
    "    def SetCompany(cls,name):\n",
    "        cls.name = name\n",
    "\n",
    "    @staticmethod\n",
    "    def CheckSalaty(Salary):\n",
    "        if(Salary > 0):\n",
    "            return \"Valid\"\n",
    "        return \"Not Vaild\"\n",
    "    \n",
    "        "
   ]
  },
  {
   "cell_type": "code",
   "execution_count": 219,
   "id": "ebbe9f0b-a0f8-4c3d-af58-a430713b2545",
   "metadata": {},
   "outputs": [],
   "source": [
    "Employee.SetCompany(\"Google\")"
   ]
  },
  {
   "cell_type": "code",
   "execution_count": 220,
   "id": "1d40e409-33ba-4b0c-b34a-552f96d12d1c",
   "metadata": {},
   "outputs": [
    {
     "data": {
      "text/plain": [
       "'Google'"
      ]
     },
     "execution_count": 220,
     "metadata": {},
     "output_type": "execute_result"
    }
   ],
   "source": [
    "Employee.name"
   ]
  },
  {
   "cell_type": "code",
   "execution_count": 221,
   "id": "9a73a9e9-3735-4e12-ada8-629834a10f84",
   "metadata": {},
   "outputs": [
    {
     "data": {
      "text/plain": [
       "'Valid'"
      ]
     },
     "execution_count": 221,
     "metadata": {},
     "output_type": "execute_result"
    }
   ],
   "source": [
    "Employee.CheckSalaty(5)"
   ]
  },
  {
   "cell_type": "markdown",
   "id": "8aaf91f3-4a93-4fcf-b382-4ec06d9d5d68",
   "metadata": {},
   "source": [
    "**7. Write a Python program that demonstrates polymorphism by creating different shapes (e.g., Circle, Rectangle) with a common method area(). Call the area() method for different shapes to calculate their area.**"
   ]
  },
  {
   "cell_type": "code",
   "execution_count": 223,
   "id": "dd6d9624-32f6-494a-96af-5a2cca13b790",
   "metadata": {},
   "outputs": [],
   "source": [
    "class Shape():\n",
    "    def Area(self):\n",
    "        pass\n",
    "\n",
    "class Circle(Shape):\n",
    "    def __init__(self,R:float):\n",
    "        self.R = float(R)\n",
    "    def Area(self):\n",
    "        print(\"Circle : \",3.14*(self.R**2))\n",
    "class Rect(Shape):\n",
    "    def __init__(self,L:float,B:float):\n",
    "        self.L = L\n",
    "        self.B = B\n",
    "    def Area(self):\n",
    "        print(\"Rect :\",self.L*self.B)"
   ]
  },
  {
   "cell_type": "code",
   "execution_count": 224,
   "id": "dae2a184-61e8-4e52-adf8-c32eb9ee6eb2",
   "metadata": {},
   "outputs": [],
   "source": [
    "S1 = Shape()"
   ]
  },
  {
   "cell_type": "code",
   "execution_count": 225,
   "id": "cbb80ff7-1958-47fd-a5cf-88f67b48b87b",
   "metadata": {},
   "outputs": [],
   "source": [
    "S1.Area()"
   ]
  },
  {
   "cell_type": "code",
   "execution_count": 226,
   "id": "44b596c2-790c-4a96-97de-eb84df9e76ae",
   "metadata": {},
   "outputs": [],
   "source": [
    "C1 = Circle(4)"
   ]
  },
  {
   "cell_type": "code",
   "execution_count": 227,
   "id": "db2f9dcd-37cf-4f8a-a380-082569c3e1c6",
   "metadata": {},
   "outputs": [
    {
     "name": "stdout",
     "output_type": "stream",
     "text": [
      "Circle :  50.24\n"
     ]
    }
   ],
   "source": [
    "C1.Area()"
   ]
  },
  {
   "cell_type": "code",
   "execution_count": 228,
   "id": "5028cb3d-7410-4866-a8d7-a7c8f3bbc99e",
   "metadata": {},
   "outputs": [],
   "source": [
    "R1 = Rect(2,4)"
   ]
  },
  {
   "cell_type": "code",
   "execution_count": 267,
   "id": "d0a9ec41-b2aa-418b-bf4b-5d56b2705f00",
   "metadata": {},
   "outputs": [
    {
     "name": "stdout",
     "output_type": "stream",
     "text": [
      "Rect : 8\n"
     ]
    }
   ],
   "source": [
    "R1.Area()"
   ]
  },
  {
   "cell_type": "code",
   "execution_count": null,
   "id": "050d64f7-40eb-4f57-ad5d-cc7500238b4a",
   "metadata": {},
   "outputs": [],
   "source": []
  }
 ],
 "metadata": {
  "kernelspec": {
   "display_name": "Python 3 (ipykernel)",
   "language": "python",
   "name": "python3"
  },
  "language_info": {
   "codemirror_mode": {
    "name": "ipython",
    "version": 3
   },
   "file_extension": ".py",
   "mimetype": "text/x-python",
   "name": "python",
   "nbconvert_exporter": "python",
   "pygments_lexer": "ipython3",
   "version": "3.11.5"
  }
 },
 "nbformat": 4,
 "nbformat_minor": 5
}
