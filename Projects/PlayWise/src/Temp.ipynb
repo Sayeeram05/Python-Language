{
 "cells": [
  {
   "cell_type": "code",
   "execution_count": 113,
   "id": "006b84b0",
   "metadata": {},
   "outputs": [
    {
     "name": "stdout",
     "output_type": "stream",
     "text": [
      "F : 1 2 3 4 5 \n",
      "B : 5 4 3 2 1 \n",
      "T\n",
      "5 4\n",
      "None\n",
      "F : 2 3 4 1 5 \n",
      "B : 5 1 4 3 2 \n"
     ]
    }
   ],
   "source": [
    "class Node:\n",
    "    def __init__(self,Data):\n",
    "        self.Prev = None\n",
    "        self.Data = Data\n",
    "        self.Next = None\n",
    "    \n",
    "class PlaylistEngine:\n",
    "    def __init__(self):\n",
    "        self.Head = self.Tail = None\n",
    "        self.Length = 0\n",
    "    \n",
    "    def isempty(self):\n",
    "        return self.Head is None\n",
    "    \n",
    "    def Traversal(self):\n",
    "        print(\"F : \",end=\"\")\n",
    "        Temp = self.Head\n",
    "        while(Temp != None):\n",
    "            print(Temp.Data,end=\" \")\n",
    "            Temp = Temp.Next\n",
    "        \n",
    "        print(\"\\nB : \",end=\"\")\n",
    "        Temp = self.Tail\n",
    "        while(Temp != None):\n",
    "            print(Temp.Data,end=\" \")\n",
    "            Temp = Temp.Prev\n",
    "        print()\n",
    "        \n",
    "        \n",
    "    def add_song(self,Data):\n",
    "        NewNode = Node(Data)\n",
    "        if self.isempty():\n",
    "            self.Head = self.Tail = NewNode\n",
    "        else:\n",
    "            self.Tail.Next = NewNode\n",
    "            NewNode.Prev = self.Tail\n",
    "            self.Tail = NewNode\n",
    "        self.Length += 1\n",
    "        \n",
    "\n",
    "    def delete_song(self,index):\n",
    "        if self.isempty() or index >= self.Length or index < 0:\n",
    "            return False\n",
    "        \n",
    "        elif(self.Head == self.Tail):\n",
    "            Temp = self.Head\n",
    "            self.Head = self.Tail = None\n",
    "            \n",
    "        elif(index == 0):\n",
    "            Temp = self.Head\n",
    "            self.Head = self.Head.Next\n",
    "            self.Head.Prev = None\n",
    "            \n",
    "        elif(index == self.Length - 1):\n",
    "            Temp = self.Tail\n",
    "            self.Tail = self.Tail.Prev\n",
    "            self.Tail.Next = None\n",
    "            \n",
    "        else:\n",
    "            if(index < self.Length // 2):\n",
    "                Temp = self.Head\n",
    "                for _ in range(index):\n",
    "                    Temp = Temp.Next\n",
    "            else:\n",
    "                Temp = self.Tail\n",
    "                index = self.Length - 1 - index\n",
    "                for _ in range(index):\n",
    "                    Temp = Temp.Prev\n",
    "\n",
    "            Temp.Prev.Next = Temp.Next\n",
    "            Temp.Next.Prev = Temp.Prev\n",
    "                \n",
    "        self.Length -= 1\n",
    "        Temp.Next = Temp.Prev = None\n",
    "        return Temp\n",
    "    \n",
    "    \n",
    "            \n",
    "    def move_song(self,from_index,to_index):\n",
    "        if(from_index == to_index or self.isempty() or from_index < 0 or from_index >= self.Length or to_index < 0 or to_index >= self.Length):\n",
    "            return -1\n",
    "        else:\n",
    "            FromNode = self.delete_song(from_index)\n",
    "            if(to_index == 0):\n",
    "                self.Head.Prev = FromNode\n",
    "                FromNode.Next = self.Head\n",
    "                self.Head = FromNode\n",
    "            elif(to_index == self.Length):\n",
    "                self.Tail.Next = FromNode\n",
    "                FromNode.Prev = self.Tail\n",
    "                self.Tail = FromNode\n",
    "            else:\n",
    "                if(to_index < self.Length // 2):\n",
    "                    print(\"H\")\n",
    "                    Temp = self.Head\n",
    "                    for _ in range(to_index):\n",
    "                        Temp = Temp.Next\n",
    "                else:\n",
    "                    print(\"T\")\n",
    "                    Temp = self.Tail\n",
    "                    for _ in range(self.Length - 1 - to_index):\n",
    "                        Temp = Temp.Prev\n",
    "                print(Temp.Data,Temp.Prev.Data)\n",
    "                Temp.Prev.Next = FromNode\n",
    "                FromNode.Next = Temp\n",
    "                FromNode.Prev = Temp.Prev\n",
    "                Temp.Prev = FromNode\n",
    "                \n",
    "            self.Length += 1                        \n",
    "    def reverse_playlist(self):\n",
    "        if self.isempty():\n",
    "            return -1\n",
    "        else:\n",
    "            Temp = self.Head\n",
    "            while(Temp is not None):\n",
    "                NextNode = Temp.Next\n",
    "                Temp.Prev,Temp.Next = Temp.Next,Temp.Prev\n",
    "                Temp = NextNode\n",
    "            self.Head,self.Tail = self.Tail,self.Head\n",
    "\n",
    "\n",
    "P1 = PlaylistEngine()\n",
    "P1.add_song(1)\n",
    "P1.add_song(2)\n",
    "P1.add_song(3)\n",
    "P1.add_song(4)\n",
    "P1.add_song(5)\n",
    "P1.Traversal()\n",
    "\n",
    "print(P1.move_song(0,3))\n",
    "P1.Traversal()"
   ]
  },
  {
   "cell_type": "code",
   "execution_count": 114,
   "id": "715f2c16",
   "metadata": {},
   "outputs": [
    {
     "name": "stdout",
     "output_type": "stream",
     "text": [
      "F : 1 2 3 4 5 \n",
      "B : 5 4 3 2 1 \n"
     ]
    }
   ],
   "source": [
    "P1 = PlaylistEngine()\n",
    "P1.add_song(1)\n",
    "P1.add_song(2)\n",
    "P1.add_song(3)\n",
    "P1.add_song(4)\n",
    "P1.add_song(5)\n",
    "P1.Traversal()"
   ]
  },
  {
   "cell_type": "code",
   "execution_count": 115,
   "id": "84f8d07f",
   "metadata": {},
   "outputs": [
    {
     "name": "stdout",
     "output_type": "stream",
     "text": [
      "T\n",
      "5 4\n",
      "None\n",
      "F : 2 3 4 1 5 \n",
      "B : 5 1 4 3 2 \n"
     ]
    }
   ],
   "source": [
    "print(P1.move_song(0,3))\n",
    "P1.Traversal()"
   ]
  },
  {
   "cell_type": "code",
   "execution_count": 116,
   "id": "d4ad2381",
   "metadata": {},
   "outputs": [
    {
     "name": "stdout",
     "output_type": "stream",
     "text": [
      "None\n",
      "F : 5 2 3 4 1 \n",
      "B : 1 4 3 2 5 \n"
     ]
    }
   ],
   "source": [
    "print(P1.move_song(4,0))\n",
    "P1.Traversal()"
   ]
  },
  {
   "cell_type": "code",
   "execution_count": null,
   "id": "3a674935",
   "metadata": {},
   "outputs": [],
   "source": []
  },
  {
   "cell_type": "code",
   "execution_count": 117,
   "id": "292cc8e9",
   "metadata": {},
   "outputs": [
    {
     "name": "stdout",
     "output_type": "stream",
     "text": [
      "None\n",
      "F : 1 5 2 3 4 \n",
      "B : 4 3 2 5 1 \n"
     ]
    }
   ],
   "source": [
    "print(P1.move_song(4,0))\n",
    "P1.Traversal()"
   ]
  },
  {
   "cell_type": "code",
   "execution_count": 118,
   "id": "e3c42944",
   "metadata": {},
   "outputs": [
    {
     "name": "stdout",
     "output_type": "stream",
     "text": [
      "0 0\n",
      "F : 1 2 3 4 5 \n",
      "B : 5 4 3 2 1 \n",
      "\n",
      "0 1\n",
      "H\n",
      "3 2\n",
      "F : 2 1 3 4 5 \n",
      "B : 5 4 3 1 2 \n",
      "\n",
      "0 2\n",
      "T\n",
      "4 3\n",
      "F : 2 3 1 4 5 \n",
      "B : 5 4 1 3 2 \n",
      "\n",
      "0 3\n",
      "T\n",
      "5 4\n",
      "F : 2 3 4 1 5 \n",
      "B : 5 1 4 3 2 \n",
      "\n",
      "0 4\n",
      "F : 2 3 4 5 1 \n",
      "B : 1 5 4 3 2 \n",
      "\n",
      "1 0\n",
      "F : 2 1 3 4 5 \n",
      "B : 5 4 3 1 2 \n",
      "\n",
      "1 1\n",
      "F : 1 2 3 4 5 \n",
      "B : 5 4 3 2 1 \n",
      "\n",
      "1 2\n",
      "T\n",
      "4 3\n",
      "F : 1 3 2 4 5 \n",
      "B : 5 4 2 3 1 \n",
      "\n",
      "1 3\n",
      "T\n",
      "5 4\n",
      "F : 1 3 4 2 5 \n",
      "B : 5 2 4 3 1 \n",
      "\n",
      "1 4\n",
      "F : 1 3 4 5 2 \n",
      "B : 2 5 4 3 1 \n",
      "\n",
      "2 0\n",
      "F : 3 1 2 4 5 \n",
      "B : 5 4 2 1 3 \n",
      "\n",
      "2 1\n",
      "H\n",
      "2 1\n",
      "F : 1 3 2 4 5 \n",
      "B : 5 4 2 3 1 \n",
      "\n",
      "2 2\n",
      "F : 1 2 3 4 5 \n",
      "B : 5 4 3 2 1 \n",
      "\n",
      "2 3\n",
      "T\n",
      "5 4\n",
      "F : 1 2 4 3 5 \n",
      "B : 5 3 4 2 1 \n",
      "\n",
      "2 4\n",
      "F : 1 2 4 5 3 \n",
      "B : 3 5 4 2 1 \n",
      "\n",
      "3 0\n",
      "F : 4 1 2 3 5 \n",
      "B : 5 3 2 1 4 \n",
      "\n",
      "3 1\n",
      "H\n",
      "2 1\n",
      "F : 1 4 2 3 5 \n",
      "B : 5 3 2 4 1 \n",
      "\n",
      "3 2\n",
      "T\n",
      "3 2\n",
      "F : 1 2 4 3 5 \n",
      "B : 5 3 4 2 1 \n",
      "\n",
      "3 3\n",
      "F : 1 2 3 4 5 \n",
      "B : 5 4 3 2 1 \n",
      "\n",
      "3 4\n",
      "F : 1 2 3 5 4 \n",
      "B : 4 5 3 2 1 \n",
      "\n",
      "4 0\n",
      "F : 5 1 2 3 4 \n",
      "B : 4 3 2 1 5 \n",
      "\n",
      "4 1\n",
      "H\n",
      "2 1\n",
      "F : 1 5 2 3 4 \n",
      "B : 4 3 2 5 1 \n",
      "\n",
      "4 2\n",
      "T\n",
      "3 2\n",
      "F : 1 2 5 3 4 \n",
      "B : 4 3 5 2 1 \n",
      "\n",
      "4 3\n",
      "T\n",
      "4 3\n",
      "F : 1 2 3 5 4 \n",
      "B : 4 5 3 2 1 \n",
      "\n",
      "4 4\n",
      "F : 1 2 3 4 5 \n",
      "B : 5 4 3 2 1 \n",
      "\n"
     ]
    }
   ],
   "source": [
    "for i in range(5):\n",
    "    for j in range(5):\n",
    "        P1 = PlaylistEngine()\n",
    "        P1.add_song(1)\n",
    "        P1.add_song(2)\n",
    "        P1.add_song(3)\n",
    "        P1.add_song(4)\n",
    "        P1.add_song(5)\n",
    "        \n",
    "        print(i,j)\n",
    "        P1.move_song(i,j)\n",
    "        P1.Traversal()\n",
    "        \n",
    "        print()"
   ]
  },
  {
   "cell_type": "code",
   "execution_count": 119,
   "id": "d4a80349",
   "metadata": {},
   "outputs": [
    {
     "name": "stdout",
     "output_type": "stream",
     "text": [
      "F : 1 2 3 4 5 \n",
      "B : 5 4 3 2 1 \n"
     ]
    }
   ],
   "source": [
    "P1.Traversal()"
   ]
  },
  {
   "cell_type": "code",
   "execution_count": 120,
   "id": "e6a2143f",
   "metadata": {},
   "outputs": [
    {
     "name": "stdout",
     "output_type": "stream",
     "text": [
      "F : 5 4 3 2 1 \n",
      "B : 1 2 3 4 5 \n"
     ]
    }
   ],
   "source": [
    "P1.reverse_playlist()\n",
    "P1.Traversal()\n"
   ]
  },
  {
   "cell_type": "code",
   "execution_count": 135,
   "id": "bcc6ecc6",
   "metadata": {},
   "outputs": [],
   "source": [
    "P2 = PlaylistEngine()\n"
   ]
  },
  {
   "cell_type": "code",
   "execution_count": 136,
   "id": "95e3d652",
   "metadata": {},
   "outputs": [
    {
     "data": {
      "text/plain": [
       "-1"
      ]
     },
     "execution_count": 136,
     "metadata": {},
     "output_type": "execute_result"
    }
   ],
   "source": [
    "P2.reverse_playlist()"
   ]
  },
  {
   "cell_type": "code",
   "execution_count": 137,
   "id": "c587a3eb",
   "metadata": {},
   "outputs": [
    {
     "data": {
      "text/plain": [
       "False"
      ]
     },
     "execution_count": 137,
     "metadata": {},
     "output_type": "execute_result"
    }
   ],
   "source": [
    "P2.delete_song(1)"
   ]
  },
  {
   "cell_type": "code",
   "execution_count": 138,
   "id": "1e480540",
   "metadata": {},
   "outputs": [],
   "source": [
    "P2.add_song(1)"
   ]
  },
  {
   "cell_type": "code",
   "execution_count": 141,
   "id": "a866e591",
   "metadata": {},
   "outputs": [
    {
     "name": "stdout",
     "output_type": "stream",
     "text": [
      "F : 2 1 \n",
      "B : 1 2 \n"
     ]
    }
   ],
   "source": [
    "P2.reverse_playlist()\n",
    "P2.Traversal()"
   ]
  },
  {
   "cell_type": "code",
   "execution_count": 140,
   "id": "1d6b9d1d",
   "metadata": {},
   "outputs": [
    {
     "name": "stdout",
     "output_type": "stream",
     "text": [
      "F : 1 2 \n",
      "B : 2 1 \n"
     ]
    }
   ],
   "source": [
    "P2.add_song(2)\n",
    "P2.Traversal()"
   ]
  },
  {
   "cell_type": "code",
   "execution_count": null,
   "id": "2b282fe7",
   "metadata": {},
   "outputs": [],
   "source": []
  }
 ],
 "metadata": {
  "kernelspec": {
   "display_name": "base",
   "language": "python",
   "name": "python3"
  },
  "language_info": {
   "codemirror_mode": {
    "name": "ipython",
    "version": 3
   },
   "file_extension": ".py",
   "mimetype": "text/x-python",
   "name": "python",
   "nbconvert_exporter": "python",
   "pygments_lexer": "ipython3",
   "version": "3.11.5"
  }
 },
 "nbformat": 4,
 "nbformat_minor": 5
}
